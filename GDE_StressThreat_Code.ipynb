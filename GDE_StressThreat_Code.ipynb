{
 "cells": [
  {
   "cell_type": "markdown",
   "metadata": {},
   "source": [
    "# Notebook to Score up Stress and Threat attributes for GDEs\n",
    "\n",
    "Sum up scores for stress and threat attributes for each GDE layer.\n",
    "\n",
    "Some stress/threat types will have more weight than others:\n",
    "- water withdrawal * 5\n",
    "- climate * 4\n",
    "- human activity * 3\n",
    "- non-native species * 2\n",
    "- ungulate * 1"
   ]
  },
  {
   "cell_type": "markdown",
   "metadata": {},
   "source": [
    "## Set up environments in ArcGIS Pro"
   ]
  },
  {
   "cell_type": "code",
   "execution_count": null,
   "metadata": {},
   "outputs": [],
   "source": [
    "# Import ArcGIS modules and check out spatial analyst extension\n",
    "import arcpy\n",
    "import os\n",
    "import pandas as pd\n",
    "import numpy as np\n",
    "from arcpy import env\n",
    "from arcpy.sa import *\n",
    "arcpy.CheckOutExtension(\"spatial\")"
   ]
  },
  {
   "cell_type": "code",
   "execution_count": null,
   "metadata": {},
   "outputs": [],
   "source": [
    "# Path to temporary geodatabase\n",
    "#path =  r\"folder_path\\gdbname.gdb\"\n",
    "path =  r\"K:\\GIS3\\Projects\\GDE\\Maps\\GDE_Threats\\GDE_Threats.gdb\"\n",
    "\n",
    "# Environment settings\n",
    "env.workspace = path\n",
    "env.overwriteOutput = True\n",
    "env.outputCoordinateSystem = arcpy.SpatialReference(26911) # Spatial reference NAD 1983 UTM Zone 11N. The code is '26911'"
   ]
  },
  {
   "cell_type": "code",
   "execution_count": null,
   "metadata": {},
   "outputs": [],
   "source": [
    "# GDE layers\n",
    "# springs = r'path_to_folder\\NV_iGDE_assess.gdb\\Springs'\n",
    "# wet = r'path_to_folder\\NV_iGDE_assess.gdb\\Wetlands'\n",
    "# phr = r'path_to_folder\\NV_iGDE_assess.gdb\\Phreatophytes_Explode'\n",
    "# lp = r'path_to_folder\\NV_iGDE_assess.gdb\\Lakes_Playas'\n",
    "# rs = r'path_to_folder\\NV_iGDE_assess.gdb\\Rivers_Streams'\n",
    "\n",
    "springs = r'E:\\RCF Data Recovery\\Recovered Files\\P00\\GDE_Threats\\Hydrology\\NV_iGDE_assess.gdb\\Springs'\n",
    "wet = r'E:\\RCF Data Recovery\\Recovered Files\\P00\\GDE_Threats\\Hydrology\\NV_iGDE_assess.gdb\\Wetlands'\n",
    "phr = r'E:\\RCF Data Recovery\\Recovered Files\\P00\\GDE_Threats\\Hydrology\\NV_iGDE_assess.gdb\\Phreatophytes_Explode'\n",
    "lp = r'E:\\RCF Data Recovery\\Recovered Files\\P00\\GDE_Threats\\Hydrology\\NV_iGDE_assess.gdb\\Lakes_Playas'\n",
    "rs = r'E:\\RCF Data Recovery\\Recovered Files\\P00\\GDE_Threats\\Hydrology\\NV_iGDE_assess.gdb\\Rivers_Streams'"
   ]
  },
  {
   "cell_type": "code",
   "execution_count": null,
   "metadata": {},
   "outputs": [],
   "source": [
    "# Custom functions\n",
    "\n",
    "# Function to fill rows with zeroes if values are null\n",
    "def null2zero(feature, field):\n",
    "    with arcpy.da.UpdateCursor(feature, field) as cursor:\n",
    "        for row in cursor:\n",
    "            if row[0] is None:\n",
    "                row[0] = 0\n",
    "                cursor.updateRow(row)\n",
    "    del cursor\n",
    "    return feature\n",
    "\n",
    "\n",
    "# Function to get numeric maximum of any feature's fields\n",
    "def getMax(feature, field):\n",
    "    all_rows = [i[0] for i in arcpy.da.SearchCursor(feature, field)]\n",
    "    max_val = max(all_rows)\n",
    "    return max_val"
   ]
  },
  {
   "cell_type": "markdown",
   "metadata": {},
   "source": [
    "## Springs"
   ]
  },
  {
   "cell_type": "code",
   "execution_count": null,
   "metadata": {},
   "outputs": [],
   "source": [
    "# Combine and normalize grouped scores\n",
    "[f.name for f in arcpy.ListFields(springs)]\n",
    "null2zero(springs, 'PumpStr')\n",
    "null2zero(springs, 'CommitThr')\n",
    "null2zero(springs, 'Shallow_GW')\n",
    "null2zero(springs, 'Falling_GW')\n",
    "null2zero(springs, 'Recharge')\n",
    "null2zero(springs, 'ClmThrR')\n",
    "null2zero(springs, 'InvSpp_Thr')\n",
    "null2zero(springs, 'InvSpp_Str')\n",
    "null2zero(springs, 'HousingThr')\n",
    "null2zero(springs, 'HousingStr')"
   ]
  },
  {
   "cell_type": "code",
   "execution_count": null,
   "metadata": {},
   "outputs": [],
   "source": [
    "# Water withdrawal weighting - stress\n",
    "max1 = getMax(springs, 'Falling_GW')\n",
    "max2 = getMax(springs, 'PumpStr')\n",
    "max_norm = max1 + max2\n",
    "print(max_norm)\n",
    "arcpy.AddField_management(springs, 'WW_Norm_Str', 'DOUBLE')\n",
    "where = '(!Falling_GW! + !PumpStr!) / ' + \"%s\" %max_norm\n",
    "arcpy.CalculateField_management(springs, 'WW_Norm_Str', where, 'PYTHON3')\n",
    "arcpy.AddField_management(springs, 'WW_Wgt_Str', 'DOUBLE')\n",
    "where = '(!WW_Norm_Str!) * 5'\n",
    "arcpy.CalculateField_management(springs, 'WW_Wgt_Str', where, 'PYTHON3')"
   ]
  },
  {
   "cell_type": "code",
   "execution_count": null,
   "metadata": {},
   "outputs": [],
   "source": [
    "# Water withdrawal weighting - threat\n",
    "max1 = getMax(springs, 'Shallow_GW')\n",
    "max2 = getMax(springs, 'CommitThr')\n",
    "max_norm = max1 + max2\n",
    "print(max_norm)\n",
    "arcpy.AddField_management(springs, 'WW_Norm_Thr', 'DOUBLE')\n",
    "where = '(!Shallow_GW! + !CommitThr!) / ' + \"%s\" %max_norm\n",
    "arcpy.CalculateField_management(springs, 'WW_Norm_Thr', where, 'PYTHON3') \n",
    "arcpy.AddField_management(springs, 'WW_Wgt_Thr', 'DOUBLE')\n",
    "where = '(!WW_Norm_Thr!) * 5'\n",
    "arcpy.CalculateField_management(springs, 'WW_Wgt_Thr', where, 'PYTHON3')"
   ]
  },
  {
   "cell_type": "code",
   "execution_count": null,
   "metadata": {},
   "outputs": [],
   "source": [
    "# Climate weighting - stress\n",
    "arcpy.AddField_management(springs, 'Cl_Wgt_Str', 'DOUBLE')\n",
    "where = '(!Recharge!) * 4'\n",
    "arcpy.CalculateField_management(springs, 'Cl_Wgt_Str', where, 'PYTHON3')"
   ]
  },
  {
   "cell_type": "code",
   "execution_count": null,
   "metadata": {},
   "outputs": [],
   "source": [
    "# Climate weighting - threat\n",
    "arcpy.AddField_management(springs, 'Cl_Wgt_Thr', 'DOUBLE')\n",
    "where = '(!ClmThrR!) * 4'\n",
    "arcpy.CalculateField_management(springs, 'Cl_Wgt_Thr', where, 'PYTHON3')"
   ]
  },
  {
   "cell_type": "code",
   "execution_count": null,
   "metadata": {},
   "outputs": [],
   "source": [
    "# Human activity weighting - stress\n",
    "max1 = getMax(springs, 'HousingStr')\n",
    "max2 = getMax(springs, 'SurfaceDiv')\n",
    "max_norm = max1 + max2\n",
    "print(max_norm)\n",
    "arcpy.AddField_management(springs, 'HA_Norm_Str', 'DOUBLE')\n",
    "where = '(!HousingStr! + !SurfaceDiv!) / ' + \"%s\" %max_norm\n",
    "arcpy.CalculateField_management(springs, 'HA_Norm_Str', where, 'PYTHON3')\n",
    "arcpy.AddField_management(springs, 'HA_Wgt_Str', 'DOUBLE')\n",
    "where = '(!HA_Norm_Str!) * 3'\n",
    "arcpy.CalculateField_management(springs, 'HA_Wgt_Str', where, 'PYTHON3')"
   ]
  },
  {
   "cell_type": "code",
   "execution_count": null,
   "metadata": {},
   "outputs": [],
   "source": [
    "# Human activity weighting - threat\n",
    "arcpy.AddField_management(springs, 'HA_Wgt_Thr', 'DOUBLE')\n",
    "where = '(!HousingThr!) * 3'\n",
    "arcpy.CalculateField_management(springs, 'HA_Wgt_Thr', where, 'PYTHON3')"
   ]
  },
  {
   "cell_type": "code",
   "execution_count": null,
   "metadata": {},
   "outputs": [],
   "source": [
    "# Non-native species weighting - stress\n",
    "arcpy.AddField_management(springs, 'NN_Wgt_Str', 'DOUBLE')\n",
    "where = '(!InvSpp_Str!) * 2'\n",
    "arcpy.CalculateField_management(springs, 'NN_Wgt_Str', where, 'PYTHON3')"
   ]
  },
  {
   "cell_type": "code",
   "execution_count": null,
   "metadata": {},
   "outputs": [],
   "source": [
    "# Non-native species weighting - threat\n",
    "arcpy.AddField_management(springs, 'NN_Wgt_Thr', 'DOUBLE')\n",
    "where = '(!InvSpp_Thr!) * 2'\n",
    "arcpy.CalculateField_management(springs, 'NN_Wgt_Thr', where, 'PYTHON3')"
   ]
  },
  {
   "cell_type": "code",
   "execution_count": null,
   "metadata": {},
   "outputs": [],
   "source": [
    "# Ungulate weighting - stress (same as threat)\n",
    "arcpy.AddField_management(springs, 'Ung_Wgt_Str', 'DOUBLE')\n",
    "where = '(!UnguStr!) * 1'\n",
    "arcpy.CalculateField_management(springs, 'Ung_Wgt_Str', where, 'PYTHON3')"
   ]
  },
  {
   "cell_type": "code",
   "execution_count": null,
   "metadata": {},
   "outputs": [],
   "source": [
    "# Ungulate weighting - threat (same as stress)\n",
    "arcpy.AddField_management(springs, 'Ung_Wgt_Thr', 'DOUBLE')\n",
    "where = '(!UnguStr!) * 1'\n",
    "arcpy.CalculateField_management(springs, 'Ung_Wgt_Thr', where, 'PYTHON3')"
   ]
  },
  {
   "cell_type": "code",
   "execution_count": null,
   "metadata": {},
   "outputs": [],
   "source": [
    "# Sum all stress and threat scores\n",
    "[f.name for f in arcpy.ListFields(springs)]\n",
    "arcpy.AddField_management(springs, 'ScoreStr', 'DOUBLE')\n",
    "arcpy.CalculateField_management(springs, 'ScoreStr', '!WW_Wgt_Str! + !Cl_Wgt_Str! + !HA_Wgt_Str! + !NN_Wgt_Str! + !Ung_Wgt_Str!', 'PYTHON3')\n",
    "arcpy.AddField_management(springs, 'ScoreThr', 'DOUBLE')\n",
    "arcpy.CalculateField_management(springs, 'ScoreThr', '!WW_Wgt_Thr! + !Cl_Wgt_Thr! + !HA_Wgt_Thr! + !NN_Wgt_Thr! + !Ung_Wgt_Thr!', 'PYTHON3')"
   ]
  },
  {
   "cell_type": "markdown",
   "metadata": {},
   "source": [
    "## Wetlands"
   ]
  },
  {
   "cell_type": "code",
   "execution_count": null,
   "metadata": {},
   "outputs": [],
   "source": [
    "[f.name for f in arcpy.ListFields(wet)]\n",
    "null2zero(wet, 'PumpStr')\n",
    "null2zero(wet, 'CommitThr')\n",
    "null2zero(wet, 'Shallow_GW')\n",
    "null2zero(wet, 'Falling_GW')\n",
    "null2zero(wet, 'Recharge')\n",
    "null2zero(wet, 'ClmThrR')\n",
    "null2zero(wet, 'InvSpp_Thr')\n",
    "null2zero(wet, 'InvSpp_Str')\n",
    "null2zero(wet, 'HousingThr')\n",
    "null2zero(wet, 'HousingStr')"
   ]
  },
  {
   "cell_type": "code",
   "execution_count": null,
   "metadata": {},
   "outputs": [],
   "source": [
    "# Water withdrawal weighting - stress\n",
    "max1 = getMax(wet, 'Falling_GW')\n",
    "max2 = getMax(wet, 'PumpStr')\n",
    "max_norm = max1 + max2\n",
    "print(max_norm)\n",
    "arcpy.AddField_management(wet, 'WW_Norm_Str', 'DOUBLE')\n",
    "where = '(!Falling_GW! + !PumpStr!) / ' + \"%s\" %max_norm\n",
    "arcpy.CalculateField_management(wet, 'WW_Norm_Str', where, 'PYTHON3')\n",
    "arcpy.AddField_management(wet, 'WW_Wgt_Str', 'DOUBLE')\n",
    "where = '(!WW_Norm_Str!) * 5'\n",
    "arcpy.CalculateField_management(wet, 'WW_Wgt_Str', where, 'PYTHON3')"
   ]
  },
  {
   "cell_type": "code",
   "execution_count": null,
   "metadata": {},
   "outputs": [],
   "source": [
    "# Water withdrawal weighting - threat\n",
    "max1 = getMax(wet, 'Shallow_GW')\n",
    "max2 = getMax(wet, 'CommitThr')\n",
    "max_norm = max1 + max2\n",
    "print(max_norm)\n",
    "arcpy.AddField_management(wet, 'WW_Norm_Thr', 'DOUBLE')\n",
    "where = '(!Shallow_GW! + !CommitThr!) / ' + \"%s\" %max_norm\n",
    "arcpy.CalculateField_management(wet, 'WW_Norm_Thr', where, 'PYTHON3') \n",
    "arcpy.AddField_management(wet, 'WW_Wgt_Thr', 'DOUBLE')\n",
    "where = '(!WW_Norm_Thr!) * 5'\n",
    "arcpy.CalculateField_management(wet, 'WW_Wgt_Thr', where, 'PYTHON3')"
   ]
  },
  {
   "cell_type": "code",
   "execution_count": null,
   "metadata": {},
   "outputs": [],
   "source": [
    "# Climate weighting - stress\n",
    "arcpy.AddField_management(wet, 'Cl_Wgt_Str', 'DOUBLE')\n",
    "where = '(!Recharge!) * 4'\n",
    "arcpy.CalculateField_management(wet, 'Cl_Wgt_Str', where, 'PYTHON3')\n",
    "\n",
    "# Climate weighting - threat\n",
    "arcpy.AddField_management(wet, 'Cl_Wgt_Thr', 'DOUBLE')\n",
    "where = '(!ClmThrR!) * 4'\n",
    "arcpy.CalculateField_management(wet, 'Cl_Wgt_Thr', where, 'PYTHON3')"
   ]
  },
  {
   "cell_type": "code",
   "execution_count": null,
   "metadata": {},
   "outputs": [],
   "source": [
    "# Human activity weighting - stress\n",
    "max1 = getMax(wet, 'HousingStr')\n",
    "max2 = getMax(wet, 'SurfaceDiv')\n",
    "max_norm = max1 + max2\n",
    "print(max_norm)\n",
    "arcpy.AddField_management(wet, 'HA_Norm_Str', 'DOUBLE')\n",
    "where = '(!HousingStr! + !SurfaceDiv!) / ' + \"%s\" %max_norm\n",
    "arcpy.CalculateField_management(wet, 'HA_Norm_Str', where, 'PYTHON3')\n",
    "arcpy.AddField_management(wet, 'HA_Wgt_Str', 'DOUBLE')\n",
    "where = '(!HA_Norm_Str!) * 3'\n",
    "arcpy.CalculateField_management(wet, 'HA_Wgt_Str', where, 'PYTHON3')\n",
    "\n",
    "# Human activity weighting - threat\n",
    "arcpy.AddField_management(wet, 'HA_Wgt_Thr', 'DOUBLE')\n",
    "where = '(!HousingThr!) * 3'\n",
    "arcpy.CalculateField_management(wet, 'HA_Wgt_Thr', where, 'PYTHON3')"
   ]
  },
  {
   "cell_type": "code",
   "execution_count": null,
   "metadata": {},
   "outputs": [],
   "source": [
    "# Non-native species weighting - stress\n",
    "arcpy.AddField_management(wet, 'NN_Wgt_Str', 'DOUBLE')\n",
    "where = '(!InvSpp_Str!) * 2'\n",
    "arcpy.CalculateField_management(wet, 'NN_Wgt_Str', where, 'PYTHON3')\n",
    "\n",
    "# Non-native species weighting - threat\n",
    "arcpy.AddField_management(wet, 'NN_Wgt_Thr', 'DOUBLE')\n",
    "where = '(!InvSpp_Thr!) * 2'\n",
    "arcpy.CalculateField_management(wet, 'NN_Wgt_Thr', where, 'PYTHON3')"
   ]
  },
  {
   "cell_type": "code",
   "execution_count": null,
   "metadata": {},
   "outputs": [],
   "source": [
    "# Ungulate weighting - stress (same as threat)\n",
    "arcpy.AddField_management(wet, 'Ung_Wgt_Str', 'DOUBLE')\n",
    "where = '(!UnguStr!) * 1'\n",
    "arcpy.CalculateField_management(wet, 'Ung_Wgt_Str', where, 'PYTHON3')\n",
    "\n",
    "# Ungulate weighting - threat (same as stress)\n",
    "arcpy.AddField_management(wet, 'Ung_Wgt_Thr', 'DOUBLE')\n",
    "where = '(!UnguStr!) * 1'\n",
    "arcpy.CalculateField_management(wet, 'Ung_Wgt_Thr', where, 'PYTHON3')"
   ]
  },
  {
   "cell_type": "code",
   "execution_count": null,
   "metadata": {},
   "outputs": [],
   "source": [
    "# Sum all stress and threat scores\n",
    "[f.name for f in arcpy.ListFields(wet)]\n",
    "arcpy.AddField_management(wet, 'ScoreStr', 'DOUBLE')\n",
    "arcpy.CalculateField_management(wet, 'ScoreStr', '!WW_Wgt_Str! + !Cl_Wgt_Str! + !HA_Wgt_Str! + !NN_Wgt_Str! + !Ung_Wgt_Str!', 'PYTHON3')\n",
    "arcpy.AddField_management(wet, 'ScoreThr', 'DOUBLE')\n",
    "arcpy.CalculateField_management(wet, 'ScoreThr', '!WW_Wgt_Thr! + !Cl_Wgt_Thr! + !HA_Wgt_Thr! + !NN_Wgt_Thr! + !Ung_Wgt_Thr!', 'PYTHON3')"
   ]
  },
  {
   "cell_type": "markdown",
   "metadata": {},
   "source": [
    "## Phreatophytes"
   ]
  },
  {
   "cell_type": "code",
   "execution_count": null,
   "metadata": {},
   "outputs": [],
   "source": [
    "phr2 = phr\n",
    "[f.name for f in arcpy.ListFields(phr2)]\n",
    "null2zero(phr2, 'PumpStr')\n",
    "null2zero(phr2, 'CommitThr')\n",
    "null2zero(phr2, 'Shallow_GW')\n",
    "null2zero(phr2, 'Falling_GW')\n",
    "null2zero(phr2, 'Recharge')\n",
    "null2zero(phr2, 'ClmThrR')\n",
    "null2zero(phr2, 'InvSpp_Thr')\n",
    "null2zero(phr2, 'InvSpp_Str')\n",
    "null2zero(phr2, 'HousingThr')\n",
    "null2zero(phr2, 'HousingStr')"
   ]
  },
  {
   "cell_type": "code",
   "execution_count": null,
   "metadata": {},
   "outputs": [],
   "source": [
    "# Water withdrawal weighting - stress\n",
    "max1 = getMax(phr2, 'Falling_GW')\n",
    "max2 = getMax(phr2, 'PumpStr')\n",
    "max_norm = max1 + max2\n",
    "print(max_norm)\n",
    "arcpy.AddField_management(phr2, 'WW_Norm_Str', 'DOUBLE')\n",
    "where = '(!Falling_GW! + !PumpStr!) / ' + \"%s\" %max_norm\n",
    "arcpy.CalculateField_management(phr2, 'WW_Norm_Str', where, 'PYTHON3')\n",
    "arcpy.AddField_management(phr2, 'WW_Wgt_Str', 'DOUBLE')\n",
    "where = '(!WW_Norm_Str!) * 5'\n",
    "arcpy.CalculateField_management(phr2, 'WW_Wgt_Str', where, 'PYTHON3')\n",
    "\n",
    "# Water withdrawal weighting - threat\n",
    "max1 = getMax(phr2, 'Shallow_GW')\n",
    "max2 = getMax(phr2, 'CommitThr')\n",
    "max_norm = max1 + max2\n",
    "print(max_norm)\n",
    "arcpy.AddField_management(phr2, 'WW_Norm_Thr', 'DOUBLE')\n",
    "where = '(!Shallow_GW! + !CommitThr!) / ' + \"%s\" %max_norm\n",
    "arcpy.CalculateField_management(phr2, 'WW_Norm_Thr', where, 'PYTHON3') \n",
    "arcpy.AddField_management(phr2, 'WW_Wgt_Thr', 'DOUBLE')\n",
    "where = '(!WW_Norm_Thr!) * 5'\n",
    "arcpy.CalculateField_management(phr2, 'WW_Wgt_Thr', where, 'PYTHON3')\n"
   ]
  },
  {
   "cell_type": "code",
   "execution_count": null,
   "metadata": {},
   "outputs": [],
   "source": [
    "# Climate weighting - stress\n",
    "arcpy.AddField_management(phr2, 'Cl_Wgt_Str', 'DOUBLE')\n",
    "where = '(!Recharge!) * 4'\n",
    "arcpy.CalculateField_management(phr2, 'Cl_Wgt_Str', where, 'PYTHON3')\n",
    "\n",
    "# Climate weighting - threat\n",
    "arcpy.AddField_management(phr2, 'Cl_Wgt_Thr', 'DOUBLE')\n",
    "where = '(!ClmThrR!) * 4'\n",
    "arcpy.CalculateField_management(phr2, 'Cl_Wgt_Thr', where, 'PYTHON3')\n"
   ]
  },
  {
   "cell_type": "code",
   "execution_count": null,
   "metadata": {},
   "outputs": [],
   "source": [
    "# Human activity weighting - stress\n",
    "max1 = getMax(phr2, 'HousingStr')\n",
    "max2 = getMax(phr2, 'SurfaceDiv')\n",
    "max_norm = max1 + max2\n",
    "print(max_norm)\n",
    "arcpy.AddField_management(phr2, 'HA_Norm_Str', 'DOUBLE')\n",
    "where = '(!HousingStr! + !SurfaceDiv!) / ' + \"%s\" %max_norm\n",
    "arcpy.CalculateField_management(phr2, 'HA_Norm_Str', where, 'PYTHON3')\n",
    "arcpy.AddField_management(phr2, 'HA_Wgt_Str', 'DOUBLE')\n",
    "where = '(!HA_Norm_Str!) * 3'\n",
    "arcpy.CalculateField_management(phr2, 'HA_Wgt_Str', where, 'PYTHON3')\n",
    "\n",
    "# Human activity weighting - threat\n",
    "arcpy.AddField_management(phr2, 'HA_Wgt_Thr', 'DOUBLE')\n",
    "where = '(!HousingThr!) * 3'\n",
    "arcpy.CalculateField_management(phr2, 'HA_Wgt_Thr', where, 'PYTHON3')\n"
   ]
  },
  {
   "cell_type": "code",
   "execution_count": null,
   "metadata": {},
   "outputs": [],
   "source": [
    "# Non-native species weighting - stress\n",
    "arcpy.AddField_management(phr2, 'NN_Wgt_Str', 'DOUBLE')\n",
    "where = '(!InvSpp_Str!) * 2'\n",
    "arcpy.CalculateField_management(phr2, 'NN_Wgt_Str', where, 'PYTHON3')\n",
    "\n",
    "# Non-native species weighting - threat\n",
    "arcpy.AddField_management(phr2, 'NN_Wgt_Thr', 'DOUBLE')\n",
    "where = '(!InvSpp_Thr!) * 2'\n",
    "arcpy.CalculateField_management(phr2, 'NN_Wgt_Thr', where, 'PYTHON3')\n"
   ]
  },
  {
   "cell_type": "code",
   "execution_count": null,
   "metadata": {},
   "outputs": [],
   "source": [
    "# Ungulate weighting - stress (same as threat)\n",
    "arcpy.AddField_management(phr2, 'Ung_Wgt_Str', 'DOUBLE')\n",
    "where = '(!UnguStr!) * 1'\n",
    "arcpy.CalculateField_management(phr2, 'Ung_Wgt_Str', where, 'PYTHON3')\n",
    "\n",
    "# Ungulate weighting - threat (same as stress)\n",
    "arcpy.AddField_management(phr2, 'Ung_Wgt_Thr', 'DOUBLE')\n",
    "where = '(!UnguStr!) * 1'\n",
    "arcpy.CalculateField_management(phr2, 'Ung_Wgt_Thr', where, 'PYTHON3')\n"
   ]
  },
  {
   "cell_type": "code",
   "execution_count": null,
   "metadata": {},
   "outputs": [],
   "source": [
    "# Sum all stress and threat scores\n",
    "[f.name for f in arcpy.ListFields(phr2)]\n",
    "arcpy.AddField_management(phr2, 'ScoreStr', 'DOUBLE')\n",
    "arcpy.CalculateField_management(phr2, 'ScoreStr', '!WW_Wgt_Str! + !Cl_Wgt_Str! + !HA_Wgt_Str! + !NN_Wgt_Str! + !Ung_Wgt_Str!', 'PYTHON3')\n",
    "arcpy.AddField_management(phr2, 'ScoreThr', 'DOUBLE')\n",
    "arcpy.CalculateField_management(phr2, 'ScoreThr', '!WW_Wgt_Thr! + !Cl_Wgt_Thr! + !HA_Wgt_Thr! + !NN_Wgt_Thr! + !Ung_Wgt_Thr!', 'PYTHON3')\n",
    "\n"
   ]
  },
  {
   "cell_type": "markdown",
   "metadata": {},
   "source": [
    "## Rivers & Streams"
   ]
  },
  {
   "cell_type": "code",
   "execution_count": null,
   "metadata": {},
   "outputs": [],
   "source": [
    "[f.name for f in arcpy.ListFields(rs)]\n",
    "null2zero(rs, 'PumpStr')\n",
    "null2zero(rs, 'CommitThr')\n",
    "null2zero(rs, 'Shallow_GW')\n",
    "null2zero(rs, 'Falling_GW')\n",
    "null2zero(rs, 'Recharge')\n",
    "null2zero(rs, 'ClmThrR')\n",
    "null2zero(rs, 'InvSpp_Thr')\n",
    "null2zero(rs, 'InvSpp_Str')\n",
    "null2zero(rs, 'HousingThr')\n",
    "null2zero(rs, 'HousingStr')"
   ]
  },
  {
   "cell_type": "code",
   "execution_count": null,
   "metadata": {},
   "outputs": [],
   "source": [
    "# Water withdrawal weighting - stress\n",
    "max1 = getMax(rs, 'Falling_GW')\n",
    "max2 = getMax(rs, 'PumpStr')\n",
    "max_norm = max1 + max2\n",
    "print(max_norm)\n",
    "arcpy.AddField_management(rs, 'WW_Norm_Str', 'DOUBLE')\n",
    "where = '(!Falling_GW! + !PumpStr!) / ' + \"%s\" %max_norm\n",
    "arcpy.CalculateField_management(rs, 'WW_Norm_Str', where, 'PYTHON3')\n",
    "arcpy.AddField_management(rs, 'WW_Wgt_Str', 'DOUBLE')\n",
    "where = '(!WW_Norm_Str!) * 5'\n",
    "arcpy.CalculateField_management(rs, 'WW_Wgt_Str', where, 'PYTHON3')\n",
    "\n",
    "# Water withdrawal weighting - threat\n",
    "max1 = getMax(rs, 'Shallow_GW')\n",
    "max2 = getMax(rs, 'CommitThr')\n",
    "max_norm = max1 + max2\n",
    "print(max_norm)\n",
    "arcpy.AddField_management(rs, 'WW_Norm_Thr', 'DOUBLE')\n",
    "where = '(!Shallow_GW! + !CommitThr!) / ' + \"%s\" %max_norm\n",
    "arcpy.CalculateField_management(rs, 'WW_Norm_Thr', where, 'PYTHON3') \n",
    "arcpy.AddField_management(rs, 'WW_Wgt_Thr', 'DOUBLE')\n",
    "where = '(!WW_Norm_Thr!) * 5'\n",
    "arcpy.CalculateField_management(rs, 'WW_Wgt_Thr', where, 'PYTHON3')"
   ]
  },
  {
   "cell_type": "code",
   "execution_count": null,
   "metadata": {},
   "outputs": [],
   "source": [
    "# Climate weighting - stress\n",
    "arcpy.AddField_management(rs, 'Cl_Wgt_Str', 'DOUBLE')\n",
    "where = '(!Recharge!) * 4'\n",
    "arcpy.CalculateField_management(rs, 'Cl_Wgt_Str', where, 'PYTHON3')\n",
    "\n",
    "# Climate weighting - threat\n",
    "arcpy.AddField_management(rs, 'Cl_Wgt_Thr', 'DOUBLE')\n",
    "where = '(!ClmThrR!) * 4'\n",
    "arcpy.CalculateField_management(rs, 'Cl_Wgt_Thr', where, 'PYTHON3')"
   ]
  },
  {
   "cell_type": "code",
   "execution_count": null,
   "metadata": {},
   "outputs": [],
   "source": [
    "# Human activity weighting - stress\n",
    "max1 = getMax(rs, 'HousingStr')\n",
    "max2 = getMax(rs, 'SurfaceDiv')\n",
    "max_norm = max1 + max2\n",
    "print(max_norm)\n",
    "arcpy.AddField_management(rs, 'HA_Norm_Str', 'DOUBLE')\n",
    "where = '(!HousingStr! + !SurfaceDiv!) / ' + \"%s\" %max_norm\n",
    "arcpy.CalculateField_management(rs, 'HA_Norm_Str', where, 'PYTHON3')\n",
    "arcpy.AddField_management(rs, 'HA_Wgt_Str', 'DOUBLE')\n",
    "where = '(!HA_Norm_Str!) * 3'\n",
    "arcpy.CalculateField_management(rs, 'HA_Wgt_Str', where, 'PYTHON3')\n",
    "\n",
    "# Human activity weighting - threat\n",
    "arcpy.AddField_management(rs, 'HA_Wgt_Thr', 'DOUBLE')\n",
    "where = '(!HousingThr!) * 3'\n",
    "arcpy.CalculateField_management(rs, 'HA_Wgt_Thr', where, 'PYTHON3')"
   ]
  },
  {
   "cell_type": "code",
   "execution_count": null,
   "metadata": {},
   "outputs": [],
   "source": [
    "# Non-native species weighting - stress\n",
    "arcpy.AddField_management(rs, 'NN_Wgt_Str', 'DOUBLE')\n",
    "where = '(!InvSpp_Str!) * 2'\n",
    "arcpy.CalculateField_management(rs, 'NN_Wgt_Str', where, 'PYTHON3')\n",
    "\n",
    "# Non-native species weighting - threat\n",
    "arcpy.AddField_management(rs, 'NN_Wgt_Thr', 'DOUBLE')\n",
    "where = '(!InvSpp_Thr!) * 2'\n",
    "arcpy.CalculateField_management(rs, 'NN_Wgt_Thr', where, 'PYTHON3')"
   ]
  },
  {
   "cell_type": "code",
   "execution_count": null,
   "metadata": {},
   "outputs": [],
   "source": [
    "# Ungulate weighting - stress (same as threat)\n",
    "arcpy.AddField_management(rs, 'Ung_Wgt_Str', 'DOUBLE')\n",
    "where = '(!UnguStr!) * 1'\n",
    "arcpy.CalculateField_management(rs, 'Ung_Wgt_Str', where, 'PYTHON3')\n",
    "\n",
    "# Ungulate weighting - threat (same as stress)\n",
    "arcpy.AddField_management(rs, 'Ung_Wgt_Thr', 'DOUBLE')\n",
    "where = '(!UnguStr!) * 1'\n",
    "arcpy.CalculateField_management(rs, 'Ung_Wgt_Thr', where, 'PYTHON3')"
   ]
  },
  {
   "cell_type": "code",
   "execution_count": null,
   "metadata": {},
   "outputs": [],
   "source": [
    "# Sum all stress and threat scores\n",
    "[f.name for f in arcpy.ListFields(rs)]\n",
    "arcpy.AddField_management(rs, 'ScoreStr', 'DOUBLE')\n",
    "arcpy.CalculateField_management(rs, 'ScoreStr', '!WW_Wgt_Str! + !Cl_Wgt_Str! + !HA_Wgt_Str! + !NN_Wgt_Str! + !Ung_Wgt_Str!', 'PYTHON3')\n",
    "arcpy.AddField_management(rs, 'ScoreThr', 'DOUBLE')\n",
    "arcpy.CalculateField_management(rs, 'ScoreThr', '!WW_Wgt_Thr! + !Cl_Wgt_Thr! + !HA_Wgt_Thr! + !NN_Wgt_Thr! + !Ung_Wgt_Thr!', 'PYTHON3')"
   ]
  },
  {
   "cell_type": "markdown",
   "metadata": {},
   "source": [
    "## Lakes & Playas"
   ]
  },
  {
   "cell_type": "code",
   "execution_count": null,
   "metadata": {},
   "outputs": [],
   "source": [
    "[f.name for f in arcpy.ListFields(lp)]\n",
    "null2zero(lp, 'PumpStr')\n",
    "null2zero(lp, 'CommitThr')\n",
    "null2zero(lp, 'Shallow_GW')\n",
    "null2zero(lp, 'Falling_GW')\n",
    "null2zero(lp, 'Recharge')\n",
    "null2zero(lp, 'ClmThrR')\n",
    "null2zero(lp, 'InvSpp_Thr')\n",
    "null2zero(lp, 'InvSpp_Str')\n",
    "null2zero(lp, 'HousingThr')\n",
    "null2zero(lp, 'HousingStr')"
   ]
  },
  {
   "cell_type": "code",
   "execution_count": null,
   "metadata": {},
   "outputs": [],
   "source": [
    "# Water withdrawal weighting - stress\n",
    "max1 = getMax(lp, 'Falling_GW')\n",
    "max2 = getMax(lp, 'PumpStr')\n",
    "max_norm = max1 + max2\n",
    "print(max_norm)\n",
    "arcpy.AddField_management(lp, 'WW_Norm_Str', 'DOUBLE')\n",
    "where = '(!Falling_GW! + !PumpStr!) / ' + \"%s\" %max_norm\n",
    "arcpy.CalculateField_management(lp, 'WW_Norm_Str', where, 'PYTHON3')\n",
    "arcpy.AddField_management(lp, 'WW_Wgt_Str', 'DOUBLE')\n",
    "where = '(!WW_Norm_Str!) * 5'\n",
    "arcpy.CalculateField_management(lp, 'WW_Wgt_Str', where, 'PYTHON3')\n",
    "\n",
    "# Water withdrawal weighting - threat\n",
    "max1 = getMax(lp, 'Shallow_GW')\n",
    "max2 = getMax(lp, 'CommitThr')\n",
    "max_norm = max1 + max2\n",
    "print(max_norm)\n",
    "arcpy.AddField_management(lp, 'WW_Norm_Thr', 'DOUBLE')\n",
    "where = '(!Shallow_GW! + !CommitThr!) / ' + \"%s\" %max_norm\n",
    "arcpy.CalculateField_management(lp, 'WW_Norm_Thr', where, 'PYTHON3') \n",
    "arcpy.AddField_management(lp, 'WW_Wgt_Thr', 'DOUBLE')\n",
    "where = '(!WW_Norm_Thr!) * 5'\n",
    "arcpy.CalculateField_management(lp, 'WW_Wgt_Thr', where, 'PYTHON3')"
   ]
  },
  {
   "cell_type": "code",
   "execution_count": null,
   "metadata": {},
   "outputs": [],
   "source": [
    "# Climate weighting - stress\n",
    "arcpy.AddField_management(lp, 'Cl_Wgt_Str', 'DOUBLE')\n",
    "where = '(!Recharge!) * 4'\n",
    "arcpy.CalculateField_management(lp, 'Cl_Wgt_Str', where, 'PYTHON3')\n",
    "\n",
    "# Climate weighting - threat\n",
    "arcpy.AddField_management(lp, 'Cl_Wgt_Thr', 'DOUBLE')\n",
    "where = '(!ClmThrR!) * 4'\n",
    "arcpy.CalculateField_management(lp, 'Cl_Wgt_Thr', where, 'PYTHON3')"
   ]
  },
  {
   "cell_type": "code",
   "execution_count": null,
   "metadata": {},
   "outputs": [],
   "source": [
    "# Human activity weighting - stress\n",
    "max1 = getMax(lp, 'HousingStr')\n",
    "max2 = getMax(lp, 'SurfaceDiv')\n",
    "max_norm = max1 + max2\n",
    "print(max_norm)\n",
    "arcpy.AddField_management(lp, 'HA_Norm_Str', 'DOUBLE')\n",
    "where = '(!HousingStr! + !SurfaceDiv!) / ' + \"%s\" %max_norm\n",
    "arcpy.CalculateField_management(lp, 'HA_Norm_Str', where, 'PYTHON3')\n",
    "arcpy.AddField_management(lp, 'HA_Wgt_Str', 'DOUBLE')\n",
    "where = '(!HA_Norm_Str!) * 3'\n",
    "arcpy.CalculateField_management(lp, 'HA_Wgt_Str', where, 'PYTHON3')\n",
    "\n",
    "# Human activity weighting - threat\n",
    "arcpy.AddField_management(lp, 'HA_Wgt_Thr', 'DOUBLE')\n",
    "where = '(!HousingThr!) * 3'\n",
    "arcpy.CalculateField_management(lp, 'HA_Wgt_Thr', where, 'PYTHON3')"
   ]
  },
  {
   "cell_type": "code",
   "execution_count": null,
   "metadata": {},
   "outputs": [],
   "source": [
    "# Non-native species weighting - stress\n",
    "arcpy.AddField_management(lp, 'NN_Wgt_Str', 'DOUBLE')\n",
    "where = '(!InvSpp_Str!) * 2'\n",
    "arcpy.CalculateField_management(lp, 'NN_Wgt_Str', where, 'PYTHON3')\n",
    "\n",
    "# Non-native species weighting - threat\n",
    "arcpy.AddField_management(lp, 'NN_Wgt_Thr', 'DOUBLE')\n",
    "where = '(!InvSpp_Thr!) * 2'\n",
    "arcpy.CalculateField_management(lp, 'NN_Wgt_Thr', where, 'PYTHON3')"
   ]
  },
  {
   "cell_type": "code",
   "execution_count": null,
   "metadata": {},
   "outputs": [],
   "source": [
    "# Ungulate weighting - stress (same as threat)\n",
    "arcpy.AddField_management(lp, 'Ung_Wgt_Str', 'DOUBLE')\n",
    "where = '(!UnguStr!) * 1'\n",
    "arcpy.CalculateField_management(lp, 'Ung_Wgt_Str', where, 'PYTHON3')\n",
    "\n",
    "# Ungulate weighting - threat (same as stress)\n",
    "arcpy.AddField_management(lp, 'Ung_Wgt_Thr', 'DOUBLE')\n",
    "where = '(!UnguStr!) * 1'\n",
    "arcpy.CalculateField_management(lp, 'Ung_Wgt_Thr', where, 'PYTHON3')"
   ]
  },
  {
   "cell_type": "code",
   "execution_count": null,
   "metadata": {},
   "outputs": [],
   "source": [
    "# Sum all stress and threat scores\n",
    "[f.name for f in arcpy.ListFields(lp)]\n",
    "arcpy.AddField_management(lp, 'ScoreStr', 'DOUBLE')\n",
    "arcpy.CalculateField_management(lp, 'ScoreStr', '!WW_Wgt_Str! + !Cl_Wgt_Str! + !HA_Wgt_Str! + !NN_Wgt_Str! + !Ung_Wgt_Str!', 'PYTHON3')\n",
    "arcpy.AddField_management(lp, 'ScoreThr', 'DOUBLE')\n",
    "arcpy.CalculateField_management(lp, 'ScoreThr', '!WW_Wgt_Thr! + !Cl_Wgt_Thr! + !HA_Wgt_Thr! + !NN_Wgt_Thr! + !Ung_Wgt_Thr!', 'PYTHON3')\n"
   ]
  },
  {
   "cell_type": "markdown",
   "metadata": {},
   "source": [
    "## Bivariate Symbology\n",
    "\n",
    "Make attirbutes for phreatophytes and rivers_streams; these layers can't load the bivariate symbology for some reason in ArcGIS Pro."
   ]
  },
  {
   "cell_type": "code",
   "execution_count": null,
   "metadata": {},
   "outputs": [],
   "source": [
    "# Phreatophytes\n",
    "[f.name for f in arcpy.ListFields(phr2)]\n",
    "arcpy.AddField_management(phr2, 'Bivariate', 'TEXT')\n",
    "with arcpy.da.UpdateCursor(phr2, ['ScoreStr', 'ScoreThr', 'Bivariate']) as cursor:\n",
    "    for row in cursor:\n",
    "        if row[0] < 1 and row[1] < 1:\n",
    "            row[2] = 'Both low'\n",
    "            cursor.updateRow(row)\n",
    "        elif (row[0] >= 1 and row[0] < 5) and (row[1] >= 1 and row[1] < 5):\n",
    "            row[2] = 'Both med'\n",
    "            cursor.updateRow(row)\n",
    "        elif (row[0] >= 5) and (row[1] >= 5):\n",
    "            row[2] = 'Both high'\n",
    "            cursor.updateRow(row)\n",
    "        elif (row[0] < 1) and (row[1] >= 1 and row[1] < 5):\n",
    "            row[2] = 'Low stress, med threat'\n",
    "            cursor.updateRow(row)\n",
    "        elif (row[0] >= 1 and row[0] < 5) and (row[1] < 1):\n",
    "            row[2] = 'Med stress, low threat'\n",
    "            cursor.updateRow(row)            \n",
    "        elif (row[0] < 1) and (row[1] >= 5):\n",
    "            row[2] = 'Low stress, high threat'\n",
    "            cursor.updateRow(row)   \n",
    "        elif (row[0] >= 5) and (row[1] < 1):\n",
    "            row[2] = 'High stress, low threat'\n",
    "            cursor.updateRow(row)\n",
    "        elif (row[0] >= 1 and row[0] < 5) and (row[1] >= 5):\n",
    "            row[2] = 'Med stress, high threat'\n",
    "            cursor.updateRow(row) \n",
    "        elif (row[0] >= 5) and (row[1] >= 1 and row[1] < 5):\n",
    "            row[2] = 'High stress, med threat'\n",
    "            cursor.updateRow(row)\n",
    "        print(row[2])    \n",
    "del cursor            "
   ]
  },
  {
   "cell_type": "code",
   "execution_count": null,
   "metadata": {},
   "outputs": [],
   "source": [
    "# Rivers/streams\n",
    "[f.name for f in arcpy.ListFields(rs)]\n",
    "arcpy.AddField_management(rs, 'Bivariate', 'TEXT')\n",
    "with arcpy.da.UpdateCursor(rs, ['ScoreStr', 'ScoreThr', 'Bivariate']) as cursor:\n",
    "    for row in cursor:\n",
    "        if row[0] < 1 and row[1] < 1:\n",
    "            row[2] = 'Both low'\n",
    "            cursor.updateRow(row)\n",
    "        elif (row[0] >= 1 and row[0] < 5) and (row[1] >= 1 and row[1] < 5):\n",
    "            row[2] = 'Both med'\n",
    "            cursor.updateRow(row)\n",
    "        elif (row[0] >= 5) and (row[1] >= 5):\n",
    "            row[2] = 'Both high'\n",
    "            cursor.updateRow(row)\n",
    "        elif (row[0] < 1) and (row[1] >= 1 and row[1] < 5):\n",
    "            row[2] = 'Low stress, med threat'\n",
    "            cursor.updateRow(row)\n",
    "        elif (row[0] >= 1 and row[0] < 5) and (row[1] < 1):\n",
    "            row[2] = 'Med stress, low threat'\n",
    "            cursor.updateRow(row)            \n",
    "        elif (row[0] < 1) and (row[1] >= 5):\n",
    "            row[2] = 'Low stress, high threat'\n",
    "            cursor.updateRow(row)   \n",
    "        elif (row[0] >= 5) and (row[1] < 1):\n",
    "            row[2] = 'High stress, low threat'\n",
    "            cursor.updateRow(row)\n",
    "        elif (row[0] >= 1 and row[0] < 5) and (row[1] >= 5):\n",
    "            row[2] = 'Med stress, high threat'\n",
    "            cursor.updateRow(row) \n",
    "        elif (row[0] >= 5) and (row[1] >= 1 and row[1] < 5):\n",
    "            row[2] = 'High stress, med threat'\n",
    "            cursor.updateRow(row)\n",
    "        print(row[2])    \n",
    "del cursor            "
   ]
  }
 ],
 "metadata": {
  "kernelspec": {
   "display_name": "Python 3",
   "language": "python",
   "name": "python3"
  },
  "language_info": {
   "name": "python",
   "version": "3.9.11"
  }
 },
 "nbformat": 4,
 "nbformat_minor": 2
}
