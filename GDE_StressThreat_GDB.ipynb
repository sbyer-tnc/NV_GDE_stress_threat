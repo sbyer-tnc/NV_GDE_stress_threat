{
 "cells": [
  {
   "cell_type": "markdown",
   "metadata": {},
   "source": [
    "# Notebook to create new geodatabase to store GDEs with stress/threat values\n",
    "\n",
    "Build in metadata and field names/aliases.\n",
    "\n",
    "Also copy to shapefiles for individual layer distribution."
   ]
  },
  {
   "cell_type": "markdown",
   "metadata": {},
   "source": [
    "## Set up environments in ArcGIS Pro"
   ]
  },
  {
   "cell_type": "code",
   "execution_count": null,
   "metadata": {},
   "outputs": [],
   "source": [
    "# Import ArcGIS modules and check out spatial analyst extension\n",
    "import arcpy\n",
    "import os\n",
    "import pandas as pd\n",
    "import numpy as np\n",
    "from arcpy import env\n",
    "from arcpy.sa import *\n",
    "arcpy.CheckOutExtension(\"spatial\")"
   ]
  },
  {
   "cell_type": "code",
   "execution_count": null,
   "metadata": {},
   "outputs": [],
   "source": [
    "# Path to temporary geodatabase\n",
    "#path =  r\"folder_path\\gdbname.gdb\"\n",
    "path =  r\"K:\\GIS3\\Projects\\GDE\\Maps\\GDE_Threats\\GDE_Threats.gdb\"\n",
    "\n",
    "# Environment settings\n",
    "env.workspace = path\n",
    "env.overwriteOutput = True\n",
    "env.outputCoordinateSystem = arcpy.SpatialReference(26911) # Spatial reference NAD 1983 UTM Zone 11N. The code is '26911'"
   ]
  },
  {
   "cell_type": "markdown",
   "metadata": {},
   "source": [
    "## Create a geodatabase\n",
    "\n",
    "Here, copied the original iGDE database since we'll need all of layers in it and want to retain as many field aliases and metadata as possible. One could create a geodatabase from scratch and add all of the layers to it instead."
   ]
  },
  {
   "cell_type": "code",
   "execution_count": null,
   "metadata": {},
   "outputs": [],
   "source": [
    "og_gde = r'K:\\GIS3\\Projects\\GDE\\Geospatial\\NV_iGDE_022120.gdb'\n",
    "arcpy.Copy_management(og_gde, r'K:\\GIS3\\Projects\\GDE\\Geospatial\\NV_iGDE_032322.gdb')"
   ]
  },
  {
   "cell_type": "code",
   "execution_count": null,
   "metadata": {},
   "outputs": [],
   "source": [
    "# iGDE geodatabase (copied version)\n",
    "gdes = r'K:\\GIS3\\Projects\\GDE\\Geospatial\\NV_iGDE_032322.gdb'\n",
    "print(arcpy.ListFeatureClasses(gdes))\n",
    "\n",
    "# database with stress/threat values\n",
    "stats = r'K:\\GIS3\\Projects\\GDE\\Geospatial\\NV_iGDE_assess2.gdb'\n",
    "print(arcpy.ListFeatureClasses(stats))"
   ]
  },
  {
   "cell_type": "markdown",
   "metadata": {},
   "source": [
    "### Springs\n",
    "\n",
    "Methods used in Springs is nearly identical to all other layers. There will be fewer notes in the other sections"
   ]
  },
  {
   "cell_type": "code",
   "execution_count": null,
   "metadata": {},
   "outputs": [],
   "source": [
    "# Copy stats to table\n",
    "# Join doesn't like pulling right from the fc\n",
    "# Can join from table instead, using OBJECTID fields; they're identical between table and feature class\n",
    "tbl = arcpy.TableToTable_conversion(spr_st, env.workspace, 'spring_stats_tbl')\n"
   ]
  },
  {
   "cell_type": "code",
   "execution_count": null,
   "metadata": {},
   "outputs": [],
   "source": [
    "# before join, change field order\n",
    "fields_nowgt = ['Falling_GW', 'PumpStr', 'WW_Norm_Str', 'Shallow_GW', 'CommitThr', 'WW_Norm_Thr', \n",
    "          'Recharge', 'RenormThr', \n",
    "          'GRAZE', 'HORSE_BURRO', 'ELK',\n",
    "          'Ung_Wgt_Str', 'Ung_Wgt_Thr', \n",
    "          'NN_Wgt_Str', 'NN_Wgt_Thr',\n",
    "          'HousingStr', 'SurfaceDiv', 'HA_Wgt_Str', 'HA_Wgt_Thr',\n",
    "          'ScoreStr', 'ScoreThr']"
   ]
  },
  {
   "cell_type": "code",
   "execution_count": null,
   "metadata": {},
   "outputs": [],
   "source": [
    "# Join fields from table to copied gdb\n",
    "arcpy.JoinField_management(spr_og, 'SPRING_ID', tbl, 'SPRING_ID', fields_nowgt)\n",
    "[f.name for f in arcpy.ListFields(spr_og)]"
   ]
  },
  {
   "cell_type": "code",
   "execution_count": null,
   "metadata": {},
   "outputs": [],
   "source": [
    "# Alter fields - update field alias an maybe field name\n",
    "# Can use for other feature classes\n",
    "\n",
    "fc = spr_og\n",
    "arcpy.AlterField_management(fc, 'Falling_GW', 'Falling_GW', 'Falling Groundwater Level Score (groundwater withdrawal stress)')\n",
    "arcpy.AlterField_management(fc, 'PumpStr', 'Pump_GW', 'Pumping Status Score (groundwater withdrawal stress)')\n",
    "arcpy.AlterField_management(fc, 'WW_Norm_Str', 'GW_Str', 'Groundwater Withdrawal Stress Score')\n",
    "arcpy.AlterField_management(fc, 'Shallow_GW', 'Shallow_GW', 'Shallow Groundwater Score (groundwater withdrawal threat)')\n",
    "arcpy.AlterField_management(fc, 'CommitThr', 'Commit_GW', 'Appropriation Status Score (groundwater withdrawal threat)')\n",
    "arcpy.AlterField_management(fc, 'WW_Norm_Thr', 'GW_Thr', 'Groundwater Withdrawal Threat Score')\n",
    "\n",
    "arcpy.AlterField_management(fc, 'Recharge', 'Clim_Str', 'Climate Stress Score')\n",
    "arcpy.AlterField_management(fc, 'RenormThr', 'Clim_Thr', 'Climate Threat Score')\n",
    "\n",
    "arcpy.AlterField_management(fc, 'GRAZE', 'Ung_Graze', 'Cattle and Sheep Potential')\n",
    "arcpy.AlterField_management(fc, 'HORSE_BURRO', 'Ung_WHB', 'Wild Horse and Burro Potential')\n",
    "arcpy.AlterField_management(fc, 'ELK', 'Ung_Elk', 'Elk Potential')\n",
    "arcpy.AlterField_management(fc, 'Ung_Wgt_Str', 'Ung_Str', 'Ungulate Stress Score')\n",
    "arcpy.AlterField_management(fc, 'Ung_Wgt_Thr', 'Ung_Thr', 'Ungulate Threat Score')\n",
    "\n",
    "arcpy.AlterField_management(fc, 'NN_Wgt_Str', 'NN_Str', 'Non-native Species Stress Score')\n",
    "arcpy.AlterField_management(fc, 'NN_Wgt_Thr', 'NN_Thr', 'Non-native Species Threat Score')\n",
    "\n",
    "arcpy.AlterField_management(fc, 'HousingStr', 'Hous_OHD', 'Housing Density Stress Score (other human development stress)')\n",
    "arcpy.AlterField_management(fc, 'SurfaceDiv', 'SurfDiv_OHD', 'Surface Water Diversions (other human development stress)')\n",
    "arcpy.AlterField_management(fc, 'HA_Wgt_Str', 'OHD_Str', 'Other Human Development Stress Score')\n",
    "arcpy.AlterField_management(fc, 'HA_Wgt_Thr', 'OHD_Thr', 'Other Human Development Threat Score')\n",
    "\n",
    "arcpy.AlterField_management(fc, 'ScoreStr', 'Score_Str', 'Overall Stress Score')\n",
    "arcpy.AlterField_management(fc, 'ScoreThr', 'Score_Thr', 'Overall Threat Score')\n",
    "\n",
    "[f.name for f in arcpy.ListFields(fc)]\n",
    "# Need to manually move fields in ArcGIS Pro to change order in which they appear (optional)"
   ]
  },
  {
   "cell_type": "markdown",
   "metadata": {},
   "source": [
    "### Wetlands"
   ]
  },
  {
   "cell_type": "code",
   "execution_count": null,
   "metadata": {},
   "outputs": [],
   "source": [
    "wet_og = r'K:\\GIS3\\Projects\\GDE\\Geospatial\\NV_iGDE_032322.gdb\\wetlands'\n",
    "print(arcpy.GetCount_management(wet_og))\n",
    "print([f.name for f in arcpy.ListFields(wet_og)])\n",
    "wet_st = r'K:\\GIS3\\Projects\\GDE\\Geospatial\\NV_iGDE_assess2.gdb\\wetlands'\n",
    "print(arcpy.GetCount_management(wet_st))\n",
    "print([f.name for f in arcpy.ListFields(wet_st)])"
   ]
  },
  {
   "cell_type": "code",
   "execution_count": null,
   "metadata": {},
   "outputs": [],
   "source": [
    "# Copy stats to table\n",
    "tbl = arcpy.TableToTable_conversion(wet_st, env.workspace, 'wetland_stats_tbl')\n",
    "\n",
    "fields_nowgt = ['Falling_GW', 'PumpStr', 'WW_Norm_Str', 'Shallow_GW', 'CommitThr', 'WW_Norm_Thr', \n",
    "          'Recharge', 'RenormThr', \n",
    "          'GRAZE', 'HORSE_BURRO', 'ELK',\n",
    "          'Ung_Wgt_Str', 'Ung_Wgt_Thr', \n",
    "          'NN_Wgt_Str', 'NN_Wgt_Thr',\n",
    "          'HousingStr', 'SurfaceDiv', 'HA_Wgt_Str', 'HA_Wgt_Thr',\n",
    "          'ScoreStr', 'ScoreThr']"
   ]
  },
  {
   "cell_type": "code",
   "execution_count": null,
   "metadata": {},
   "outputs": [],
   "source": [
    "arcpy.JoinField_management(wet_og, 'OBJECTID', tbl, 'OBJECTID', fields_nowgt)\n",
    "print([f.name for f in arcpy.ListFields(wet_og)])"
   ]
  },
  {
   "cell_type": "code",
   "execution_count": null,
   "metadata": {},
   "outputs": [],
   "source": [
    "fc = wet_og\n",
    "arcpy.AlterField_management(fc, 'Falling_GW', 'Falling_GW', 'Falling Groundwater Level Score (groundwater withdrawal stress)')\n",
    "arcpy.AlterField_management(fc, 'PumpStr', 'Pump_GW', 'Pumping Status Score (groundwater withdrawal stress)')\n",
    "arcpy.AlterField_management(fc, 'WW_Norm_Str', 'GW_Str', 'Groundwater Withdrawal Stress Score')\n",
    "\n",
    "arcpy.AlterField_management(fc, 'Shallow_GW', 'Shallow_GW', 'Shallow Groundwater Score (groundwater withdrawal threat)')\n",
    "arcpy.AlterField_management(fc, 'CommitThr', 'Commit_GW', 'Appropriation Status Score (groundwater withdrawal threat)')\n",
    "arcpy.AlterField_management(fc, 'WW_Norm_Thr', 'GW_Thr', 'Groundwater Withdrawal Threat Score')\n",
    "\n",
    "arcpy.AlterField_management(fc, 'Recharge', 'Clim_Str', 'Climate Stress Score')\n",
    "arcpy.AlterField_management(fc, 'RenormThr', 'Clim_Thr', 'Climate Threat Score')\n",
    "\n",
    "arcpy.AlterField_management(fc, 'GRAZE', 'Ung_Graze', 'Cattle and Sheep Potential')\n",
    "arcpy.AlterField_management(fc, 'HORSE_BURRO', 'Ung_WHB', 'Wild Horse and Burro Potential')\n",
    "arcpy.AlterField_management(fc, 'ELK', 'Ung_Elk', 'Elk Potential')\n",
    "arcpy.AlterField_management(fc, 'Ung_Wgt_Str', 'Ung_Str', 'Ungulate Stress Score')\n",
    "arcpy.AlterField_management(fc, 'Ung_Wgt_Thr', 'Ung_Thr', 'Ungulate Threat Score')\n",
    "\n",
    "arcpy.AlterField_management(fc, 'NN_Wgt_Str', 'NN_Str', 'Non-native Species Stress Score')\n",
    "arcpy.AlterField_management(fc, 'NN_Wgt_Thr', 'NN_Thr', 'Non-native Species Threat Score')\n",
    "\n",
    "arcpy.AlterField_management(fc, 'HousingStr', 'Hous_OHD', 'Housing Density Stress Score (other human development stress)')\n",
    "arcpy.AlterField_management(fc, 'SurfaceDiv', 'SurfDiv_OHD', 'Surface Water Diversions (other human development stress)')\n",
    "arcpy.AlterField_management(fc, 'HA_Wgt_Str', 'OHD_Str', 'Other Human Development Stress Score')\n",
    "arcpy.AlterField_management(fc, 'HA_Wgt_Thr', 'OHD_Thr', 'Other Human Development Threat Score')\n",
    "\n",
    "arcpy.AlterField_management(fc, 'ScoreStr', 'Score_Str', 'Overall Stress Score')\n",
    "arcpy.AlterField_management(fc, 'ScoreThr', 'Score_Thr', 'Overall Threat Score')\n",
    "\n",
    "print([f.name for f in arcpy.ListFields(fc)])"
   ]
  },
  {
   "cell_type": "markdown",
   "metadata": {},
   "source": [
    "### Rivers & Streams"
   ]
  },
  {
   "cell_type": "code",
   "execution_count": null,
   "metadata": {},
   "outputs": [],
   "source": [
    "rs_og = r'K:\\GIS3\\Projects\\GDE\\Geospatial\\NV_iGDE_032322.gdb\\Rivers_Streams'\n",
    "print(arcpy.GetCount_management(rs_og))\n",
    "print([f.name for f in arcpy.ListFields(rs_og)])\n",
    "rs_st = r'K:\\GIS3\\Projects\\GDE\\Geospatial\\NV_iGDE_assess2.gdb\\Rivers_Streams'\n",
    "print(arcpy.GetCount_management(rs_st))\n",
    "print([f.name for f in arcpy.ListFields(rs_st)])"
   ]
  },
  {
   "cell_type": "code",
   "execution_count": null,
   "metadata": {},
   "outputs": [],
   "source": [
    "# Copy stats to table\n",
    "# Join doesn't like drawing right from the fc\n",
    "tbl = arcpy.TableToTable_conversion(rs_st, env.workspace, 'riverstreams_stats_tbl')\n",
    "\n",
    "fields_nowgt = ['Falling_GW', 'PumpStr', 'WW_Norm_Str', 'Shallow_GW', 'CommitThr', 'WW_Norm_Thr', \n",
    "          'Recharge', 'RenormThr', \n",
    "          'GRAZE', 'HORSE_BURRO', 'ELK',\n",
    "          'Ung_Wgt_Str', 'Ung_Wgt_Thr', \n",
    "          'NN_Wgt_Str', 'NN_Wgt_Thr',\n",
    "          'HousingStr', 'SurfaceDiv', 'HA_Wgt_Str', 'HA_Wgt_Thr',\n",
    "          'ScoreStr', 'ScoreThr']\n",
    "\n",
    "arcpy.JoinField_management(rs_og, 'OBJECTID', tbl, 'OBJECTID', fields_nowgt)\n",
    "print([f.name for f in arcpy.ListFields(rs_og)])"
   ]
  },
  {
   "cell_type": "code",
   "execution_count": null,
   "metadata": {},
   "outputs": [],
   "source": [
    "fc = rs_og\n",
    "arcpy.AlterField_management(fc, 'Falling_GW', 'Falling_GW', 'Falling Groundwater Level Score (groundwater withdrawal stress)')\n",
    "arcpy.AlterField_management(fc, 'PumpStr', 'Pump_GW', 'Pumping Status Score (groundwater withdrawal stress)')\n",
    "arcpy.AlterField_management(fc, 'WW_Norm_Str', 'GW_Str', 'Groundwater Withdrawal Stress Score')\n",
    "\n",
    "arcpy.AlterField_management(fc, 'Shallow_GW', 'Shallow_GW', 'Shallow Groundwater Score (groundwater withdrawal threat)')\n",
    "arcpy.AlterField_management(fc, 'CommitThr', 'Commit_GW', 'Appropriation Status Score (groundwater withdrawal threat)')\n",
    "arcpy.AlterField_management(fc, 'WW_Norm_Thr', 'GW_Thr', 'Groundwater Withdrawal Threat Score')\n",
    "\n",
    "arcpy.AlterField_management(fc, 'Recharge', 'Clim_Str', 'Climate Stress Score')\n",
    "arcpy.AlterField_management(fc, 'RenormThr', 'Clim_Thr', 'Climate Threat Score')\n",
    "\n",
    "arcpy.AlterField_management(fc, 'GRAZE', 'Ung_Graze', 'Cattle and Sheep Potential')\n",
    "arcpy.AlterField_management(fc, 'HORSE_BURRO', 'Ung_WHB', 'Wild Horse and Burro Potential')\n",
    "arcpy.AlterField_management(fc, 'ELK', 'Ung_Elk', 'Elk Potential')\n",
    "arcpy.AlterField_management(fc, 'Ung_Wgt_Str', 'Ung_Str', 'Ungulate Stress Score')\n",
    "arcpy.AlterField_management(fc, 'Ung_Wgt_Thr', 'Ung_Thr', 'Ungulate Threat Score')\n",
    "\n",
    "arcpy.AlterField_management(fc, 'NN_Wgt_Str', 'NN_Str', 'Non-native Species Stress Score')\n",
    "arcpy.AlterField_management(fc, 'NN_Wgt_Thr', 'NN_Thr', 'Non-native Species Threat Score')\n",
    "\n",
    "arcpy.AlterField_management(fc, 'HousingStr', 'Hous_OHD', 'Housing Density Stress Score (other human development stress)')\n",
    "arcpy.AlterField_management(fc, 'SurfaceDiv', 'SurfDiv_OHD', 'Surface Water Diversions (other human development stress)')\n",
    "arcpy.AlterField_management(fc, 'HA_Wgt_Str', 'OHD_Str', 'Other Human Development Stress Score')\n",
    "arcpy.AlterField_management(fc, 'HA_Wgt_Thr', 'OHD_Thr', 'Other Human Development Threat Score')\n",
    "\n",
    "arcpy.AlterField_management(fc, 'ScoreStr', 'Score_Str', 'Overall Stress Score')\n",
    "arcpy.AlterField_management(fc, 'ScoreThr', 'Score_Thr', 'Overall Threat Score')\n",
    "\n",
    "print([f.name for f in arcpy.ListFields(fc)])\n"
   ]
  },
  {
   "cell_type": "markdown",
   "metadata": {},
   "source": [
    "### Lakes & Playas"
   ]
  },
  {
   "cell_type": "code",
   "execution_count": null,
   "metadata": {},
   "outputs": [],
   "source": [
    "lp_og = r'K:\\GIS3\\Projects\\GDE\\Geospatial\\NV_iGDE_032322.gdb\\Lakes_Playas'\n",
    "print(arcpy.GetCount_management(lp_og))\n",
    "print([f.name for f in arcpy.ListFields(lp_og)])\n",
    "lp_st = r'K:\\GIS3\\Projects\\GDE\\Geospatial\\NV_iGDE_assess2.gdb\\Lakes_Playas'\n",
    "print(arcpy.GetCount_management(lp_st))\n",
    "print([f.name for f in arcpy.ListFields(lp_st)])"
   ]
  },
  {
   "cell_type": "code",
   "execution_count": null,
   "metadata": {},
   "outputs": [],
   "source": [
    "# Copy stats to table\n",
    "tbl = arcpy.TableToTable_conversion(lp_st, env.workspace, 'lakesplayas_stats_tbl')\n",
    "\n",
    "# To match other feature classes, add intermediate ungulate fields\n",
    "# All values == 0 (no ungulate stress/threat to lakes & playas)\n",
    "arcpy.AddField_management(tbl, 'GRAZE', 'LONG')\n",
    "arcpy.AddField_management(tbl, 'HORSE_BURRO', 'LONG')\n",
    "arcpy.AddField_management(tbl, 'ELK', 'LONG')\n",
    "ung_fields = ['GRAZE', 'HORSE_BURRO', 'ELK']\n",
    "arcpy.CalculateField_management(tbl, ung_fields[0], 0, 'PYTHON3')\n",
    "arcpy.CalculateField_management(tbl, ung_fields[1], 0, 'PYTHON3')\n",
    "arcpy.CalculateField_management(tbl, ung_fields[2], 0, 'PYTHON3')"
   ]
  },
  {
   "cell_type": "code",
   "execution_count": null,
   "metadata": {},
   "outputs": [],
   "source": [
    "fields_nowgt = ['Falling_GW', 'PumpStr', 'WW_Norm_Str', 'Shallow_GW', 'CommitThr', 'WW_Norm_Thr', \n",
    "          'Recharge', 'RenormThr', \n",
    "          'GRAZE', 'HORSE_BURRO', 'ELK',\n",
    "          'Ung_Wgt_Str', 'Ung_Wgt_Thr', \n",
    "          'NN_Wgt_Str', 'NN_Wgt_Thr',\n",
    "          'HousingStr', 'SurfaceDiv', 'HA_Wgt_Str', 'HA_Wgt_Thr',\n",
    "          'ScoreStr', 'ScoreThr']\n",
    "\n",
    "\n",
    "arcpy.JoinField_management(lp_og, 'OBJECTID', tbl, 'OBJECTID', fields_nowgt)\n",
    "print([f.name for f in arcpy.ListFields(lp_og)])"
   ]
  },
  {
   "cell_type": "code",
   "execution_count": null,
   "metadata": {},
   "outputs": [],
   "source": [
    "fc = lp_og\n",
    "arcpy.AlterField_management(fc, 'Falling_GW', 'Falling_GW', 'Falling Groundwater Level Score (groundwater withdrawal stress)')\n",
    "arcpy.AlterField_management(fc, 'PumpStr', 'Pump_GW', 'Pumping Status Score (groundwater withdrawal stress)')\n",
    "arcpy.AlterField_management(fc, 'WW_Norm_Str', 'GW_Str', 'Groundwater Withdrawal Stress Score')\n",
    "\n",
    "arcpy.AlterField_management(fc, 'Shallow_GW', 'Shallow_GW', 'Shallow Groundwater Score (groundwater withdrawal threat)')\n",
    "arcpy.AlterField_management(fc, 'CommitThr', 'Commit_GW', 'Appropriation Status Score (groundwater withdrawal threat)')\n",
    "arcpy.AlterField_management(fc, 'WW_Norm_Thr', 'GW_Thr', 'Groundwater Withdrawal Threat Score')\n",
    "\n",
    "arcpy.AlterField_management(fc, 'Recharge', 'Clim_Str', 'Climate Stress Score')\n",
    "arcpy.AlterField_management(fc, 'RenormThr', 'Clim_Thr', 'Climate Threat Score')\n",
    "\n",
    "arcpy.AlterField_management(fc, 'GRAZE', 'Ung_Graze', 'Cattle and Sheep Potential')\n",
    "arcpy.AlterField_management(fc, 'HORSE_BURRO', 'Ung_WHB', 'Wild Horse and Burro Potential')\n",
    "arcpy.AlterField_management(fc, 'ELK', 'Ung_Elk', 'Elk Potential')\n",
    "arcpy.AlterField_management(fc, 'Ung_Wgt_Str', 'Ung_Str', 'Ungulate Stress Score')\n",
    "arcpy.AlterField_management(fc, 'Ung_Wgt_Thr', 'Ung_Thr', 'Ungulate Threat Score')\n",
    "\n",
    "arcpy.AlterField_management(fc, 'NN_Wgt_Str', 'NN_Str', 'Non-native Species Stress Score')\n",
    "arcpy.AlterField_management(fc, 'NN_Wgt_Thr', 'NN_Thr', 'Non-native Species Threat Score')\n",
    "\n",
    "arcpy.AlterField_management(fc, 'HousingStr', 'Hous_OHD', 'Housing Density Stress Score (other human development stress)')\n",
    "arcpy.AlterField_management(fc, 'SurfaceDiv', 'SurfDiv_OHD', 'Surface Water Diversions (other human development stress)')\n",
    "arcpy.AlterField_management(fc, 'HA_Wgt_Str', 'OHD_Str', 'Other Human Development Stress Score')\n",
    "arcpy.AlterField_management(fc, 'HA_Wgt_Thr', 'OHD_Thr', 'Other Human Development Threat Score')\n",
    "\n",
    "arcpy.AlterField_management(fc, 'ScoreStr', 'Score_Str', 'Overall Stress Score')\n",
    "arcpy.AlterField_management(fc, 'ScoreThr', 'Score_Thr', 'Overall Threat Score')\n",
    "\n",
    "print([f.name for f in arcpy.ListFields(fc)])"
   ]
  },
  {
   "cell_type": "markdown",
   "metadata": {},
   "source": [
    "### Phreatophytes\n",
    "\n",
    "Slightly different method than other feature classes; since we \"exploded\" (multipart to singlepart) the phreatophytes layer to better calculate stress/threat to individual phreatophyte features, we'll just replace the copied layer in the geodatabase with the one in the stress/threats stats geodatabase."
   ]
  },
  {
   "cell_type": "code",
   "execution_count": null,
   "metadata": {},
   "outputs": [],
   "source": [
    "phr_og = r'K:\\GIS3\\Projects\\GDE\\Geospatial\\NV_iGDE_032322.gdb\\Phreatophytes'\n",
    "print(arcpy.GetCount_management(phr_og))\n",
    "print([f.name for f in arcpy.ListFields(phr_og)])\n",
    "phr_st = r'K:\\GIS3\\Projects\\GDE\\Geospatial\\NV_iGDE_assess2.gdb\\Phreatophytes_Explode'\n",
    "print(arcpy.GetCount_management(phr_st))\n",
    "print([f.name for f in arcpy.ListFields(phr_st)])"
   ]
  },
  {
   "cell_type": "code",
   "execution_count": null,
   "metadata": {},
   "outputs": [],
   "source": [
    "# Delete Phreatophytes feature in new GDB\n",
    "arcpy.Delete_management(phr_og)"
   ]
  },
  {
   "cell_type": "code",
   "execution_count": null,
   "metadata": {},
   "outputs": [],
   "source": [
    "# Copy exploded phreatophytes to new GDB\n",
    "# Only copy over necessary fields\n",
    "phr_fields = ['SOURCE_CODE', 'PHR_TYPE', 'PHR_GROUP', 'COMMENTS',\n",
    "            'Falling_GW', 'PumpStr', 'WW_Norm_Str', 'Shallow_GW', 'CommitThr', 'WW_Norm_Thr', \n",
    "            'Recharge', 'RenormThr', \n",
    "            'GRAZE', 'HORSE_BURR', 'ELK',\n",
    "            'Ung_Wgt_Str', 'Ung_Wgt_Thr', \n",
    "            'NN_Wgt_Str', 'NN_Wgt_Thr',\n",
    "            'HousingStr', 'SurfaceDiv', 'HA_Wgt_Str', 'HA_Wgt_Thr',\n",
    "            'ScoreStr', 'ScoreThr']"
   ]
  },
  {
   "cell_type": "code",
   "execution_count": null,
   "metadata": {},
   "outputs": [],
   "source": [
    "# Field mapping object\n",
    "fmap = arcpy.FieldMappings()\n",
    "for f in phr_fields:\n",
    "    print(f)\n",
    "    fm = arcpy.FieldMap()\n",
    "    fm.addInputField(phr_st, f)\n",
    "    fmap.addFieldMap(fm)\n",
    "    \n",
    "# Copy to GDB with only named fields - will take a minute\n",
    "arcpy.FeatureClassToFeatureClass_conversion(phr_st, r'K:\\GIS3\\Projects\\GDE\\Geospatial\\NV_iGDE_032322.gdb', 'Phreatophytes',\n",
    "                                            '', fmap)\n",
    "print([f.name for f in arcpy.ListFields(phr_st)])"
   ]
  },
  {
   "cell_type": "code",
   "execution_count": null,
   "metadata": {},
   "outputs": [],
   "source": [
    "phr_new = r'K:\\GIS3\\Projects\\GDE\\Geospatial\\NV_iGDE_032322.gdb\\Phreatophytes'\n",
    "fc = phr_new\n",
    "arcpy.AlterField_management(fc, 'Falling_GW', 'Falling_GW', 'Falling Groundwater Level Score (groundwater withdrawal stress)')\n",
    "arcpy.AlterField_management(fc, 'PumpStr', 'Pump_GW', 'Pumping Status Score (groundwater withdrawal stress)')\n",
    "arcpy.AlterField_management(fc, 'WW_Norm_Str', 'GW_Str', 'Groundwater Withdrawal Stress Score')\n",
    "\n",
    "arcpy.AlterField_management(fc, 'Shallow_GW', 'Shallow_GW', 'Shallow Groundwater Score (groundwater withdrawal threat)')\n",
    "arcpy.AlterField_management(fc, 'CommitThr', 'Commit_GW', 'Appropriation Status Score (groundwater withdrawal threat)')\n",
    "arcpy.AlterField_management(fc, 'WW_Norm_Thr', 'GW_Thr', 'Groundwater Withdrawal Threat Score')\n",
    "\n",
    "arcpy.AlterField_management(fc, 'Recharge', 'Clim_Str', 'Climate Stress Score')\n",
    "arcpy.AlterField_management(fc, 'RenormThr', 'Clim_Thr', 'Climate Threat Score')\n",
    "\n",
    "arcpy.AlterField_management(fc, 'GRAZE', 'Ung_Graze', 'Cattle and Sheep Potential')\n",
    "arcpy.AlterField_management(fc, 'HORSE_BURR', 'Ung_WHB', 'Wild Horse and Burro Potential')\n",
    "arcpy.AlterField_management(fc, 'ELK', 'Ung_Elk', 'Elk Potential')\n",
    "arcpy.AlterField_management(fc, 'Ung_Wgt_Str', 'Ung_Str', 'Ungulate Stress Score')\n",
    "arcpy.AlterField_management(fc, 'Ung_Wgt_Thr', 'Ung_Thr', 'Ungulate Threat Score')\n",
    "\n",
    "arcpy.AlterField_management(fc, 'NN_Wgt_Str', 'NN_Str', 'Non-native Species Stress Score')\n",
    "arcpy.AlterField_management(fc, 'NN_Wgt_Thr', 'NN_Thr', 'Non-native Species Threat Score')\n",
    "\n",
    "arcpy.AlterField_management(fc, 'HousingStr', 'Hous_OHD', 'Housing Density Stress Score (other human development stress)')\n",
    "arcpy.AlterField_management(fc, 'SurfaceDiv', 'SurfDiv_OHD', 'Surface Water Diversions (other human development stress)')\n",
    "arcpy.AlterField_management(fc, 'HA_Wgt_Str', 'OHD_Str', 'Other Human Development Stress Score')\n",
    "arcpy.AlterField_management(fc, 'HA_Wgt_Thr', 'OHD_Thr', 'Other Human Development Threat Score')\n",
    "\n",
    "arcpy.AlterField_management(fc, 'ScoreStr', 'Score_Str', 'Overall Stress Score')\n",
    "arcpy.AlterField_management(fc, 'ScoreThr', 'Score_Thr', 'Overall Threat Score')\n",
    "\n",
    "print([f.name for f in arcpy.ListFields(fc)])"
   ]
  },
  {
   "cell_type": "markdown",
   "metadata": {},
   "source": [
    "## Copy to shapefiles\n",
    "\n",
    "Or any non-geodatabase format"
   ]
  },
  {
   "cell_type": "code",
   "execution_count": null,
   "metadata": {},
   "outputs": [],
   "source": [
    "# Folder to write shapefiles to\n",
    "#shps = r'shp_folder_path'\n",
    "shps = r'K:\\GIS3\\Projects\\GDE\\Geospatial\\NV_iGDE_032322_shps'\n",
    "\n",
    "# Geodatabase to pull from\n",
    "#gdb_path = r'path_to_folder\\gdbname.gdb'\n",
    "gdb_path = r'K:\\GIS3\\Projects\\GDE\\Geospatial\\NV_iGDE_032322.gdb'\n",
    "env.workspace = gdb_path\n",
    "print(arcpy.ListFeatures(gdes))\n",
    "\n",
    "# # Feature classes with stress/threat stats\n",
    "# arcpy.CopyFeatures_management(spr_og, r'shp_folder_path\\NV_iGDE_Springs.shp')\n",
    "# arcpy.CopyFeatures_management(wet_og, r'shp_folder_path\\NV_iGDE_Wetlands.shp')\n",
    "# arcpy.CopyFeatures_management(rs_og, r'shp_folder_path\\NV_iGDE_Rivers_Streams.shp')\n",
    "# arcpy.CopyFeatures_management(lp_og, r'shp_folder_path\\NV_iGDE_Lakes_Playas.shp')\n",
    "# arcpy.CopyFeatures_management(phr_og, r'shp_folder_path\\NV_iGDE_Phreatohpytes.shp')\n",
    "\n",
    "# # Tables (optional) from of the geodatabase\n",
    "# arcpy.CopyFeatures_management('path_to_folder\\gdbname.gdb\\Species', \n",
    "#                               r'shp_folder_path\\NV_iGDE_Species.shp')\n",
    "# arcpy.TableToTable_conversion('path_to_folder\\gdbname.gdb\\Species_tbl', \n",
    "#                               r'shp_folder_path', 'NV_iGDE_Species_tbl.dbf')\n",
    "# arcpy.TableToTable_conversion('path_to_folder\\gdbname.gdb\\Source_tbl', \n",
    "#                               r'shp_folder_path', 'NV_iGDE_Source_tbl.dbf')\n",
    "\n",
    "\n",
    "arcpy.CopyFeatures_management(spr_og, r'K:\\GIS3\\Projects\\GDE\\Geospatial\\NV_iGDE_032322_shps\\NV_iGDE_Springs.shp')\n",
    "arcpy.CopyFeatures_management(wet_og, r'K:\\GIS3\\Projects\\GDE\\Geospatial\\NV_iGDE_032322_shps\\NV_iGDE_Wetlands.shp')\n",
    "arcpy.CopyFeatures_management(rs_og, r'K:\\GIS3\\Projects\\GDE\\Geospatial\\NV_iGDE_032322_shps\\NV_iGDE_Rivers_Streams.shp')\n",
    "arcpy.CopyFeatures_management(lp_og, r'K:\\GIS3\\Projects\\GDE\\Geospatial\\NV_iGDE_032322_shps\\NV_iGDE_Lakes_Playas.shp')\n",
    "arcpy.CopyFeatures_management(phr_og, r'K:\\GIS3\\Projects\\GDE\\Geospatial\\NV_iGDE_032322_shps\\NV_iGDE_Phreatohpytes.shp')\n",
    "\n",
    "arcpy.CopyFeatures_management('K:\\GIS3\\Projects\\GDE\\Geospatial\\NV_iGDE_032322.gdb\\Species', \n",
    "                              r'K:\\GIS3\\Projects\\GDE\\Geospatial\\NV_iGDE_032322_shps\\NV_iGDE_Species.shp')\n",
    "arcpy.TableToTable_conversion('K:\\GIS3\\Projects\\GDE\\Geospatial\\NV_iGDE_032322.gdb\\Species_tbl', \n",
    "                              r'K:\\GIS3\\Projects\\GDE\\Geospatial\\NV_iGDE_032322_shps', 'NV_iGDE_Species_tbl.dbf')\n",
    "arcpy.TableToTable_conversion('K:\\GIS3\\Projects\\GDE\\Geospatial\\NV_iGDE_032322.gdb\\Source_tbl', \n",
    "                              r'K:\\GIS3\\Projects\\GDE\\Geospatial\\NV_iGDE_032322_shps', 'NV_iGDE_Source_tbl.dbf')\n"
   ]
  },
  {
   "cell_type": "code",
   "execution_count": null,
   "metadata": {},
   "outputs": [],
   "source": []
  }
 ],
 "metadata": {
  "language_info": {
   "name": "python"
  }
 },
 "nbformat": 4,
 "nbformat_minor": 2
}
