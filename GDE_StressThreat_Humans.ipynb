{
 "cells": [
  {
   "cell_type": "markdown",
   "metadata": {},
   "source": [
    "# Notebook to estimate stress/threat to GDEs from human activities\n",
    "\n",
    "Determine whether GDEs are at risk of damage from people\n",
    "- Roads and housing density - redundant?\n",
    "- Surface water diversions from NDWR database - PODs?"
   ]
  },
  {
   "cell_type": "markdown",
   "metadata": {},
   "source": [
    "## Set up environments in ArcGIS Pro"
   ]
  },
  {
   "cell_type": "code",
   "execution_count": null,
   "metadata": {},
   "outputs": [],
   "source": [
    "# Import ArcGIS modules and check out spatial analyst extension\n",
    "import arcpy\n",
    "import os\n",
    "import pandas as pd\n",
    "import numpy as np\n",
    "from arcpy import env\n",
    "from arcpy.sa import *\n",
    "arcpy.CheckOutExtension(\"spatial\")"
   ]
  },
  {
   "cell_type": "code",
   "execution_count": null,
   "metadata": {},
   "outputs": [],
   "source": [
    "# Path to temporary geodatabase\n",
    "#path =  r\"folder_path\\gdbname.gdb\"\n",
    "path =  r\"K:\\GIS3\\Projects\\GDE\\Maps\\GDE_Threats\\GDE_Threats.gdb\"\n",
    "\n",
    "# Environment settings\n",
    "env.workspace = path\n",
    "env.overwriteOutput = True\n",
    "env.outputCoordinateSystem = arcpy.SpatialReference(26911) # Spatial reference NAD 1983 UTM Zone 11N. The code is '26911'"
   ]
  },
  {
   "cell_type": "code",
   "execution_count": null,
   "metadata": {},
   "outputs": [],
   "source": [
    "# GDE layers\n",
    "# springs = r'path_to_folder\\NV_iGDE_assess.gdb\\Springs'\n",
    "# wet = r'path_to_folder\\NV_iGDE_assess.gdb\\Wetlands'\n",
    "# phr = r'path_to_folder\\NV_iGDE_assess.gdb\\Phreatophytes_Explode'\n",
    "# lp = r'path_to_folder\\NV_iGDE_assess.gdb\\Lakes_Playas'\n",
    "# rs = r'path_to_folder\\NV_iGDE_assess.gdb\\Rivers_Streams'\n",
    "\n",
    "springs = r'E:\\RCF Data Recovery\\Recovered Files\\P00\\GDE_Threats\\Hydrology\\NV_iGDE_assess.gdb\\Springs'\n",
    "wet = r'E:\\RCF Data Recovery\\Recovered Files\\P00\\GDE_Threats\\Hydrology\\NV_iGDE_assess.gdb\\Wetlands'\n",
    "phr = r'E:\\RCF Data Recovery\\Recovered Files\\P00\\GDE_Threats\\Hydrology\\NV_iGDE_assess.gdb\\Phreatophytes_Explode'\n",
    "lp = r'E:\\RCF Data Recovery\\Recovered Files\\P00\\GDE_Threats\\Hydrology\\NV_iGDE_assess.gdb\\Lakes_Playas'\n",
    "rs = r'E:\\RCF Data Recovery\\Recovered Files\\P00\\GDE_Threats\\Hydrology\\NV_iGDE_assess.gdb\\Rivers_Streams'"
   ]
  },
  {
   "cell_type": "markdown",
   "metadata": {},
   "source": [
    "## Surface Diversions and Stress to GDEs\n",
    "\n",
    "Surface diversion data (POD/point of diversion) from NDWR. Buffer by half-mile.\n",
    "\n",
    "Attribute: __SurfaceDiv = 0.1 (least stress due to uncertainty in data) or 1 (surface diversion observed, stressed)__"
   ]
  },
  {
   "cell_type": "code",
   "execution_count": null,
   "metadata": {},
   "outputs": [],
   "source": [
    "# Subset surface diversions from POD dataset\n",
    "pod = arcpy.CopyFeatures_management(r'path_to_folder\\POD_101719.shp', 'pods_surface')\n",
    "print([f.name for f in arcpy.ListFields(pod)])\n",
    "print(arcpy.GetCount_management(pod))"
   ]
  },
  {
   "cell_type": "code",
   "execution_count": null,
   "metadata": {},
   "outputs": [],
   "source": [
    "# Subset types of diversions\n",
    "surface = ['STO', 'STR', 'SPR', 'LAK', 'RES', 'OSW'] # storage, stream, spring, lake, rservoir, other surface water\n",
    "with arcpy.da.UpdateCursor(pod, 'source') as cursor:\n",
    "    for row in cursor:\n",
    "        if (row[0] not in surface):\n",
    "            print(row[0])\n",
    "            cursor.deleteRow()\n",
    "del cursor\n",
    "print(arcpy.GetCount_management(pod))"
   ]
  },
  {
   "cell_type": "code",
   "execution_count": null,
   "metadata": {},
   "outputs": [],
   "source": [
    "# Same as water level trend data - buffer by a half-mile and overlay GDEs\n",
    "pod_buff = arcpy.Buffer_analysis(pod, 'pods_surface_halfmile', '0.5 Mile', '', '', 'ALL')\n",
    "pod_buff = r'pods_surface_halfmile'\n",
    "print([f.name for f in arcpy.ListFields(pod_buff)])"
   ]
  },
  {
   "cell_type": "code",
   "execution_count": null,
   "metadata": {},
   "outputs": [],
   "source": [
    "# Select and attribute GDEs, as above\n",
    "# Springs\n",
    "arcpy.AddField_management(springs, 'SurfaceDiv', 'DOUBLE')\n",
    "arcpy.CalculateField_management(springs, 'SurfaceDiv', 0.1)\n",
    "[f.name for f in arcpy.ListFields(springs)]\n",
    "spr_select = arcpy.SelectLayerByLocation_management(springs, 'INTERSECT', pod_buff)\n",
    "arcpy.CalculateField_management(spr_select, 'SurfaceDiv', 1)\n",
    "\n",
    "# Phreatophytes\n",
    "arcpy.AddField_management(phr, 'SurfaceDiv', 'DOUBLE')\n",
    "arcpy.CalculateField_management(phr, 'SurfaceDiv', 0.1)\n",
    "[f.name for f in arcpy.ListFields(phr)]\n",
    "phr_select = arcpy.SelectLayerByLocation_management(phr, 'INTERSECT', pod_buff)\n",
    "arcpy.CalculateField_management(phr_select, 'SurfaceDiv', 1)\n",
    "\n",
    "# Wetlands\n",
    "arcpy.AddField_management(wet, 'SurfaceDiv', 'DOUBLE')\n",
    "arcpy.CalculateField_management(wet, 'SurfaceDiv', 0.1)\n",
    "[f.name for f in arcpy.ListFields(wet)]\n",
    "wet_select = arcpy.SelectLayerByLocation_management(wet, 'INTERSECT', pod_buff)\n",
    "arcpy.CalculateField_management(wet_select, 'SurfaceDiv', 1)\n",
    "\n",
    "# Rivers/Streams\n",
    "arcpy.AddField_management(rs, 'SurfaceDiv', 'DOUBLE')\n",
    "arcpy.CalculateField_management(rs, 'SurfaceDiv', 0.1)\n",
    "[f.name for f in arcpy.ListFields(rs)]\n",
    "rs_select = arcpy.SelectLayerByLocation_management(rs, 'INTERSECT', pod_buff)\n",
    "arcpy.CalculateField_management(rs_select, 'SurfaceDiv', 1)\n",
    "\n",
    "# Lakes/Playas\n",
    "arcpy.AddField_management(lp, 'SurfaceDiv', 'DOUBLE')\n",
    "arcpy.CalculateField_management(lp, 'SurfaceDiv', 0.1)\n",
    "[f.name for f in arcpy.ListFields(lp)]\n",
    "lp_select = arcpy.SelectLayerByLocation_management(lp, 'INTERSECT', pod_buff)\n",
    "arcpy.CalculateField_management(lp_select, 'SurfaceDiv', 1)\n"
   ]
  },
  {
   "cell_type": "markdown",
   "metadata": {},
   "source": [
    "## Format housing density data\n",
    "\n",
    "Read in rasters of current (2010) and future (2060) housing density. Claculate change in housing density for threat analysis.\n"
   ]
  },
  {
   "cell_type": "code",
   "execution_count": null,
   "metadata": {},
   "outputs": [],
   "source": [
    "# Housing Density\n",
    "hd_now = arcpy.Raster(r'path_to_folder\\density_theobald_mos_2010.tif')\n",
    "hd_future = arcpy.Raster(r'path_to_folder\\density_theobald_2060.tif')\n",
    "\n",
    "# Normalize 0 to 1\n",
    "hd_now_norm = hd_now/hd_now.maximum\n",
    "hd_future_norm = hd_future/hd_future.maximum\n",
    "\n",
    "# Save normalized rasters\n",
    "arcpy.CopyRaster_management(hd_now_norm, r'aoth_to_folder\\density_theobald_2010_norm.tif')\n",
    "arcpy.CopyRaster_management(hd_future_norm, r'path_to_folder\\density_theobald_2060_norm.tif')\n"
   ]
  },
  {
   "cell_type": "code",
   "execution_count": null,
   "metadata": {},
   "outputs": [],
   "source": [
    "# Change in housing density\n",
    "hd_change = hd_future - hd_now \n",
    "arcpy.CopyRaster_management(hd_change, r'path_to_folder\\density_theobald_2010to2060.tif')\n",
    "\n",
    "# Positive values == increase in housing density\n",
    "# Make negative values (places that decreased in density) NULL\n",
    "x = SetNull(hd_change, hd_change, \"Value < 1\")\n",
    "x.save('density_change_null')\n",
    "hd_change_norm = x/x.maximum\n",
    "arcpy.CopyRaster_management(hd_change_norm, r'path_to_folder\\density_theobald_change_norm.tif')\n"
   ]
  },
  {
   "cell_type": "markdown",
   "metadata": {},
   "source": [
    "## Stress from current housing density\n",
    "\n",
    "Not using roads for this value; too redundant.\n",
    "\n",
    "Attribute: __HousingStr = 0 to 1 (less to more stress depending on normalized housing density)__"
   ]
  },
  {
   "cell_type": "code",
   "execution_count": null,
   "metadata": {},
   "outputs": [],
   "source": [
    "# Current housing density\n",
    "hd = arcpy.Raster(r'path_to_folder\\density_theobald_2010_norm.tif')"
   ]
  },
  {
   "cell_type": "code",
   "execution_count": null,
   "metadata": {},
   "outputs": [],
   "source": [
    "# Springs\n",
    "temp_spr = arcpy.sa.ExtractValuesToPoints(springs, hd, 'springs_house_dens')\n",
    "[f.name for f in arcpy.ListFields(temp_spr)]\n",
    "arcpy.AddField_management(temp_spr, 'HousingStr', 'DOUBLE')\n",
    "arcpy.CalculateField_management(temp_spr, 'HousingStr', '!RASTERVALU!', 'PYTHON3')\n",
    "arcpy.JoinField_management(springs, 'OBJECTID', temp_spr, 'OBJECTID', ['HousingStr'])\n",
    "[f.name for f in arcpy.ListFields(springs)]\n",
    "\n",
    "# Wetlands\n",
    "temp_wet = arcpy.sa.ZonalStatisticsAsTable(wet, 'OBJECTID', hd, 'wetlands_house_dens_tbl', 'DATA', 'MEAN')\n",
    "[f.name for f in arcpy.ListFields(temp_wet)]\n",
    "arcpy.AddField_management(temp_wet, 'HousingStr', 'DOUBLE')\n",
    "arcpy.CalculateField_management(temp_wet, 'HousingStr', '!MEAN!', 'PYTHON3')\n",
    "arcpy.JoinField_management(wet, 'OBJECTID', temp_wet, 'OBJECTID_1', ['HousingStr'])\n",
    "[f.name for f in arcpy.ListFields(wet)]\n",
    "\n",
    "# PHreatophytes\n",
    "temp_phr = arcpy.sa.ZonalStatisticsAsTable(phr, 'OBJECTID', hd, 'phr_house_dens_tbl', 'DATA', 'MEAN')\n",
    "[f.name for f in arcpy.ListFields(temp_phr)]\n",
    "arcpy.AddField_management(temp_phr, 'HousingStr', 'DOUBLE')\n",
    "arcpy.CalculateField_management(temp_phr, 'HousingStr', '!MEAN!', 'PYTHON3')\n",
    "arcpy.JoinField_management(phr, 'OBJECTID', temp_phr, 'OBJECTID_1', ['HousingStr'])\n",
    "[f.name for f in arcpy.ListFields(phr)]\n",
    "\n",
    "# Lakes/playas\n",
    "temp_lp = arcpy.sa.ZonalStatisticsAsTable(lp, 'OBJECTID', hd, 'lp_house_dens_tbl', 'DATA', 'MEAN')\n",
    "[f.name for f in arcpy.ListFields(temp_lp)]\n",
    "arcpy.AddField_management(temp_lp, 'HousingStr', 'DOUBLE')\n",
    "arcpy.CalculateField_management(temp_lp, 'HousingStr', '!MEAN!', 'PYTHON3')\n",
    "arcpy.JoinField_management(lp, 'OBJECTID', temp_lp, 'OBJECTID_1', ['HousingStr'])\n",
    "[f.name for f in arcpy.ListFields(lp)]\n",
    "\n",
    "# Rivers/streams\n",
    "temp_rs = arcpy.sa.ZonalStatisticsAsTable(rs, 'OBJECTID', hd, 'rs_house_dens_tbl', 'DATA', 'MEAN')\n",
    "[f.name for f in arcpy.ListFields(temp_rs)]\n",
    "arcpy.AddField_management(temp_rs, 'HousingStr', 'DOUBLE')\n",
    "arcpy.CalculateField_management(temp_rs, 'HousingStr', '!MEAN!', 'PYTHON3')\n",
    "arcpy.JoinField_management(rs, 'OBJECTID', temp_rs, 'OBJECTID_1', ['HousingStr'])\n",
    "[f.name for f in arcpy.ListFields(rs)]"
   ]
  },
  {
   "cell_type": "markdown",
   "metadata": {},
   "source": [
    "## Threat from projected change in housing density\n",
    "\n",
    "Attribute: __HousingThr = 0 to 1 (less to more stress depending on normalized housing density change)__"
   ]
  },
  {
   "cell_type": "code",
   "execution_count": null,
   "metadata": {},
   "outputs": [],
   "source": [
    "# Change in projected housing density\n",
    "hd = r'path_to_folder\\density_theobald_change_norm.tif'"
   ]
  },
  {
   "cell_type": "code",
   "execution_count": null,
   "metadata": {},
   "outputs": [],
   "source": [
    "# Springs\n",
    "arcpy.DeleteField_management(springs, 'HousingThr')\n",
    "temp_spr = arcpy.sa.ExtractValuesToPoints(springs, hd, 'springs_house_dens_change')\n",
    "[f.name for f in arcpy.ListFields(temp_spr)]\n",
    "arcpy.AddField_management(temp_spr, 'HousingThr', 'DOUBLE')\n",
    "arcpy.CalculateField_management(temp_spr, 'HousingThr', '!RASTERVALU!', 'PYTHON3')\n",
    "arcpy.JoinField_management(springs, 'OBJECTID', temp_spr, 'OBJECTID', ['HousingThr'])\n",
    "[f.name for f in arcpy.ListFields(springs)]\n",
    "\n",
    "# Wetlands\n",
    "arcpy.DeleteField_management(wet, 'HousingThr')\n",
    "temp_wet = arcpy.sa.ZonalStatisticsAsTable(wet, 'OBJECTID', hd, 'wetlands_house_denschange_tbl', 'DATA', 'MEAN')\n",
    "[f.name for f in arcpy.ListFields(temp_wet)]\n",
    "arcpy.AddField_management(temp_wet, 'HousingThr', 'DOUBLE')\n",
    "arcpy.CalculateField_management(temp_wet, 'HousingThr', '!MEAN!', 'PYTHON3')\n",
    "arcpy.JoinField_management(wet, 'OBJECTID', temp_wet, 'OBJECTID_1', ['HousingThr'])\n",
    "[f.name for f in arcpy.ListFields(wet)]\n",
    "\n",
    "# PHreatophytes\n",
    "arcpy.DeleteField_management(phr, 'HousingThr')\n",
    "temp_phr = arcpy.sa.ZonalStatisticsAsTable(phr, 'OBJECTID', hd, 'phr_house_denschange_tbl', 'DATA', 'MEAN')\n",
    "[f.name for f in arcpy.ListFields(temp_phr)]\n",
    "arcpy.AddField_management(temp_phr, 'HousingThr', 'DOUBLE')\n",
    "arcpy.CalculateField_management(temp_phr, 'HousingThr', '!MEAN!', 'PYTHON3')\n",
    "arcpy.JoinField_management(phr, 'OBJECTID', temp_phr, 'OBJECTID_1', ['HousingThr'])\n",
    "[f.name for f in arcpy.ListFields(phr)]\n",
    "\n",
    "# Lakes/playas\n",
    "arcpy.DeleteField_management(lp, 'HousingThr')\n",
    "temp_lp = arcpy.sa.ZonalStatisticsAsTable(lp, 'OBJECTID', hd, 'lp_house_denschange_tbl', 'DATA', 'MEAN')\n",
    "[f.name for f in arcpy.ListFields(temp_lp)]\n",
    "arcpy.AddField_management(temp_lp, 'HousingThr', 'DOUBLE')\n",
    "arcpy.CalculateField_management(temp_lp, 'HousingThr', '!MEAN!', 'PYTHON3')\n",
    "arcpy.JoinField_management(lp, 'OBJECTID', temp_lp, 'OBJECTID_1', ['HousingThr'])\n",
    "[f.name for f in arcpy.ListFields(lp)]\n",
    "\n",
    "# Rivers/streams\n",
    "arcpy.DeleteField_management(rs, 'HousingThr')\n",
    "temp_rs = arcpy.sa.ZonalStatisticsAsTable(rs, 'OBJECTID', hd, 'rs_house_denschange_tbl', 'DATA', 'MEAN')\n",
    "[f.name for f in arcpy.ListFields(temp_rs)]\n",
    "arcpy.AddField_management(temp_rs, 'HousingThr', 'DOUBLE')\n",
    "arcpy.CalculateField_management(temp_rs, 'HousingThr', '!MEAN!', 'PYTHON3')\n",
    "arcpy.JoinField_management(rs, 'OBJECTID', temp_rs, 'OBJECTID_1', ['HousingThr'])\n",
    "[f.name for f in arcpy.ListFields(rs)]\n"
   ]
  }
 ],
 "metadata": {
  "kernelspec": {
   "display_name": "Python 3",
   "language": "python",
   "name": "python3"
  },
  "language_info": {
   "name": "python",
   "version": "3.9.11"
  }
 },
 "nbformat": 4,
 "nbformat_minor": 2
}
