{
 "cells": [
  {
   "cell_type": "markdown",
   "metadata": {},
   "source": [
    "# Notebook to estimate stress/threat to GDEs from non-native species\n",
    "\n",
    "Compile invasive species data. GDEs near observations of these species are considered stressed. Road density is used to estimate potential threat by transmission of species.\n",
    "\n",
    "Data sources:\n",
    "- From full NAS database download, filter out the species we want to focus on as threats to NV GDEs\n",
    "- Clean and import occurrence data from EDDMaps.org\n",
    "- Find invasive species location data in the SSI database\n",
    "- Identify invasive species presence info from BLM AIM data\n",
    "- Road density (surrogate for invasive species threat)"
   ]
  },
  {
   "cell_type": "markdown",
   "metadata": {},
   "source": [
    "List of species (common names):\n",
    "\n",
    "- bullfrog\n",
    "- Red swamp crayfish\n",
    "- Blue Tilapia\n",
    "- Signal crayfish\n",
    "- Northern crayfish\n",
    "- Northern pike\n",
    "- Small-mouth bass\n",
    "- Quagga mussel\n",
    "- Zebra mussel\n",
    "- New Zealand mudsnail\n",
    "- Tamarisk\n",
    "- Hoary cress\n",
    "- Tall whitetop\n",
    "- Eurasian watermilfoil\n",
    "- knapweed"
   ]
  },
  {
   "cell_type": "markdown",
   "metadata": {},
   "source": [
    "## Set up environments in ArcGIS Pro"
   ]
  },
  {
   "cell_type": "code",
   "execution_count": null,
   "metadata": {},
   "outputs": [],
   "source": [
    "# Import ArcGIS modules and check out spatial analyst extension\n",
    "import arcpy\n",
    "import os\n",
    "import pandas as pd\n",
    "import numpy as np\n",
    "from arcpy import env\n",
    "from arcpy.sa import *\n",
    "arcpy.CheckOutExtension(\"spatial\")"
   ]
  },
  {
   "cell_type": "code",
   "execution_count": null,
   "metadata": {},
   "outputs": [],
   "source": [
    "# Path to temporary geodatabase\n",
    "#path =  r\"folder_path\\gdbname.gdb\"\n",
    "path =  r\"K:\\GIS3\\Projects\\GDE\\Maps\\GDE_Threats\\GDE_Threats.gdb\"\n",
    "\n",
    "# Environment settings\n",
    "env.workspace = path\n",
    "env.overwriteOutput = True\n",
    "env.outputCoordinateSystem = arcpy.SpatialReference(26911) # Spatial reference NAD 1983 UTM Zone 11N. The code is '26911'"
   ]
  },
  {
   "cell_type": "code",
   "execution_count": null,
   "metadata": {},
   "outputs": [],
   "source": [
    "# GDE layers\n",
    "# springs = r'path_to_folder\\NV_iGDE_assess.gdb\\Springs'\n",
    "# wet = r'path_to_folder\\NV_iGDE_assess.gdb\\Wetlands'\n",
    "# phr = r'path_to_folder\\NV_iGDE_assess.gdb\\Phreatophytes_Explode'\n",
    "# lp = r'path_to_folder\\NV_iGDE_assess.gdb\\Lakes_Playas'\n",
    "# rs = r'path_to_folder\\NV_iGDE_assess.gdb\\Rivers_Streams'\n",
    "\n",
    "springs = r'E:\\RCF Data Recovery\\Recovered Files\\P00\\GDE_Threats\\Hydrology\\NV_iGDE_assess.gdb\\Springs'\n",
    "wet = r'E:\\RCF Data Recovery\\Recovered Files\\P00\\GDE_Threats\\Hydrology\\NV_iGDE_assess.gdb\\Wetlands'\n",
    "phr = r'E:\\RCF Data Recovery\\Recovered Files\\P00\\GDE_Threats\\Hydrology\\NV_iGDE_assess.gdb\\Phreatophytes_Explode'\n",
    "lp = r'E:\\RCF Data Recovery\\Recovered Files\\P00\\GDE_Threats\\Hydrology\\NV_iGDE_assess.gdb\\Lakes_Playas'\n",
    "rs = r'E:\\RCF Data Recovery\\Recovered Files\\P00\\GDE_Threats\\Hydrology\\NV_iGDE_assess.gdb\\Rivers_Streams'"
   ]
  },
  {
   "cell_type": "markdown",
   "metadata": {},
   "source": [
    "# Format Species data"
   ]
  },
  {
   "cell_type": "markdown",
   "metadata": {},
   "source": [
    "### USGS Non-native Aquatic Species (NAS) data\n",
    "\n",
    "https://nas.er.usgs.gov/\n",
    "\n",
    "Used a simple spatial query to export records within Nevada to a csv file."
   ]
  },
  {
   "cell_type": "code",
   "execution_count": null,
   "metadata": {},
   "outputs": [],
   "source": [
    "# Read in file of ALL NAS occurrences\n",
    "#file = r\"path_to_folder\\occurrence.csv\"\n",
    "file = r\"D:\\GDE_Threats\\Invasives\\NAS\\occurrence.csv\"\n",
    "nas = arcpy.TableToTable_conversion(file, path, 'nas_occurrence')\n",
    "print([f.name for f in arcpy.ListFields(nas)])"
   ]
  },
  {
   "cell_type": "code",
   "execution_count": null,
   "metadata": {},
   "outputs": [],
   "source": [
    "# List of species we want to focus on:\n",
    "spp = ['Lithobates catesbeianus',\n",
    "           'Procambarus clarkii',\n",
    "           'Oreochromis aureus',\n",
    "           'Pacifastacus leniusculus',\n",
    "           'Faxonius virilis',\n",
    "           'Esox lucius',\n",
    "           'Micropterus dolomieu',\n",
    "           'Dreissena rostriformis bugensis',\n",
    "           'Dreissena polymorpha',\n",
    "           'Potamopyrgus antipodarum',\n",
    "           'Myriophyllum spicatum']\n",
    "print(len(spp))"
   ]
  },
  {
   "cell_type": "code",
   "execution_count": null,
   "metadata": {},
   "outputs": [],
   "source": [
    "# Filter for species in the list from the full NAS occurrence dataset\n",
    "nas_spp = list()\n",
    "for species in spp:\n",
    "    with arcpy.da.SearchCursor(nas, 'scientificName') as cursor:\n",
    "        for row in cursor:\n",
    "            nas_spp.append(row[0])\n",
    "#            if species in row[0]:\n",
    "#                nas_spp.append(row[0])\n",
    "    del cursor\n",
    "nas_spp_u = set(nas_spp) # Unique list of all species in NAS dataset\n",
    "for species in spp:\n",
    "    if species in nas_spp:\n",
    "        print(species)"
   ]
  },
  {
   "cell_type": "code",
   "execution_count": null,
   "metadata": {},
   "outputs": [],
   "source": [
    "# Filter out those species from NAS list\n",
    "nas_filter = arcpy.Copy_management(nas, 'nas_occurrence_filter')\n",
    "with arcpy.da.UpdateCursor(nas_filter, 'scientificName') as cursor:\n",
    "    for row in cursor:\n",
    "        if not(row[0] in spp):\n",
    "            print(\"Deleting {}\".format(row[0]))\n",
    "            cursor.deleteRow()\n",
    "del cursor\n",
    "arcpy.GetCount_management(nas_filter)    \n",
    "\n",
    "# Convert to point fc\n",
    "nas_pt = arcpy.XYTableToPoint_management(nas_filter, \"nas_filter\", x_field = \"decimalLongitude\", y_field = \"decimalLatitude\")\n",
    "arcpy.GetCount_management(nas_pt)"
   ]
  },
  {
   "cell_type": "markdown",
   "metadata": {},
   "source": [
    "### EDDmaps species data\n",
    "\n",
    "\"Early Detection and Distribution Mapping System\" - community observations of invasive species.\n",
    "\n",
    "Focused on downloaded species records that were not present in NAS database."
   ]
  },
  {
   "cell_type": "code",
   "execution_count": null,
   "metadata": {},
   "outputs": [],
   "source": [
    "# Species that were not found in the NAS database\n",
    "# Tamarisk\n",
    "tam = arcpy.CopyFeatures_management(r\"path_to_folder\\EDD\\Tamarisk\\points.shp\", \"edd_tamarisk\")\n",
    "\n",
    "# Lepidium (hoary cress... or white top???)\n",
    "lep = arcpy.CopyFeatures_management(r\"path_to_folder\\EDD\\Lepidium\\points.shp\", \"edd_lepidium\")\n",
    "\n",
    "# Cardaria (whitetop... or hoary cress???)\n",
    "car = arcpy.CopyFeatures_management(r\"path_to_folder\\EDD\\Cardaria\\points.shp\", \"edd_cardaria\")\n",
    "\n",
    "# Eurasian water mil-foil\n",
    "eum = arcpy.CopyFeatures_management(r\"path_to_folder\\EDD\\EUMilfoil\\points.shp\", \"edd_eumilfoil\")"
   ]
  },
  {
   "cell_type": "code",
   "execution_count": null,
   "metadata": {},
   "outputs": [],
   "source": [
    "# Combine EDD datasets\n",
    "\n",
    "# Need a dataset where all fields are long enough to store all records\n",
    "fields = arcpy.ListFields(tam)\n",
    "for field in fields:\n",
    "    print(\"Field {0} is Type {1} with Length = {2}\".format(field.name, field.type, field.length))\n",
    "\n",
    "fms = arcpy.FieldMappings()\n",
    "for field in fields:\n",
    "    if (field.length < 50 and field.type == \"String\"):\n",
    "        print(\"FIX MEEE!\")\n",
    "        fm = arcpy.FieldMap()\n",
    "        fm.addInputField(tam, field.name)\n",
    "        newfield = fm.outputField\n",
    "        newfield.length = 255\n",
    "        fm.outputField = newfield\n",
    "        fms.addFieldMap(fm)\n",
    "        \n",
    "# Copy feature class with new field mappings\n",
    "edd = arcpy.FeatureClassToFeatureClass_conversion(tam, path, 'edd_combo', field_mapping = fms)\n",
    "        \n",
    "# Append all datasets to create one\n",
    "arcpy.Append_management([lep, car, eum], edd, \"NO_TEST\")\n",
    "arcpy.GetCount_management(edd)\n"
   ]
  },
  {
   "cell_type": "markdown",
   "metadata": {},
   "source": [
    "### Combine EDDmaps and NAS datasets"
   ]
  },
  {
   "cell_type": "code",
   "execution_count": null,
   "metadata": {},
   "outputs": [],
   "source": [
    "# Recall datasets\n",
    "edd = 'edd_combo'\n",
    "nas = 'nas_filter'"
   ]
  },
  {
   "cell_type": "code",
   "execution_count": null,
   "metadata": {},
   "outputs": [],
   "source": [
    "# Create text-version of the event date field from NAS data\n",
    "arcpy.AddField_management(nas, \"eventDateTxt\", \"TEXT\")\n",
    "arcpy.CalculateField_management(nas, \"eventDateTxt\", \"str(!eventDate!)\", \"PYTHON3\")\n",
    "\n",
    "# Custom function for field mapping\n",
    "def mapFields(inlayer, infield, mapfield_name, mapfield_type): # mapFields function\n",
    "    fldMap = arcpy.FieldMap()\n",
    "    #fldMap.addInputField(path + \"\\\\\" + str(inlayer), infield)\n",
    "    fldMap.addInputField(inlayer, infield)\n",
    "    mapOut = fldMap.outputField\n",
    "    mapOut.name, mapOut.type = mapfield_name, mapfield_type\n",
    "    fldMap.outputField = mapOut\n",
    "    return fldMap"
   ]
  },
  {
   "cell_type": "code",
   "execution_count": null,
   "metadata": {},
   "outputs": [],
   "source": [
    "# Field mapping for EDD to NAS data\n",
    "[f.name for f in arcpy.ListFields(edd)]\n",
    "[f.name for f in arcpy.ListFields(nas)]\n",
    "sciname_map = mapFields(edd, \"SCINAME\", \"scientificName\", \"TEXT\")\n",
    "comname_map = mapFields(edd, \"COMNAME\", \"vernacularName\", \"TEXT\")\n",
    "latmap = mapFields(edd, \"LATITUDE\", \"decimalLatitude\", \"DOUBLE\")\n",
    "lonmap = mapFields(edd, \"LONGITUDE\", \"decimalLongitude\", \"DOUBLE\")\n",
    "datemap = mapFields(edd, \"OBSDATE\", \"eventDateTxt\", \"TEXT\")\n",
    "locmap = mapFields(edd, \"LOCATION\", \"locality\", \"TEXT\")\n",
    "geomap = mapFields(edd, \"RECSOURCE\", \"assocaitedReferences\", \"TEXT\")\n",
    "geomap2 = mapFields(edd, \"RECSRCTYP\", \"georeferenceProtocol\", \"TEXT\")\n",
    "# MORE if needed....\n",
    "# NAS data have good attributes\n"
   ]
  },
  {
   "cell_type": "code",
   "execution_count": null,
   "metadata": {},
   "outputs": [],
   "source": [
    "fldMap_list = [sciname_map, comname_map, latmap, lonmap, datemap, locmap, geomap, geomap2]\n",
    "invFldMappings = arcpy.FieldMappings()\n",
    "for fm in fldMap_list:\n",
    "    invFldMappings.addFieldMap(fm)\n",
    "\n",
    "# Make copy of nas layer and append EDD to it\n",
    "combo = arcpy.Copy_management(nas, 'nas_edd_combo')\n",
    "arcpy.Append_management(edd, combo, \"NO_TEST\", invFldMappings)\n",
    "arcpy.GetCount_management(combo)\n",
    "\n"
   ]
  },
  {
   "cell_type": "markdown",
   "metadata": {},
   "source": [
    "### Springs Stewardship Intitute (SSI) database has some invasive species data"
   ]
  },
  {
   "cell_type": "code",
   "execution_count": null,
   "metadata": {},
   "outputs": [],
   "source": [
    "# Original springs daaset from SSI database\n",
    "springs = r\"path_to_folder\\Nevada_Springs_Apr_21_2019.gdb\\Nevada_Springs_Apr_21_2019\"\n"
   ]
  },
  {
   "cell_type": "code",
   "execution_count": null,
   "metadata": {},
   "outputs": [],
   "source": [
    "# Read in spring species tables to one table\n",
    "\n",
    "# Vertebrates\n",
    "spring_vert = arcpy.TableToTable_conversion(r\"D:\\GDE_Threats\\Invasives\\SSI_Apr_21_2019\\Nevada_Springs_Apr_21_2019.gdb\\\\Nevada_Springs_Apr_21_2019_Summarized_TaxaVert_by_Site\", env.workspace, \"ssi_taxa_vert\")\n",
    "\n",
    "# Invertebrates\n",
    "spring_invert = arcpy.TableToTable_conversion(r\"D:\\GDE_Threats\\Invasives\\SSI_Apr_21_2019\\Nevada_Springs_Apr_21_2019.gdb\\\\Nevada_Springs_Apr_21_2019_Summarized_TaxaInvert_by_Site\", env.workspace, \"ssi_taxa_invert\")\n",
    "\n",
    "# Plants/flora\n",
    "spring_flora = arcpy.TableToTable_conversion(r\"D:\\GDE_Threats\\Invasives\\SSI_Apr_21_2019\\Nevada_Springs_Apr_21_2019.gdb\\\\Nevada_Springs_Apr_21_2019_Summarized_TaxaFlora_by_Site\", env.workspace, \"ssi_taxa_flora\")"
   ]
  },
  {
   "cell_type": "code",
   "execution_count": null,
   "metadata": {},
   "outputs": [],
   "source": [
    "# Copy Vert table to which the Invert and Plant tables will be appended\n",
    "spring_vert_copy = arcpy.Copy_management(spring_vert, \"spring_species_merge\")"
   ]
  },
  {
   "cell_type": "code",
   "execution_count": null,
   "metadata": {},
   "outputs": [],
   "source": [
    "# Map fullest species name field to the copied Vert species table and combine\n",
    "def mapFields(inlayer, infield, mapfield_name, mapfield_alias, mapfield_type): # mapFields function\n",
    "    fldMap = arcpy.FieldMap()\n",
    "    fldMap.addInputField(inlayer, infield)\n",
    "    mapOut = fldMap.outputField\n",
    "    mapOut.name, mapOut.alias, mapOut.type = mapfield_name, mapfield_alias, mapfield_type\n",
    "    fldMap.outputField = mapOut\n",
    "    return fldMap\n",
    "invert_name_map = mapFields(spring_invert, \"FullName\", \"FaunaFullName\", \"FaunaFullName\", \"TEXT\")\n",
    "invert_comname_map = mapFields(spring_invert, \"CommonName\", \"FaunaCommonName\", \"FaunaCommonName\", \"TEXT\")\n",
    "invert_site_map = mapFields(spring_invert, \"SiteID\", \"SiteID\", \"SiteID\", \"TEXT\")\n",
    "invert_endemism_map = mapFields(spring_invert, \"EndemismLevel\", \"EndemismLevel\", \"EndemismLevel\", \"LONG\")\n",
    "invert_order_map = mapFields(spring_invert, \"Order_\", \"FaunaOrder\", \"FaunaOrder\", \"TEXT\")\n",
    "invert_family_map = mapFields(spring_invert, \"Family\", \"FaunaFamily\", \"FaunaFamily\", \"TEXT\")\n",
    "invert_genus_map = mapFields(spring_invert, \"Genus\", \"FaunaGenus\", \"FaunaGenus\", \"TEXT\")\n",
    "invert_species_map = mapFields(spring_invert, \"Species\", \"FaunaSpecies\", \"FaunaSpecies\", \"TEXT\")\n",
    "plant_name_map = mapFields(spring_flora, \"FloraSpecies\", \"FaunaFullName\", \"FaunaFullName\", \"TEXT\")\n",
    "plant_comname_map = mapFields(spring_flora, \"FloraCommonName\", \"FaunaCommonName\", \"FaunaCommonName\", \"TEXT\")\n",
    "plant_site_map = mapFields(spring_flora, \"SiteID\", \"SiteID\", \"SiteID\", \"TEXT\")\n",
    "plant_endemism_map = mapFields(spring_flora, \"EndemismLevel\", \"EndemismLevel\", \"EndemismLevel\", \"LONG\")\n",
    "plant_family_map = mapFields(spring_flora, \"Family\", \"FaunaFamily\", \"FaunaFamily\", \"TEXT\")\n",
    "plant_genus_map = mapFields(spring_flora, \"Genus\", \"FaunaGenus\", \"FaunaGenus\", \"TEXT\")\n",
    "plant_species_map = mapFields(spring_flora, \"Species\", \"FaunaSpecies\", \"FaunaSpecies\", \"TEXT\")\n",
    "fldMap_list = [invert_name_map, invert_site_map, invert_endemism_map, invert_order_map, invert_family_map, invert_genus_map, invert_species_map, plant_name_map, plant_site_map, plant_endemism_map, plant_family_map, plant_genus_map, plant_species_map]\n",
    "allFldMappings = arcpy.FieldMappings()\n",
    "for fm in fldMap_list:\n",
    "    allFldMappings.addFieldMap(fm)\n",
    "spring_species = arcpy.Append_management([spring_invert, spring_flora], spring_vert_copy, \"NO_TEST\", allFldMappings)\n",
    "[f.name for f in arcpy.ListFields(spring_species)]\n",
    "# Not all species have full names (ex. Fish, Magpie, Rattlesnake). These will not be included in final dataset\n"
   ]
  },
  {
   "cell_type": "markdown",
   "metadata": {},
   "source": [
    "#### Identify common names"
   ]
  },
  {
   "cell_type": "code",
   "execution_count": null,
   "metadata": {},
   "outputs": [],
   "source": [
    "# Filter the species list for species of concern (above)\n",
    "# Will likely need to use both scientific and common names, and search for parts of the names\n",
    "species = \"spring_species_merge\"\n",
    "[f.name for f in arcpy.ListFields(species)]\n",
    "\n",
    "# Common names\n",
    "com = [\"bullfrog\",\n",
    "       \"Red swamp crayfish\",\n",
    "       \"Blue Tilapia\",\n",
    "       \"Signal crayfish\",\n",
    "       \"Northern crayfish\",\n",
    "       \"Northern pike\",\n",
    "       \"Small-mouth bass\",\n",
    "       \"Quagga mussel\",\n",
    "       \"Zebra mussel\",\n",
    "       \"New Zealand mudsnail\",\n",
    "       \"Tamarisk\",\n",
    "       \"Hoary cress\",\n",
    "       \"Tall whitetop\",\n",
    "       \"Eurasian watermilfoil\",\n",
    "       \"knapweed\"]\n"
   ]
  },
  {
   "cell_type": "code",
   "execution_count": null,
   "metadata": {},
   "outputs": [],
   "source": [
    "# Filter common names from species list\n",
    "species_common = arcpy.Copy_management(species, \"species_commonnames\")\n",
    "with arcpy.da.UpdateCursor(species_common, [\"FaunaCommonName\"]) as cursor:\n",
    "    for row in cursor:\n",
    "        if row[0] in com:\n",
    "            print(row[0])\n",
    "del cursor\n",
    "arcpy.GetCount_management(species_common)"
   ]
  },
  {
   "cell_type": "code",
   "execution_count": null,
   "metadata": {},
   "outputs": [],
   "source": [
    "# See if list contains any general species names from common name list\n",
    "general = [\"bullfrog\", \"crayfish\", \"mussel\", \"saltcedar\", \"salt cedar\", \"pike\", \"bass\", \"tilapia\", \"whitetop\", \"tamarix\", \"tamarisk\"]\n",
    "arcpy.AddField_management(species_common, \"Invasive\", \"LONG\")\n",
    "for name in general:\n",
    "    with arcpy.da.UpdateCursor(species_common, [\"FaunaCommonName\", \"Invasive\"]) as cursor:\n",
    "        for row in cursor:\n",
    "            if name.upper() in row[0].upper():\n",
    "                print(row[0].upper()) \n",
    "                row[1] = 1\n",
    "                cursor.updateRow(row)\n",
    "del cursor\n",
    "# Only matches bullfrog, bass, and largemouth bass\n",
    "# For now, consider all of these invasive\n"
   ]
  },
  {
   "cell_type": "markdown",
   "metadata": {},
   "source": [
    "#### Identify scientific names"
   ]
  },
  {
   "cell_type": "code",
   "execution_count": null,
   "metadata": {},
   "outputs": [],
   "source": [
    "# Filter scientific names from species list\n",
    "# Scientific names\n",
    "spp = ['Lithobates catesbeianus', 'Rana catesbeiana',\n",
    "           'Procambarus clarkii',\n",
    "           'Oreochromis aureus',\n",
    "           'Pacifastacus leniusculus',\n",
    "           'Faxonius virilis',\n",
    "           'Esox lucius',\n",
    "           'Micropterus dolomieu',\n",
    "           'Dreissena rostriformis bugensis',\n",
    "           'Dreissena polymorpha',\n",
    "           'Potamopyrgus antipodarum',\n",
    "           'Tamarisk spp.',\n",
    "           'Lepidium draba',\n",
    "           'Centaurea spp.',\n",
    "           'Myriophyllum spicatum']\n"
   ]
  },
  {
   "cell_type": "code",
   "execution_count": null,
   "metadata": {},
   "outputs": [],
   "source": [
    "### RULE ENACTED: Only species record with Genus + Species allowed to stay\n",
    "# Create a new attribute to hold a logical scientific name for the species. FaunaFullName may = order + family + genus + species\n",
    "# Standardize empty genus + species attributes\n",
    "species_sci = arcpy.Copy_management(species_common, \"species_scinames\")\n",
    "with arcpy.da.UpdateCursor(species_sci, ['FaunaGenus']) as cursor:\n",
    "    for row in cursor:\n",
    "        if (len(str(row[0])) < 2) or (row[0] is None):\n",
    "            row[0] = None\n",
    "            cursor.updateRow(row)\n",
    "        else:\n",
    "            print(\"{}\".format(row[0]))\n",
    "del cursor\n",
    "with arcpy.da.UpdateCursor(species_sci, ['FaunaSpecies']) as cursor:\n",
    "    for row in cursor:\n",
    "        if (len(str(row[0])) < 2) or (row[0] is None):\n",
    "            row[0] = None\n",
    "            cursor.updateRow(row)\n",
    "        else:\n",
    "            print(\"{}\".format(row[0]))\n",
    "del cursor\n"
   ]
  },
  {
   "cell_type": "code",
   "execution_count": null,
   "metadata": {},
   "outputs": [],
   "source": [
    "# All \"empty\" rows in the genus/species attributes now have \"Null\"\n",
    "arcpy.AddField_management(species_sci, \"SciName\", \"TEXT\")\n",
    "with arcpy.da.UpdateCursor(species_sci, ['FaunaGenus', 'FaunaSpecies', 'SciName']) as cursor:\n",
    "    for row in cursor:\n",
    "        if row[1] is not None:\n",
    "        # If Species field isn't empty, populate the sciname field    \n",
    "            row[2] = str(row[0]) + \" \" + str(row[1])\n",
    "            cursor.updateRow(row)\n",
    "        else:\n",
    "            row[2] = \"NA\"\n",
    "            cursor.updateRow(row)\n",
    "del cursor"
   ]
  },
  {
   "cell_type": "code",
   "execution_count": null,
   "metadata": {},
   "outputs": [],
   "source": [
    "# See if it contains any species from our list\n",
    "for name in spp:\n",
    "    with arcpy.da.UpdateCursor(species_sci, [\"SciName\", \"Invasive\"]) as cursor:\n",
    "        for row in cursor:\n",
    "            if name.upper() in row[0].upper():\n",
    "                print(row[0].upper()) \n",
    "                row[1] = 1\n",
    "                cursor.updateRow(row)\n",
    "del cursor"
   ]
  },
  {
   "cell_type": "code",
   "execution_count": 1,
   "metadata": {},
   "outputs": [
    {
     "ename": "NameError",
     "evalue": "name 'arcpy' is not defined",
     "output_type": "error",
     "traceback": [
      "\u001b[1;31m---------------------------------------------------------------------------\u001b[0m",
      "\u001b[1;31mNameError\u001b[0m                                 Traceback (most recent call last)",
      "\u001b[1;32m<ipython-input-1-33c18039c800>\u001b[0m in \u001b[0;36m<module>\u001b[1;34m\u001b[0m\n\u001b[0;32m      1\u001b[0m \u001b[1;31m# Join invasive species records to spring locations\u001b[0m\u001b[1;33m\u001b[0m\u001b[1;33m\u001b[0m\u001b[0m\n\u001b[0;32m      2\u001b[0m \u001b[1;33m\u001b[0m\u001b[0m\n\u001b[1;32m----> 3\u001b[1;33m \u001b[0minvasives\u001b[0m \u001b[1;33m=\u001b[0m \u001b[0marcpy\u001b[0m\u001b[1;33m.\u001b[0m\u001b[0mCopy_management\u001b[0m\u001b[1;33m(\u001b[0m\u001b[0mspecies_sci\u001b[0m\u001b[1;33m,\u001b[0m \u001b[1;34m\"species_invasive\"\u001b[0m\u001b[1;33m)\u001b[0m\u001b[1;33m\u001b[0m\u001b[1;33m\u001b[0m\u001b[0m\n\u001b[0m\u001b[0;32m      4\u001b[0m \u001b[1;32mwith\u001b[0m \u001b[0marcpy\u001b[0m\u001b[1;33m.\u001b[0m\u001b[0mda\u001b[0m\u001b[1;33m.\u001b[0m\u001b[0mUpdateCursor\u001b[0m\u001b[1;33m(\u001b[0m\u001b[0minvasives\u001b[0m\u001b[1;33m,\u001b[0m \u001b[1;34m'Invasive'\u001b[0m\u001b[1;33m)\u001b[0m \u001b[1;32mas\u001b[0m \u001b[0mcursor\u001b[0m\u001b[1;33m:\u001b[0m\u001b[1;33m\u001b[0m\u001b[1;33m\u001b[0m\u001b[0m\n\u001b[0;32m      5\u001b[0m     \u001b[1;32mfor\u001b[0m \u001b[0mrow\u001b[0m \u001b[1;32min\u001b[0m \u001b[0mcursor\u001b[0m\u001b[1;33m:\u001b[0m\u001b[1;33m\u001b[0m\u001b[1;33m\u001b[0m\u001b[0m\n",
      "\u001b[1;31mNameError\u001b[0m: name 'arcpy' is not defined"
     ]
    }
   ],
   "source": [
    "# Join invasive species records to spring locations\n",
    "\n",
    "invasives = arcpy.Copy_management(species_sci, \"species_invasive\")\n",
    "with arcpy.da.UpdateCursor(invasives, 'Invasive') as cursor:\n",
    "    for row in cursor:\n",
    "        if row[0] is None:\n",
    "            cursor.deleteRow()\n",
    "del cursor\n",
    "arcpy.GetCount_management(invasives)\n",
    "[f.name for f in arcpy.ListFields(invasives)]\n",
    "\n",
    "springs_invasive = arcpy.CopyFeatures_management(r\"path_to_folder\\Nevada_Springs_Apr_21_2019.gdb\\Nevada_Springs_Apr_21_2019\", \"springs_invasive\")\n",
    "\n",
    "arcpy.JoinField_management(springs_invasive, 'SiteID', invasives, 'SiteID', ['FaunaCommonName', 'SciName'])\n",
    "with arcpy.da.UpdateCursor(springs_invasive, ['SciName']) as cursor:\n",
    "    for row in cursor:\n",
    "        if row[0] is None:\n",
    "            cursor.deleteRow()\n",
    "        else:\n",
    "            print(row[0])\n",
    "del cursor\n",
    "arcpy.GetCount_management(springs_invasive)\n",
    "\n",
    "# Springs with invasive species essentially become locations where invasive species are found"
   ]
  },
  {
   "cell_type": "markdown",
   "metadata": {},
   "source": [
    "### Combine all species datasets\n",
    "\n",
    "Join springs-species data to already-combined NAS/EDD data"
   ]
  },
  {
   "cell_type": "code",
   "execution_count": null,
   "metadata": {},
   "outputs": [],
   "source": [
    "# Datasets to combine\n",
    "\n",
    "combo = arcpy.Copy_management('nas_edd_combo', 'nas_edd_ssi_combo')\n",
    "[f.name for f in arcpy.ListFields(combo)]\n",
    "arcpy.GetCount_management(combo)\n",
    "\n",
    "ssi = 'springs_invasive'\n",
    "[f.name for f in arcpy.ListFields(ssi)]"
   ]
  },
  {
   "cell_type": "code",
   "execution_count": null,
   "metadata": {},
   "outputs": [],
   "source": [
    "# Map SSI fields to EDD/NAS fields\n",
    "def mapFields(inlayer, infield, mapfield_name, mapfield_type): # mapFields function\n",
    "    fldMap = arcpy.FieldMap()\n",
    "    fldMap.addInputField(inlayer, infield)\n",
    "    mapOut = fldMap.outputField\n",
    "    mapOut.name, mapOut.type = mapfield_name, mapfield_type\n",
    "    fldMap.outputField = mapOut\n",
    "    return fldMap"
   ]
  },
  {
   "cell_type": "code",
   "execution_count": null,
   "metadata": {},
   "outputs": [],
   "source": [
    "# Field mappings\n",
    "name_map = mapFields(ssi, \"SciName\", \"scientificName\", \"TEXT\")\n",
    "comname_map = mapFields(ssi, \"FaunaCommonName\", \"vernacularName\", \"TEXT\")\n",
    "ref_map = mapFields(ssi, \"SiteID\", \"references\", \"TEXT\")\n",
    "fldMap_list = [name_map, comname_map, ref_map]\n",
    "allFldMappings = arcpy.FieldMappings()\n",
    "for fm in fldMap_list:\n",
    "    allFldMappings.addFieldMap(fm)"
   ]
  },
  {
   "cell_type": "code",
   "execution_count": null,
   "metadata": {},
   "outputs": [],
   "source": [
    "# Combine with field mappings    \n",
    "combo = arcpy.Append_management([ssi], combo, \"NO_TEST\", allFldMappings)\n",
    "arcpy.GetCount_management(combo)"
   ]
  },
  {
   "cell_type": "markdown",
   "metadata": {},
   "source": [
    "# Apply non-native species data to GDEs - Stressor\n",
    "\n",
    "See where the combined NAS/EDD/SSI lands on/within a half mile of the GDE. Minimum value is 0.1, not zero. Since the species data are based on observation data, it's possible that GDEs may have non-native species that jsut haven't been monitored.\n",
    "\n",
    "Attribute: __InvSpp_Str = 0.1 (no species observed, but possible) or 1 (species observed, stressed)__"
   ]
  },
  {
   "cell_type": "code",
   "execution_count": null,
   "metadata": {},
   "outputs": [],
   "source": [
    "# Non-native species locations with half-mile buffer around species points\n",
    "spp = r'path_to_folder\\GDE_Threats.gdb\\nas_edd_ssi_combo'\n",
    "arcpy.GetCount_management(spp)\n",
    "spp_buff = arcpy.Buffer_analysis(spp, 'spp_halfmile', '0.5 Mile', '', '', 'ALL')\n",
    "spp_buff = r'spp_halfmile'\n",
    "print([f.name for f in arcpy.ListFields(spp_buff)])"
   ]
  },
  {
   "cell_type": "code",
   "execution_count": null,
   "metadata": {},
   "outputs": [],
   "source": [
    "# GDE layers\n",
    "springs = r'path_to_folder\\NV_iGDE_assess.gdb\\Springs'\n",
    "wet = r'path_to_folder\\NV_iGDE_assess.gdb\\Wetlands'\n",
    "phr = r'path_to_folder\\NV_iGDE_assess.gdb\\Phreatophytes_Explode'\n",
    "lp = r'path_to_folder\\NV_iGDE_assess.gdb\\Lakes_Playas'\n",
    "rs = r'path_to_folder\\NV_iGDE_assess.gdb\\Rivers_Streams'"
   ]
  },
  {
   "cell_type": "code",
   "execution_count": null,
   "metadata": {},
   "outputs": [],
   "source": [
    "# Springs\n",
    "arcpy.AddField_management(springs, 'InvSpp_Str', 'LONG')\n",
    "arcpy.CalculateField_management(springs, 'InvSpp_Str', 0.1)\n",
    "[f.name for f in arcpy.ListFields(springs)]\n",
    "spr_select = arcpy.SelectLayerByLocation_management(springs, 'INTERSECT', spp_buff)\n",
    "arcpy.CalculateField_management(spr_select, 'InvSpp_Str', 1)\n",
    "\n",
    "# Wetlands\n",
    "arcpy.AddField_management(wet, 'InvSpp_Str', 'LONG')\n",
    "arcpy.CalculateField_management(wet, 'InvSpp_Str', 0.1)\n",
    "[f.name for f in arcpy.ListFields(wet)]\n",
    "wet_select = arcpy.SelectLayerByLocation_management(wet, 'INTERSECT', spp_buff)\n",
    "arcpy.CalculateField_management(wet_select, 'InvSpp_Str', 1)\n",
    "\n",
    "# Phreatophytes\n",
    "arcpy.AddField_management(phr, 'InvSpp_Str', 'LONG')\n",
    "arcpy.CalculateField_management(phr, 'InvSpp_Str', 0.1)\n",
    "[f.name for f in arcpy.ListFields(phr)]\n",
    "phr_select = arcpy.SelectLayerByLocation_management(phr, 'INTERSECT', spp_buff)\n",
    "arcpy.CalculateField_management(phr_select, 'InvSpp_Str', 1)\n",
    "\n",
    "# Lakes/playas\n",
    "arcpy.AddField_management(lp, 'InvSpp_Str', 'LONG')\n",
    "arcpy.CalculateField_management(lp, 'InvSpp_Str', 0.1)\n",
    "[f.name for f in arcpy.ListFields(lp)]\n",
    "lp_select = arcpy.SelectLayerByLocation_management(lp, 'INTERSECT', spp_buff)\n",
    "arcpy.CalculateField_management(lp_select, 'InvSpp_Str', 1)\n",
    "\n",
    "# Rivers/streams\n",
    "arcpy.AddField_management(rs, 'InvSpp_Str', 'LONG')\n",
    "arcpy.CalculateField_management(rs, 'InvSpp_Str', 0.1)\n",
    "[f.name for f in arcpy.ListFields(rs)]\n",
    "rs_select = arcpy.SelectLayerByLocation_management(rs, 'INTERSECT', spp_buff)\n",
    "arcpy.CalculateField_management(rs_select, 'InvSpp_Str', 1)"
   ]
  },
  {
   "cell_type": "markdown",
   "metadata": {},
   "source": [
    "# Non-native species threat via road density\n",
    "\n",
    "Derived from 2014 TIGER road census data. Road density as a conduit for potential non-native species distribution (most likely to spread via human movement slong/near roads)"
   ]
  },
  {
   "cell_type": "code",
   "execution_count": null,
   "metadata": {},
   "outputs": [],
   "source": [
    "# Road density raster available to download thru Esri\n",
    "d = arcpy.Raster(r'path_to_folder\\road_density_tiger2014.tif')"
   ]
  },
  {
   "cell_type": "code",
   "execution_count": null,
   "metadata": {},
   "outputs": [],
   "source": [
    "# Normalize density values between 0 - 1\n",
    "dmax = d.maximum\n",
    "d_norm = d/dmax # divide by max value to normalize\n",
    "d_norm.save('road_density_norm')\n",
    "d_norm = arcpy.Raster(r'road_density_norm')\n"
   ]
  },
  {
   "cell_type": "code",
   "execution_count": null,
   "metadata": {},
   "outputs": [],
   "source": [
    "# Summarize for each GDE feature\n",
    "# Springs\n",
    "temp_spr = arcpy.sa.ExtractValuesToPoints(springs, d_norm, 'springs_road_density')\n",
    "[f.name for f in arcpy.ListFields(temp_spr)]\n",
    "arcpy.AddField_management(temp_spr, 'InvSpp_Thr', 'DOUBLE')\n",
    "arcpy.CalculateField_management(temp_spr, 'InvSpp_Thr', '!RASTERVALU!', 'PYTHON3')\n",
    "arcpy.JoinField_management(springs, 'OBJECTID', temp_spr, 'OBJECTID', ['InvSpp_Thr'])\n",
    "[f.name for f in arcpy.ListFields(springs)]\n",
    "\n",
    "# Wetlands\n",
    "temp_wet = arcpy.sa.ZonalStatisticsAsTable(wet, 'OBJECTID', d_norm, 'wetlands_roads_density_tbl', 'DATA', 'MEAN')\n",
    "[f.name for f in arcpy.ListFields(temp_wet)]\n",
    "arcpy.AddField_management(temp_wet, 'InvSpp_Thr', 'DOUBLE')\n",
    "arcpy.CalculateField_management(temp_wet, 'InvSpp_Thr', '!MEAN!', 'PYTHON3')\n",
    "arcpy.JoinField_management(wet, 'OBJECTID', temp_wet, 'OBJECTID_1', ['InvSpp_Thr'])\n",
    "[f.name for f in arcpy.ListFields(wet)]\n",
    "\n",
    "# PHreatophytes\n",
    "temp_phr = arcpy.sa.ZonalStatisticsAsTable(phr2, 'OBJECTID', d_norm, 'phr_roads_density_tbl', 'DATA', 'MEAN')\n",
    "[f.name for f in arcpy.ListFields(temp_phr)]\n",
    "arcpy.AddField_management(temp_phr, 'InvSpp_Thr', 'DOUBLE')\n",
    "arcpy.CalculateField_management(temp_phr, 'InvSpp_Thr', '!MEAN!', 'PYTHON3')\n",
    "arcpy.JoinField_management(phr2, 'OBJECTID', temp_phr, 'OBJECTID_1', ['InvSpp_Thr'])\n",
    "[f.name for f in arcpy.ListFields(phr2)]\n",
    "\n",
    "# Lakes/playas\n",
    "temp_lp = arcpy.sa.ZonalStatisticsAsTable(lp, 'OBJECTID', d_norm, 'lp_roads_density_tbl', 'DATA', 'MEAN')\n",
    "[f.name for f in arcpy.ListFields(temp_lp)]\n",
    "arcpy.AddField_management(temp_lp, 'InvSpp_Thr', 'DOUBLE')\n",
    "arcpy.CalculateField_management(temp_lp, 'InvSpp_Thr', '!MEAN!', 'PYTHON3')\n",
    "arcpy.JoinField_management(lp, 'OBJECTID', temp_lp, 'OBJECTID_1', ['InvSpp_Thr'])\n",
    "[f.name for f in arcpy.ListFields(lp)]\n",
    "\n",
    "# Rivers/streams\n",
    "temp_rs = arcpy.sa.ZonalStatisticsAsTable(rs, 'OBJECTID', d_norm, 'rs_roads_density_tbl', 'DATA', 'MEAN')\n",
    "[f.name for f in arcpy.ListFields(temp_rs)]\n",
    "arcpy.AddField_management(temp_rs, 'InvSpp_Thr', 'DOUBLE')\n",
    "arcpy.CalculateField_management(temp_rs, 'InvSpp_Thr', '!MEAN!', 'PYTHON3')\n",
    "arcpy.JoinField_management(rs, 'OBJECTID', temp_rs, 'OBJECTID_1', ['InvSpp_Thr'])\n",
    "[f.name for f in arcpy.ListFields(rs)]\n",
    "\n"
   ]
  }
 ],
 "metadata": {
  "kernelspec": {
   "display_name": "Python 3",
   "language": "python",
   "name": "python3"
  },
  "language_info": {
   "codemirror_mode": {
    "name": "ipython",
    "version": 3
   },
   "file_extension": ".py",
   "mimetype": "text/x-python",
   "name": "python",
   "nbconvert_exporter": "python",
   "pygments_lexer": "ipython3",
   "version": "3.9.11"
  }
 },
 "nbformat": 4,
 "nbformat_minor": 2
}
