{
 "cells": [
  {
   "cell_type": "markdown",
   "metadata": {},
   "source": [
    "# Notebook for estimating stress/threat from water withdrawals to GDEs\n",
    "\n",
    "Consolidate well level trends and water rights data around GDEs.\n",
    "\n",
    "Requires: Water level data from NWIS (USGS) and WellNet (NDWR) trends calculated in GDE_threats_level_trends.R, and water rights data from NDWR hydro abstracts.\n",
    "\n"
   ]
  },
  {
   "cell_type": "markdown",
   "metadata": {},
   "source": [
    "## Set up environments in ArcGIS Pro"
   ]
  },
  {
   "cell_type": "code",
   "execution_count": null,
   "metadata": {},
   "outputs": [],
   "source": [
    "# Import ArcGIS modules and check out spatial analyst extension\n",
    "import arcpy\n",
    "import os\n",
    "import pandas as pd\n",
    "import numpy as np\n",
    "from arcpy import env\n",
    "from arcpy.sa import *\n",
    "arcpy.CheckOutExtension(\"spatial\")"
   ]
  },
  {
   "cell_type": "code",
   "execution_count": null,
   "metadata": {},
   "outputs": [],
   "source": [
    "# Path to temporary geodatabase\n",
    "#path =  r\"folder_path\\gdbname.gdb\"\n",
    "path =  r\"K:\\GIS3\\Projects\\GDE\\Maps\\GDE_Threats\\GDE_Threats.gdb\"\n",
    "\n",
    "# Environment settings\n",
    "env.workspace = path\n",
    "env.overwriteOutput = True\n",
    "env.outputCoordinateSystem = arcpy.SpatialReference(26911) # Spatial reference NAD 1983 UTM Zone 11N. The code is '26911'"
   ]
  },
  {
   "cell_type": "markdown",
   "metadata": {},
   "source": [
    "## Read in groundwater and basin status data"
   ]
  },
  {
   "cell_type": "code",
   "execution_count": null,
   "metadata": {},
   "outputs": [],
   "source": [
    "# Groundwater levels (trends)\n",
    "#gw = r'path_to_folder\\gwlevels_stats_110321.shp'\n",
    "gw = r'E:\\RCF Data Recovery\\Recovered Files\\P00\\GDE_Threats\\Hydrology\\gwlevels_stats_110321.shp'\n",
    "print([f.name for f in arcpy.ListFields(gw)])\n",
    "\n",
    "# OPTIONAL Groundwater levels - filtered to well with 20 years of pre-irrigation-season data\n",
    "#gw = r'path_to_folder\\gwlevels_newrules_051021.shp'\n"
   ]
  },
  {
   "cell_type": "code",
   "execution_count": null,
   "metadata": {},
   "outputs": [],
   "source": [
    "# Basin appropriation/pumping status\n",
    "# Wilson 2020: https://tnc.box.com/s/ns19ih9cka3g4at8qrrcs4j314mmp74c\n",
    "#basins = r'path_to_folder\\hydrographic_basin_boundaries.shp'\n",
    "basins = r'E:\\RCF Data Recovery\\Recovered Files\\P00\\GDE_Threats\\Hydrology\\NDWR\\hydrographic_basin_boundaries.shp'\n",
    "print([f.name for f in arcpy.ListFields(basins)])"
   ]
  },
  {
   "cell_type": "markdown",
   "metadata": {},
   "source": [
    "## Create a copy of the GDE geodatabase to store stress/threat data\n",
    "\n",
    "*Note* - Phretophyte communities layer needs to be \"exploded\". There are several very large multipart features, but these should be made into singlepart features for better analysis. This geodatabase will be larger than the primary Nevada iGDE geodatabase."
   ]
  },
  {
   "cell_type": "code",
   "execution_count": null,
   "metadata": {},
   "outputs": [],
   "source": [
    "# Copy GDE database layers to a new GDB - attribute these ones\n",
    "# gde2 = arcpy.Copy_management(r'path_to_folder\\NV_iGDE_022120.gdb', \n",
    "#                              r'path_to_folder\\NV_iGDE_assess.gdb')\n",
    "# arcpy.ListFeatureClasses(r'path_to_folder\\NV_iGDE_assess.gdb')\n",
    "\n",
    "\n",
    "gde2 = arcpy.Copy_management(r'E:\\RCF Data Recovery\\Recovered Files\\P00\\GDE_Threats\\Hydrology\\NV_iGDE_022120.gdb', \n",
    "                             r'E:\\RCF Data Recovery\\Recovered Files\\P00\\GDE_Threats\\Hydrology\\NV_iGDE_assess.gdb')\n",
    "arcpy.ListFeatureClasses(r'E:\\RCF Data Recovery\\Recovered Files\\P00\\GDE_Threats\\Hydrology\\NV_iGDE_assess.gdb')"
   ]
  },
  {
   "cell_type": "code",
   "execution_count": null,
   "metadata": {},
   "outputs": [],
   "source": [
    "# GDE layers\n",
    "# springs = r'path_to_folder\\NV_iGDE_assess.gdb\\Springs'\n",
    "# wet = r'path_to_folder\\NV_iGDE_assess.gdb\\Wetlands'\n",
    "# phr = r'path_to_folder\\NV_iGDE_assess.gdb\\Phreatophytes' #**need to explode**#\n",
    "# lp = r'path_to_folder\\NV_iGDE_assess.gdb\\Lakes_Playas'\n",
    "# rs = r'path_to_folder\\NV_iGDE_assess.gdb\\Rivers_Streams'\n",
    "\n",
    "springs = r'E:\\RCF Data Recovery\\Recovered Files\\P00\\GDE_Threats\\Hydrology\\NV_iGDE_assess.gdb\\Springs'\n",
    "wet = r'E:\\RCF Data Recovery\\Recovered Files\\P00\\GDE_Threats\\Hydrology\\NV_iGDE_assess.gdb\\Wetlands'\n",
    "phr = r'E:\\RCF Data Recovery\\Recovered Files\\P00\\GDE_Threats\\Hydrology\\NV_iGDE_assess.gdb\\Phreatophytes' #**need to explode**#\n",
    "lp = r'E:\\RCF Data Recovery\\Recovered Files\\P00\\GDE_Threats\\Hydrology\\NV_iGDE_assess.gdb\\Lakes_Playas'\n",
    "rs = r'E:\\RCF Data Recovery\\Recovered Files\\P00\\GDE_Threats\\Hydrology\\NV_iGDE_assess.gdb\\Rivers_Streams'\n",
    "\n"
   ]
  },
  {
   "cell_type": "code",
   "execution_count": null,
   "metadata": {},
   "outputs": [],
   "source": [
    "# Explode Phretophytes so each one can be attributed separately\n",
    "phr = arcpy.MultipartToSinglepart_management(phr, r'path_to_folder\\NV_iGDE_assess.gdb\\Phreatophytes_Explode')\n",
    "print(arcpy.GetCount_management(phr))\n",
    "phr = r'path_to_folder\\NV_iGDE_assess.gdb\\Phreatophytes_Explode'\n",
    "print([f.name for f in arcpy.ListFields(phr)])\n"
   ]
  },
  {
   "cell_type": "markdown",
   "metadata": {},
   "source": [
    "## Threats to GDEs from declining groundwater levels\n",
    "\n",
    "If a GDe falls within a half mile of a shallow groundwater area (groundwater is within 50 feet of the surface) according to Lopes et al 2006.\n",
    "\n",
    "Shallow groundwater areas were digitized from the Lopes report map.\n",
    "\n",
    "Attribute: __Shallow_GW = 0 (no threat) or 1 (threat)__"
   ]
  },
  {
   "cell_type": "code",
   "execution_count": null,
   "metadata": {},
   "outputs": [],
   "source": [
    "# Shallow groundwater polygon laeyr\n",
    "shallow = r'path_to_folder\\GDE_Threats.gdb\\shallow_gw_dissolve'\n",
    "shallow = r'E:\\RCF Data Recovery\\Recovered Files\\P00\\GDE_Threats\\Maps\\GDE_Threats.gdb\\shallow_gw_dissolve'"
   ]
  },
  {
   "cell_type": "code",
   "execution_count": null,
   "metadata": {},
   "outputs": [],
   "source": [
    "# For each GDE type - attribute whether it falls within half-mile of shallow gw\n",
    "# Springs\n",
    "arcpy.AddField_management(springs, 'Shallow_GW', 'LONG')\n",
    "[f.name for f in arcpy.ListFields(springs)]\n",
    "spr_select = arcpy.SelectLayerByLocation_management(springs, 'INTERSECT', shallow)\n",
    "arcpy.CalculateField_management(spr_select, 'Shallow_GW', 1)\n",
    "\n",
    "# Wetlands\n",
    "arcpy.AddField_management(wet, 'Shallow_GW', 'LONG')\n",
    "[f.name for f in arcpy.ListFields(wet)]\n",
    "wet_select = arcpy.SelectLayerByLocation_management(wet, 'INTERSECT', shallow)\n",
    "arcpy.CalculateField_management(wet_select, 'Shallow_GW', 1)\n",
    "\n",
    "# Phreatophytes\n",
    "arcpy.AddField_management(phr2, 'Shallow_GW', 'LONG')\n",
    "[f.name for f in arcpy.ListFields(phr)]\n",
    "phr_select = arcpy.SelectLayerByLocation_management(phr, 'INTERSECT', shallow)\n",
    "arcpy.CalculateField_management(phr_select, 'Shallow_GW', 1)\n",
    "\n",
    "# Lakes/playas\n",
    "arcpy.AddField_management(lp, 'Shallow_GW', 'LONG')\n",
    "[f.name for f in arcpy.ListFields(lp)]\n",
    "lp_select = arcpy.SelectLayerByLocation_management(lp, 'INTERSECT', shallow)\n",
    "arcpy.CalculateField_management(lp_select, 'Shallow_GW', 1)\n",
    "\n",
    "# Rivers/streams\n",
    "arcpy.AddField_management(rs, 'Shallow_GW', 'LONG')\n",
    "[f.name for f in arcpy.ListFields(rs)]\n",
    "rs_select = arcpy.SelectLayerByLocation_management(rs, 'INTERSECT', shallow)\n",
    "arcpy.CalculateField_management(rs_select, 'Shallow_GW', 1)\n"
   ]
  },
  {
   "cell_type": "markdown",
   "metadata": {},
   "source": [
    "## Stress to GDEs if near a well with a significantly declining groundwater level\n",
    "\n",
    "If GDEs fall within a half-mile of wells with significant declining groundwater levels (p-value <= 0.05 and negative Sens_Slope value), they are considered stressed.\n",
    "\n",
    "For polygon GDE features, stress applies if any portion of the polygon falls within a half mile of selected wells. \n",
    "\n",
    "Not attributing with specific stressor/threat data. I.e. using this index, we can tell if a GDE is stressed, but don't know the exact trend of the well it is getting stressed by. Need to go to source data (NDWR/NWIS trend sites) for that information.\n",
    "\n",
    "Attribute: __Falling_GW = 0 (not stressed) or 1 (stressed)__"
   ]
  },
  {
   "cell_type": "code",
   "execution_count": null,
   "metadata": {},
   "outputs": [],
   "source": [
    "# Half mile buffer around falling gw levels\n",
    "gw_fall = arcpy.SelectLayerByAttribute_management(gw, 'NEW_SELECTION', \"SigFall = 1\")\n",
    "arcpy.GetCount_management(gw_fall)\n",
    "gw_buff = arcpy.Buffer_analysis(gw_fall, 'gw_falling_halfmile', '0.5 Mile', '', '', 'ALL')\n",
    "\n",
    "gw_buff = r'gw_falling_halfmile'\n",
    "print(arcpy.GetCount_management(gw_buff))"
   ]
  },
  {
   "cell_type": "code",
   "execution_count": null,
   "metadata": {},
   "outputs": [],
   "source": [
    "# Select and attribute GDEs, as above\n",
    "# Springs\n",
    "arcpy.AddField_management(springs, 'Falling_GW', 'LONG')\n",
    "[f.name for f in arcpy.ListFields(springs)]\n",
    "spr_select = arcpy.SelectLayerByLocation_management(springs, 'INTERSECT', gw_buff)\n",
    "arcpy.CalculateField_management(spr_select, 'Falling_GW', 1)\n",
    "\n",
    "# Wetlands\n",
    "arcpy.AddField_management(wet, 'Falling_GW', 'LONG')\n",
    "[f.name for f in arcpy.ListFields(wet)]\n",
    "wet_select = arcpy.SelectLayerByLocation_management(wet, 'INTERSECT', gw_buff)\n",
    "arcpy.CalculateField_management(wet_select, 'Falling_GW', 1)\n",
    "\n",
    "# Phreatophytes\n",
    "arcpy.AddField_management(phr2, 'Falling_GW', 'LONG')\n",
    "[f.name for f in arcpy.ListFields(phr2)]\n",
    "phr_select = arcpy.SelectLayerByLocation_management(phr2, 'INTERSECT', gw_buff)\n",
    "arcpy.CalculateField_management(phr_select, 'Falling_GW', 1)\n",
    "\n",
    "# Lakes/playas\n",
    "arcpy.AddField_management(lp, 'Falling_GW', 'LONG')\n",
    "[f.name for f in arcpy.ListFields(lp)]\n",
    "lp_select = arcpy.SelectLayerByLocation_management(lp, 'INTERSECT', gw_buff)\n",
    "arcpy.CalculateField_management(lp_select, 'Falling_GW', 1)\n",
    "\n",
    "# Rivers/streams\n",
    "arcpy.AddField_management(rs, 'Falling_GW', 'LONG')\n",
    "[f.name for f in arcpy.ListFields(rs)]\n",
    "rs_select = arcpy.SelectLayerByLocation_management(rs, 'INTERSECT', gw_buff)\n",
    "arcpy.CalculateField_management(rs_select, 'Falling_GW', 1)"
   ]
  },
  {
   "cell_type": "markdown",
   "metadata": {},
   "source": [
    "## Threat or Stress to GDEs from basin overcommitment/overpumping\n",
    " \n",
    " GDEs are considered stressed if basin is being overpumped.\n",
    "\n",
    " Attribute: __PumpStr = 0 (not stressed) or 1 (stressed)__\n",
    "\n",
    " GDEs are considered threatened if the basins are overcommitted (commited water rights v. pereninal yield). Different levels of commitment of perennial yield are given different threat values.\n",
    "\n",
    " Attribute: __CommitThr = 0 (no threat), 0.5 (moderate threat), or 1 (threat)__"
   ]
  },
  {
   "cell_type": "code",
   "execution_count": null,
   "metadata": {},
   "outputs": [],
   "source": [
    "# Springs\n",
    "spr_commit = arcpy.SpatialJoin_analysis(springs, basins, 'temp_springs_join')\n",
    "[f.name for f in arcpy.ListFields(spr_commit)]\n",
    "arcpy.GetCount_management(spr_commit)\n",
    "arcpy.GetCount_management(springs)\n",
    "\n",
    "arcpy.AddField_management(spr_commit, 'CommitThr', 'DOUBLE')\n",
    "with arcpy.da.UpdateCursor(spr_commit, ['OverCommit', 'CommitThr']) as cursor:\n",
    "    for row in cursor:\n",
    "        if row[0] == 100:\n",
    "            row[1] = 0.5\n",
    "            cursor.updateRow(row)\n",
    "        elif row[0] == 200:\n",
    "            row[1] = 1\n",
    "            cursor.updateRow(row)\n",
    "        elif row[0] == 0:\n",
    "            row[1] = 0\n",
    "            cursor.updateRow(row)\n",
    "del cursor\n",
    "\n",
    "arcpy.AddField_management(spr_commit, 'PumpStr', 'DOUBLE')\n",
    "arcpy.CalculateField_management(spr_commit, 'PumpStr', '!OverPump!', 'PYTHON3')\n",
    "\n",
    "arcpy.JoinField_management(springs, 'OBJECTID', spr_commit, 'OBJECTID', ['CommitThr', 'PumpStr']) # Also joining overpump (stress)\n",
    "[f.name for f in arcpy.ListFields(springs)]\n",
    "# Manually deleted/edited some springs that fall just on the border or outside the basin boundaries\n"
   ]
  },
  {
   "cell_type": "code",
   "execution_count": null,
   "metadata": {},
   "outputs": [],
   "source": [
    "# Phreatophytes\n",
    "phr_commit = arcpy.SpatialJoin_analysis(phr, basins, 'temp_phr_join')\n",
    "[f.name for f in arcpy.ListFields(phr_commit)]\n",
    "arcpy.GetCount_management(phr_commit)\n",
    "arcpy.GetCount_management(phr)\n",
    "\n",
    "arcpy.AddField_management(phr_commit, 'CommitThr', 'DOUBLE')\n",
    "with arcpy.da.UpdateCursor(phr_commit, ['OverCommit', 'CommitThr']) as cursor:\n",
    "    for row in cursor:\n",
    "        if row[0] == 100:\n",
    "            row[1] = 0.5\n",
    "            cursor.updateRow(row)\n",
    "        elif row[0] == 200:\n",
    "            row[1] = 1\n",
    "            cursor.updateRow(row)\n",
    "        elif row[0] == 0:\n",
    "            row[1] = 0\n",
    "            cursor.updateRow(row)\n",
    "del cursor\n",
    "\n",
    "arcpy.AddField_management(phr_commit, 'PumpStr', 'DOUBLE')\n",
    "arcpy.CalculateField_management(phr_commit, 'PumpStr', '!OverPump!', 'PYTHON3')\n",
    "\n",
    "arcpy.JoinField_management(phr, 'OBJECTID', phr_commit, 'OBJECTID', ['CommitThr', 'PumpStr']) # Also joining overpump (stress)\n",
    "[f.name for f in arcpy.ListFields(phr)]\n"
   ]
  },
  {
   "cell_type": "code",
   "execution_count": null,
   "metadata": {},
   "outputs": [],
   "source": [
    "# Wetlands\n",
    "wet_commit = arcpy.SpatialJoin_analysis(wet, basins, 'temp_wet_join')\n",
    "[f.name for f in arcpy.ListFields(wet_commit)]\n",
    "arcpy.GetCount_management(wet_commit)\n",
    "arcpy.GetCount_management(wet)\n",
    "\n",
    "arcpy.AddField_management(wet_commit, 'CommitThr', 'DOUBLE')\n",
    "with arcpy.da.UpdateCursor(wet_commit, ['OverCommit', 'CommitThr']) as cursor:\n",
    "    for row in cursor:\n",
    "        if row[0] == 100:\n",
    "            row[1] = 0.5\n",
    "            cursor.updateRow(row)\n",
    "        elif row[0] == 200:\n",
    "            row[1] = 1\n",
    "            cursor.updateRow(row)\n",
    "        elif row[0] == 0:\n",
    "            row[1] = 0\n",
    "            cursor.updateRow(row)\n",
    "del cursor\n",
    "\n",
    "arcpy.AddField_management(wet_commit, 'PumpStr', 'DOUBLE')\n",
    "arcpy.CalculateField_management(wet_commit, 'PumpStr', '!OverPump!', 'PYTHON3')\n",
    "\n",
    "arcpy.JoinField_management(wet, 'OBJECTID', wet_commit, 'OBJECTID', ['CommitThr', 'PumpStr']) # Also joining overpump (stress)\n",
    "[f.name for f in arcpy.ListFields(wet)]\n"
   ]
  },
  {
   "cell_type": "code",
   "execution_count": null,
   "metadata": {},
   "outputs": [],
   "source": [
    "# Rivers/streams\n",
    "rs_commit = arcpy.SpatialJoin_analysis(rs, basins, 'temp_rs_join')\n",
    "[f.name for f in arcpy.ListFields(rs_commit)]\n",
    "arcpy.GetCount_management(rs_commit)\n",
    "arcpy.GetCount_management(rs)\n",
    "\n",
    "arcpy.AddField_management(rs_commit, 'CommitThr', 'DOUBLE')\n",
    "with arcpy.da.UpdateCursor(rs_commit, ['OverCommit', 'CommitThr']) as cursor:\n",
    "    for row in cursor:\n",
    "        if row[0] == 100:\n",
    "            row[1] = 0.5\n",
    "            cursor.updateRow(row)\n",
    "        elif row[0] == 200:\n",
    "            row[1] = 1\n",
    "            cursor.updateRow(row)\n",
    "        elif row[0] == 0:\n",
    "            row[1] = 0\n",
    "            cursor.updateRow(row)\n",
    "del cursor\n",
    "\n",
    "arcpy.AddField_management(rs_commit, 'PumpStr', 'DOUBLE')\n",
    "arcpy.CalculateField_management(rs_commit, 'PumpStr', '!OverPump!', 'PYTHON3')\n",
    "\n",
    "arcpy.JoinField_management(rs, 'OBJECTID', rs_commit, 'OBJECTID', ['CommitThr', 'PumpStr']) # Also joining overpump (stress)\n",
    "[f.name for f in arcpy.ListFields(rs)]\n",
    "\n"
   ]
  },
  {
   "cell_type": "code",
   "execution_count": null,
   "metadata": {},
   "outputs": [],
   "source": [
    "# Lakes/playas\n",
    "lp_commit = arcpy.SpatialJoin_analysis(lp, basins, 'temp_lp_join')\n",
    "[f.name for f in arcpy.ListFields(lp_commit)]\n",
    "arcpy.GetCount_management(lp_commit)\n",
    "arcpy.GetCount_management(lp)\n",
    "\n",
    "arcpy.AddField_management(lp_commit, 'CommitThr', 'DOUBLE')\n",
    "with arcpy.da.UpdateCursor(lp_commit, ['OverCommit', 'CommitThr']) as cursor:\n",
    "    for row in cursor:\n",
    "        if row[0] == 100:\n",
    "            row[1] = 0.5\n",
    "            cursor.updateRow(row)\n",
    "        elif row[0] == 200:\n",
    "            row[1] = 1\n",
    "            cursor.updateRow(row)\n",
    "        elif row[0] == 0:\n",
    "            row[1] = 0\n",
    "            cursor.updateRow(row)\n",
    "del cursor\n",
    "\n",
    "arcpy.AddField_management(lp_commit, 'PumpStr', 'DOUBLE')\n",
    "arcpy.CalculateField_management(lp_commit, 'PumpStr', '!OverPump!', 'PYTHON3')\n",
    "\n",
    "arcpy.JoinField_management(lp, 'OBJECTID', lp_commit, 'OBJECTID', ['CommitThr', 'PumpStr']) # Also joining overpump (stress)\n",
    "[f.name for f in arcpy.ListFields(lp)]\n"
   ]
  }
 ],
 "metadata": {
  "kernelspec": {
   "display_name": "Python 3",
   "language": "python",
   "name": "python3"
  },
  "language_info": {
   "name": "python",
   "version": "3.9.11"
  }
 },
 "nbformat": 4,
 "nbformat_minor": 2
}
