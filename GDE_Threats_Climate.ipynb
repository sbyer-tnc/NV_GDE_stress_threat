{
 "cells": [
  {
   "cell_type": "markdown",
   "metadata": {},
   "source": [
    "# Notebook for applying climate threat to GDEs\n",
    "\n",
    "Use 2 datasets to determine whether GDEs are threatened by climate:\n",
    "\n",
    "- local recharge areas\n",
    "- modeled drought index\n",
    "\n"
   ]
  },
  {
   "cell_type": "markdown",
   "metadata": {},
   "source": [
    "## Set up environments in ArcGIS Pro"
   ]
  },
  {
   "cell_type": "code",
   "execution_count": null,
   "metadata": {},
   "outputs": [],
   "source": [
    "# Import ArcGIS modules and check out spatial analyst extension\n",
    "import arcpy\n",
    "import os\n",
    "import pandas as pd\n",
    "import numpy as np\n",
    "from arcpy import env\n",
    "from arcpy.sa import *\n",
    "arcpy.CheckOutExtension(\"spatial\")"
   ]
  },
  {
   "cell_type": "code",
   "execution_count": null,
   "metadata": {},
   "outputs": [],
   "source": [
    "# Path to temporary geodatabase\n",
    "path =  r\"path_to_folder\\gdbname.gdb\"\n",
    "\n",
    "# Environment settings\n",
    "env.workspace = path\n",
    "env.overwriteOutput = True\n",
    "env.outputCoordinateSystem = arcpy.SpatialReference(26911) # Spatial reference NAD 1983 UTM Zone 11N. The code is '26911'"
   ]
  },
  {
   "cell_type": "code",
   "execution_count": null,
   "metadata": {},
   "outputs": [],
   "source": [
    "# GDE layers\n",
    "springs = r'path_to_folder\\NV_iGDE_assess.gdb\\Springs'\n",
    "wet = r'path_to_folder\\NV_iGDE_assess.gdb\\Wetlands'\n",
    "phr = r'path_to_folder\\NV_iGDE_assess.gdb\\Phreatophytes_Explode'\n",
    "lp = r'path_to_folder\\NV_iGDE_assess.gdb\\Lakes_Playas'\n",
    "rs = r'path_to_folder\\NV_iGDE_assess.gdb\\Rivers_Streams'\n"
   ]
  },
  {
   "cell_type": "markdown",
   "metadata": {},
   "source": [
    "## Identify GDEs in local recharge areas\n",
    "\n",
    "More likely to be influenced by changes in climate than GDEs in regional recharge areas. Recharge areas digitized from Mifflin 1988, Plate 3. \n",
    "\n",
    "Attribute: __Recharge = 0 (no threat) or 1 (threat)__"
   ]
  },
  {
   "cell_type": "code",
   "execution_count": null,
   "metadata": {},
   "outputs": [],
   "source": [
    "# Load recharge areas\n",
    "rch = r'path_to_folder\\GDE_Recharge06172020.shp'\n",
    "print(arcpy.GetCount_management(rch))"
   ]
  },
  {
   "cell_type": "code",
   "execution_count": null,
   "metadata": {},
   "outputs": [],
   "source": [
    "# For each GDE type - attribute whether it intersects with a recharge area\n",
    "# Springs\n",
    "arcpy.AddField_management(springs, 'Recharge', 'LONG')\n",
    "arcpy.CalculateField_management(springs, 'Recharge', 0)\n",
    "[f.name for f in arcpy.ListFields(springs)]\n",
    "spr_select = arcpy.SelectLayerByLocation_management(springs, 'INTERSECT', rch)\n",
    "arcpy.CalculateField_management(spr_select, 'Recharge', 1)\n",
    "\n",
    "# Wetlands\n",
    "arcpy.AddField_management(wet, 'Recharge', 'LONG')\n",
    "arcpy.CalculateField_management(wet, 'Recharge', 0)\n",
    "[f.name for f in arcpy.ListFields(wet)]\n",
    "wet_select = arcpy.SelectLayerByLocation_management(wet, 'INTERSECT', rch)\n",
    "arcpy.CalculateField_management(wet_select, 'Recharge', 1)\n",
    "\n",
    "# Phreatophytes\n",
    "arcpy.AddField_management(phr2, 'Recharge', 'LONG')\n",
    "arcpy.CalculateField_management(phr2, 'Recharge', 0)\n",
    "[f.name for f in arcpy.ListFields(phr2)]\n",
    "phr_select = arcpy.SelectLayerByLocation_management(phr2, 'INTERSECT', rch)\n",
    "arcpy.CalculateField_management(phr_select, 'Recharge', 1)\n",
    "\n",
    "# Lakes/playas\n",
    "arcpy.AddField_management(lp, 'Recharge', 'LONG')\n",
    "arcpy.CalculateField_management(lp, 'Recharge', 0)\n",
    "[f.name for f in arcpy.ListFields(lp)]\n",
    "lp_select = arcpy.SelectLayerByLocation_management(lp, 'INTERSECT', rch)\n",
    "arcpy.CalculateField_management(lp_select, 'Recharge', 1)\n",
    "\n",
    "# Rivers/streams\n",
    "arcpy.AddField_management(rs, 'Recharge', 'LONG')\n",
    "arcpy.CalculateField_management(rs, 'Recharge', 0)\n",
    "[f.name for f in arcpy.ListFields(rs)]\n",
    "rs_select = arcpy.SelectLayerByLocation_management(rs, 'INTERSECT', rch)\n",
    "arcpy.CalculateField_management(rs_select, 'Recharge', 1)\n"
   ]
  },
  {
   "cell_type": "markdown",
   "metadata": {},
   "source": [
    "## Basin-wide threats from modeled climate\n",
    "\n",
    "Attribute all GDEs in basin with that basin's relative climate threat value; calculated across hydrographic basins.\n",
    "\n",
    "Attribute: __ClmThrR = ranges 0 to 1 (less to most droughty/threatened)__"
   ]
  },
  {
   "cell_type": "code",
   "execution_count": null,
   "metadata": {},
   "outputs": [],
   "source": [
    "# Read in basins with climate threat values (essentially \"droughtiness\")\n",
    "clim = r'path_to_folder\\BasinClimateThr.shp'\n",
    "print([f.name for f in arcpy.ListFields(clim)])"
   ]
  },
  {
   "cell_type": "code",
   "execution_count": null,
   "metadata": {},
   "outputs": [],
   "source": [
    "# Springs\n",
    "spr_clim = arcpy.SpatialJoin_analysis(springs, clim, 'temp_springs_join')\n",
    "[f.name for f in arcpy.ListFields(spr_clim)]\n",
    "arcpy.GetCount_management(spr_clim)\n",
    "arcpy.GetCount_management(springs)\n",
    "\n",
    "arcpy.JoinField_management(springs, 'OBJECTID', spr_clim, 'OBJECTID', ['ClmThrR'])\n",
    "[f.name for f in arcpy.ListFields(springs)]\n",
    "\n",
    "# Wetlands\n",
    "wet_clim = arcpy.SpatialJoin_analysis(wet, clim, 'temp_wet_join')\n",
    "[f.name for f in arcpy.ListFields(wet_clim)]\n",
    "arcpy.GetCount_management(wet_clim)\n",
    "arcpy.GetCount_management(wet)\n",
    "\n",
    "arcpy.JoinField_management(wet, 'OBJECTID', wet_clim, 'OBJECTID', ['ClmThrR'])\n",
    "[f.name for f in arcpy.ListFields(wet)]\n",
    "\n",
    "# Phreatophytes\n",
    "phr_clim = arcpy.SpatialJoin_analysis(phr, clim, 'temp_phr_join')\n",
    "[f.name for f in arcpy.ListFields(phr_clim)]\n",
    "arcpy.GetCount_management(phr_clim)\n",
    "arcpy.GetCount_management(phr)\n",
    "\n",
    "arcpy.JoinField_management(phr, 'OBJECTID', phr_clim, 'OBJECTID', ['ClmThrR'])\n",
    "[f.name for f in arcpy.ListFields(phr)]\n",
    "\n",
    "# rivers/streams\n",
    "rs_clim = arcpy.SpatialJoin_analysis(rs, clim, 'temp_rs_join')\n",
    "[f.name for f in arcpy.ListFields(rs_clim)]\n",
    "arcpy.GetCount_management(rs_clim)\n",
    "arcpy.GetCount_management(rs)\n",
    "\n",
    "arcpy.JoinField_management(rs, 'OBJECTID', rs_clim, 'OBJECTID', ['ClmThrR'])\n",
    "[f.name for f in arcpy.ListFields(rs)]\n",
    "\n",
    "# Lakes/playas\n",
    "lp_clim = arcpy.SpatialJoin_analysis(lp, clim, 'temp_lp_join')\n",
    "[f.name for f in arcpy.ListFields(lp_clim)]\n",
    "arcpy.GetCount_management(lp_clim)\n",
    "arcpy.GetCount_management(lp)\n",
    "\n",
    "arcpy.JoinField_management(lp, 'OBJECTID', lp_clim, 'OBJECTID', ['ClmThrR'])\n",
    "[f.name for f in arcpy.ListFields(lp)]"
   ]
  }
 ],
 "metadata": {
  "kernelspec": {
   "display_name": "Python 3",
   "language": "python",
   "name": "python3"
  },
  "language_info": {
   "name": "python",
   "version": "3.9.11"
  }
 },
 "nbformat": 4,
 "nbformat_minor": 2
}
