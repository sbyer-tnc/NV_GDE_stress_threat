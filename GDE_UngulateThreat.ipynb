{
 "cells": [
  {
   "cell_type": "markdown",
   "metadata": {},
   "source": [
    "# Notebook for making Ungulate Threat to GDEs\n",
    "\n",
    "Name:        Threats to GDEs due to ungulates\n",
    "\n",
    "Purpose:     Determine whether GDEs are at risk of damage from ungulates (depends on GDE type and ungulate potential presence)\n",
    "              \n",
    "Refer to spreadsheet for notes on affected systems:  D:\\GDE_Threats\\OtherData\\Grazing\\grazing_impacts_by_GDE.xlsx\n",
    "\n",
    "GDE methods report has descriptions of systems for each layer: https://www.conservationgateway.org/ConservationByGeography/NorthAmerica/UnitedStates/nevada/water/Documents/NV_iGDE_MethodsReport.pdf\n",
    "\n",
    "Author:      sarah.byer\n",
    "\n",
    "Created:     October 2021\n"
   ]
  },
  {
   "cell_type": "markdown",
   "metadata": {},
   "source": [
    "## Set up environments in ArcGIS Pro"
   ]
  },
  {
   "cell_type": "code",
   "execution_count": 1,
   "metadata": {},
   "outputs": [
    {
     "data": {
      "text/plain": [
       "'CheckedOut'"
      ]
     },
     "execution_count": 1,
     "metadata": {},
     "output_type": "execute_result"
    }
   ],
   "source": [
    "# Import ArcGIS modules and check out spatial analyst extension\n",
    "import arcpy\n",
    "import os\n",
    "import pandas as pd\n",
    "import numpy as np\n",
    "from arcpy import env\n",
    "from arcpy.sa import *\n",
    "arcpy.CheckOutExtension(\"spatial\")"
   ]
  },
  {
   "cell_type": "code",
   "execution_count": 2,
   "metadata": {},
   "outputs": [],
   "source": [
    "# Path to temporary geodatabase\n",
    "#path =  r\"folder_path\\gdbname.gdb\"\n",
    "path =  r\"K:\\GIS3\\Projects\\GDE\\Maps\\GDE_Threats\\GDE_Threats.gdb\"\n",
    "\n",
    "# Environment settings\n",
    "env.workspace = path\n",
    "env.overwriteOutput = True\n",
    "env.outputCoordinateSystem = arcpy.SpatialReference(26911) # Spatial reference NAD 1983 UTM Zone 11N. The code is '26911'"
   ]
  },
  {
   "cell_type": "code",
   "execution_count": 5,
   "metadata": {},
   "outputs": [],
   "source": [
    "# Custom function that converts tables to pandas dataframe\n",
    "\n",
    "def table_to_data_frame(in_table, input_fields=None, where_clause=None):\n",
    "    \"\"\"Function will convert an arcgis table into a pandas dataframe with an object ID index, and the selected\n",
    "    input fields using an arcpy.da.SearchCursor.\"\"\"\n",
    "    OIDFieldName = arcpy.Describe(in_table).OIDFieldName\n",
    "    if input_fields:\n",
    "        final_fields = [OIDFieldName] + input_fields\n",
    "    else:\n",
    "        final_fields = [field.name for field in arcpy.ListFields(in_table)]\n",
    "    data = [row for row in arcpy.da.SearchCursor(in_table, final_fields, where_clause=where_clause)]\n",
    "    fc_dataframe = pd.DataFrame(data, columns=final_fields)\n",
    "    fc_dataframe = fc_dataframe.set_index(OIDFieldName, drop=True)\n",
    "    return fc_dataframe"
   ]
  },
  {
   "cell_type": "markdown",
   "metadata": {},
   "source": [
    "## Read in ungulate data"
   ]
  },
  {
   "cell_type": "code",
   "execution_count": null,
   "metadata": {},
   "outputs": [],
   "source": [
    "\n",
    "graze = arcpy.CopyFeatures_management(r'D:\\GDE_Threats\\OtherData\\Grazing\\BLM_National_Grazing_Allotments\\gra.gdb\\gra_allot_poly', 'graze')\n",
    "hma = arcpy.CopyFeatures_management(r'D:\\GDE_Threats\\OtherData\\BLM_National_Wild_Horse_and_Burro\\blm_natl_whb_geocortex.gdb\\whb_hma_pop_poly', 'hma')\n",
    "elk = arcpy.CopyFeatures_management(r'D:\\GDE_Threats\\OtherData\\Occupied_Elk_Distribution.shp', 'elk')\n"
   ]
  }
 ],
 "metadata": {
  "kernelspec": {
   "display_name": "Python 3",
   "language": "python",
   "name": "python3"
  },
  "language_info": {
   "codemirror_mode": {
    "name": "ipython",
    "version": 3
   },
   "file_extension": ".py",
   "mimetype": "text/x-python",
   "name": "python",
   "nbconvert_exporter": "python",
   "pygments_lexer": "ipython3",
   "version": "3.9.11"
  }
 },
 "nbformat": 4,
 "nbformat_minor": 2
}
