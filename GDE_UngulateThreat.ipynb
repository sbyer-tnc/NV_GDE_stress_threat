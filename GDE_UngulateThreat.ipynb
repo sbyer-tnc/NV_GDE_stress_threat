{
 "cells": [
  {
   "cell_type": "markdown",
   "metadata": {},
   "source": [
    "# Notebook for making Ungulate Threat to GDEs\n",
    "\n",
    "Name:        Threats to GDEs due to ungulates\n",
    "\n",
    "Purpose:     Determine whether GDEs are at risk of damage from ungulates (depends on GDE type and ungulate potential presence)\n",
    "              \n",
    "Refer to spreadsheet for notes on affected systems:  D:\\GDE_Threats\\OtherData\\Grazing\\grazing_impacts_by_GDE.xlsx\n",
    "\n",
    "GDE methods report has descriptions of systems for each layer: https://www.conservationgateway.org/ConservationByGeography/NorthAmerica/UnitedStates/nevada/water/Documents/NV_iGDE_MethodsReport.pdf\n",
    "\n",
    "Author:      sarah.byer\n"
   ]
  },
  {
   "cell_type": "markdown",
   "metadata": {},
   "source": [
    "## Set up environments in ArcGIS Pro"
   ]
  },
  {
   "cell_type": "code",
   "execution_count": 1,
   "metadata": {},
   "outputs": [
    {
     "data": {
      "text/plain": [
       "'CheckedOut'"
      ]
     },
     "execution_count": 1,
     "metadata": {},
     "output_type": "execute_result"
    }
   ],
   "source": [
    "# Import ArcGIS modules and check out spatial analyst extension\n",
    "import arcpy\n",
    "import os\n",
    "import pandas as pd\n",
    "import numpy as np\n",
    "from arcpy import env\n",
    "from arcpy.sa import *\n",
    "arcpy.CheckOutExtension(\"spatial\")"
   ]
  },
  {
   "cell_type": "code",
   "execution_count": 2,
   "metadata": {},
   "outputs": [],
   "source": [
    "# Path to temporary geodatabase\n",
    "#path =  r\"folder_path\\gdbname.gdb\"\n",
    "path =  r\"K:\\GIS3\\Projects\\GDE\\Maps\\GDE_Threats\\GDE_Threats.gdb\"\n",
    "\n",
    "# Environment settings\n",
    "env.workspace = path\n",
    "env.overwriteOutput = True\n",
    "env.outputCoordinateSystem = arcpy.SpatialReference(26911) # Spatial reference NAD 1983 UTM Zone 11N. The code is '26911'"
   ]
  },
  {
   "cell_type": "code",
   "execution_count": 3,
   "metadata": {},
   "outputs": [],
   "source": [
    "# Custom function that converts tables to pandas dataframe\n",
    "\n",
    "def table_to_data_frame(in_table, input_fields=None, where_clause=None):\n",
    "    \"\"\"Function will convert an arcgis table into a pandas dataframe with an object ID index, and the selected\n",
    "    input fields using an arcpy.da.SearchCursor.\"\"\"\n",
    "    OIDFieldName = arcpy.Describe(in_table).OIDFieldName\n",
    "    if input_fields:\n",
    "        final_fields = [OIDFieldName] + input_fields\n",
    "    else:\n",
    "        final_fields = [field.name for field in arcpy.ListFields(in_table)]\n",
    "    data = [row for row in arcpy.da.SearchCursor(in_table, final_fields, where_clause=where_clause)]\n",
    "    fc_dataframe = pd.DataFrame(data, columns=final_fields)\n",
    "    fc_dataframe = fc_dataframe.set_index(OIDFieldName, drop=True)\n",
    "    return fc_dataframe"
   ]
  },
  {
   "cell_type": "markdown",
   "metadata": {},
   "source": [
    "### Read in ungulate data\n",
    "\n",
    "BLM National Grazing Allotments: https://gbp-blm-egis.hub.arcgis.com/datasets/BLM-EGIS::blm-natl-grazing-allotment-polygons/explore\n",
    "\n",
    "BLM National Wild Horse and Burro: https://gbp-blm-egis.hub.arcgis.com/datasets/BLM-EGIS::blm-nv-wild-horse-and-burro-herd-area-polygons/about \n",
    "\n",
    "NDOW Occupied Elk Distribution: https://gis-ndow.opendata.arcgis.com/datasets/NDOW::ndow-big-game-distributions/about?layer=2"
   ]
  },
  {
   "cell_type": "code",
   "execution_count": 4,
   "metadata": {},
   "outputs": [
    {
     "ename": "KeyboardInterrupt",
     "evalue": "",
     "output_type": "error",
     "traceback": [
      "\u001b[1;31m---------------------------------------------------------------------------\u001b[0m",
      "\u001b[1;31mKeyboardInterrupt\u001b[0m                         Traceback (most recent call last)",
      "\u001b[1;32m<ipython-input-4-f34cfa13a555>\u001b[0m in \u001b[0;36m<module>\u001b[1;34m\u001b[0m\n\u001b[0;32m      5\u001b[0m \u001b[1;31m#elk = arcpy.CopyFeatures_management(r'path_to_folder\\Occupied_Elk_Distribution.shp', 'elk') # Elk habitat\u001b[0m\u001b[1;33m\u001b[0m\u001b[1;33m\u001b[0m\u001b[0m\n\u001b[0;32m      6\u001b[0m \u001b[1;33m\u001b[0m\u001b[0m\n\u001b[1;32m----> 7\u001b[1;33m \u001b[0mgraze\u001b[0m \u001b[1;33m=\u001b[0m \u001b[0marcpy\u001b[0m\u001b[1;33m.\u001b[0m\u001b[0mCopyFeatures_management\u001b[0m\u001b[1;33m(\u001b[0m\u001b[1;34mr'K:\\GIS3\\Data_Library\\National\\Management\\Grazing\\BLM_National_Grazing_Allotments\\gra.gdb\\gra_allot_poly'\u001b[0m\u001b[1;33m,\u001b[0m \u001b[1;34m'graze'\u001b[0m\u001b[1;33m)\u001b[0m\u001b[1;33m\u001b[0m\u001b[1;33m\u001b[0m\u001b[0m\n\u001b[0m\u001b[0;32m      8\u001b[0m \u001b[0mhma\u001b[0m \u001b[1;33m=\u001b[0m \u001b[0marcpy\u001b[0m\u001b[1;33m.\u001b[0m\u001b[0mCopyFeatures_management\u001b[0m\u001b[1;33m(\u001b[0m\u001b[1;34mr'K:\\GIS3\\Data_Library\\National\\Management\\Horse_Burro\\blm_natl_whb_geocortex.gdb\\whb_hma_pop_poly'\u001b[0m\u001b[1;33m,\u001b[0m \u001b[1;34m'hma'\u001b[0m\u001b[1;33m)\u001b[0m\u001b[1;33m\u001b[0m\u001b[1;33m\u001b[0m\u001b[0m\n\u001b[0;32m      9\u001b[0m \u001b[0melk\u001b[0m \u001b[1;33m=\u001b[0m \u001b[0marcpy\u001b[0m\u001b[1;33m.\u001b[0m\u001b[0mCopyFeatures_management\u001b[0m\u001b[1;33m(\u001b[0m\u001b[1;34mr'K:\\GIS3\\Data_Library\\NV\\Biota\\Occupied_Elk_Distribution.shp'\u001b[0m\u001b[1;33m,\u001b[0m \u001b[1;34m'elk'\u001b[0m\u001b[1;33m)\u001b[0m\u001b[1;33m\u001b[0m\u001b[1;33m\u001b[0m\u001b[0m\n",
      "\u001b[1;32mc:\\Program Files\\ArcGIS\\Pro\\Resources\\ArcPy\\arcpy\\management.py\u001b[0m in \u001b[0;36mCopyFeatures\u001b[1;34m(in_features, out_feature_class, config_keyword, spatial_grid_1, spatial_grid_2, spatial_grid_3)\u001b[0m\n\u001b[0;32m   4318\u001b[0m     \u001b[1;32mfrom\u001b[0m \u001b[0marcpy\u001b[0m\u001b[1;33m.\u001b[0m\u001b[0marcobjects\u001b[0m\u001b[1;33m.\u001b[0m\u001b[0marcobjectconversion\u001b[0m \u001b[1;32mimport\u001b[0m \u001b[0mconvertArcObjectToPythonObject\u001b[0m\u001b[1;33m\u001b[0m\u001b[1;33m\u001b[0m\u001b[0m\n\u001b[0;32m   4319\u001b[0m     \u001b[1;32mtry\u001b[0m\u001b[1;33m:\u001b[0m\u001b[1;33m\u001b[0m\u001b[1;33m\u001b[0m\u001b[0m\n\u001b[1;32m-> 4320\u001b[1;33m         \u001b[0mretval\u001b[0m \u001b[1;33m=\u001b[0m \u001b[0mconvertArcObjectToPythonObject\u001b[0m\u001b[1;33m(\u001b[0m\u001b[0mgp\u001b[0m\u001b[1;33m.\u001b[0m\u001b[0mCopyFeatures_management\u001b[0m\u001b[1;33m(\u001b[0m\u001b[1;33m*\u001b[0m\u001b[0mgp_fixargs\u001b[0m\u001b[1;33m(\u001b[0m\u001b[1;33m(\u001b[0m\u001b[0min_features\u001b[0m\u001b[1;33m,\u001b[0m \u001b[0mout_feature_class\u001b[0m\u001b[1;33m,\u001b[0m \u001b[0mconfig_keyword\u001b[0m\u001b[1;33m,\u001b[0m \u001b[0mspatial_grid_1\u001b[0m\u001b[1;33m,\u001b[0m \u001b[0mspatial_grid_2\u001b[0m\u001b[1;33m,\u001b[0m \u001b[0mspatial_grid_3\u001b[0m\u001b[1;33m)\u001b[0m\u001b[1;33m,\u001b[0m \u001b[1;32mTrue\u001b[0m\u001b[1;33m)\u001b[0m\u001b[1;33m)\u001b[0m\u001b[1;33m)\u001b[0m\u001b[1;33m\u001b[0m\u001b[1;33m\u001b[0m\u001b[0m\n\u001b[0m\u001b[0;32m   4321\u001b[0m         \u001b[1;32mreturn\u001b[0m \u001b[0mretval\u001b[0m\u001b[1;33m\u001b[0m\u001b[1;33m\u001b[0m\u001b[0m\n\u001b[0;32m   4322\u001b[0m     \u001b[1;32mexcept\u001b[0m \u001b[0mException\u001b[0m \u001b[1;32mas\u001b[0m \u001b[0me\u001b[0m\u001b[1;33m:\u001b[0m\u001b[1;33m\u001b[0m\u001b[1;33m\u001b[0m\u001b[0m\n",
      "\u001b[1;32mc:\\Program Files\\ArcGIS\\Pro\\Resources\\ArcPy\\arcpy\\geoprocessing\\_base.py\u001b[0m in \u001b[0;36m<lambda>\u001b[1;34m(*args)\u001b[0m\n\u001b[0;32m    510\u001b[0m         \u001b[0mval\u001b[0m \u001b[1;33m=\u001b[0m \u001b[0mgetattr\u001b[0m\u001b[1;33m(\u001b[0m\u001b[0mself\u001b[0m\u001b[1;33m.\u001b[0m\u001b[0m_gp\u001b[0m\u001b[1;33m,\u001b[0m \u001b[0mattr\u001b[0m\u001b[1;33m)\u001b[0m\u001b[1;33m\u001b[0m\u001b[1;33m\u001b[0m\u001b[0m\n\u001b[0;32m    511\u001b[0m         \u001b[1;32mif\u001b[0m \u001b[0mcallable\u001b[0m\u001b[1;33m(\u001b[0m\u001b[0mval\u001b[0m\u001b[1;33m)\u001b[0m\u001b[1;33m:\u001b[0m\u001b[1;33m\u001b[0m\u001b[1;33m\u001b[0m\u001b[0m\n\u001b[1;32m--> 512\u001b[1;33m             \u001b[1;32mreturn\u001b[0m \u001b[1;32mlambda\u001b[0m \u001b[1;33m*\u001b[0m\u001b[0margs\u001b[0m\u001b[1;33m:\u001b[0m \u001b[0mval\u001b[0m\u001b[1;33m(\u001b[0m\u001b[1;33m*\u001b[0m\u001b[0mgp_fixargs\u001b[0m\u001b[1;33m(\u001b[0m\u001b[0margs\u001b[0m\u001b[1;33m,\u001b[0m \u001b[1;32mTrue\u001b[0m\u001b[1;33m)\u001b[0m\u001b[1;33m)\u001b[0m\u001b[1;33m\u001b[0m\u001b[1;33m\u001b[0m\u001b[0m\n\u001b[0m\u001b[0;32m    513\u001b[0m         \u001b[1;32melse\u001b[0m\u001b[1;33m:\u001b[0m\u001b[1;33m\u001b[0m\u001b[1;33m\u001b[0m\u001b[0m\n\u001b[0;32m    514\u001b[0m             \u001b[1;32mreturn\u001b[0m \u001b[0mconvertArcObjectToPythonObject\u001b[0m\u001b[1;33m(\u001b[0m\u001b[0mval\u001b[0m\u001b[1;33m)\u001b[0m\u001b[1;33m\u001b[0m\u001b[1;33m\u001b[0m\u001b[0m\n",
      "\u001b[1;31mKeyboardInterrupt\u001b[0m: "
     ]
    }
   ],
   "source": [
    "# Copy features to geodatabase\n",
    "\n",
    "#graze = arcpy.CopyFeatures_management(r'path_to_folder\\BLM_National_Grazing_Allotments\\gra.gdb\\gra_allot_poly', 'graze') # Cattle/sheep grazing allotments\n",
    "#hma = arcpy.CopyFeatures_management(r'path_to_folder\\BLM_National_Wild_Horse_and_Burro\\blm_natl_whb_geocortex.gdb\\whb_hma_pop_poly', 'hma') # Horse/burro\n",
    "#elk = arcpy.CopyFeatures_management(r'path_to_folder\\Occupied_Elk_Distribution.shp', 'elk') # Elk habitat\n",
    "\n",
    "graze = arcpy.CopyFeatures_management(r'K:\\GIS3\\Data_Library\\National\\Management\\Grazing\\BLM_National_Grazing_Allotments\\gra.gdb\\gra_allot_poly', 'graze')\n",
    "hma = arcpy.CopyFeatures_management(r'K:\\GIS3\\Data_Library\\National\\Management\\Horse_Burro\\blm_natl_whb_geocortex.gdb\\whb_hma_pop_poly', 'hma')\n",
    "elk = arcpy.CopyFeatures_management(r'K:\\GIS3\\Data_Library\\NV\\Biota\\Occupied_Elk_Distribution.shp', 'elk')\n"
   ]
  },
  {
   "cell_type": "markdown",
   "metadata": {},
   "source": [
    "### Read in GDE data\n",
    "\n",
    "Only allow ungulates to affect phreatophyte communities, wetlands, and springs."
   ]
  },
  {
   "cell_type": "code",
   "execution_count": null,
   "metadata": {},
   "outputs": [],
   "source": [
    "# Load features from iGDE database\n",
    "#phr = r'path_to_folder\\NV_iGDE_MMDDYY.gdb\\Phreatophytes' # NOTE - This feature should be \"exploded\" first (multipart to singlepart)\n",
    "#wet = r'path_to_folder\\NV_iGDE_MMDDYY.gdb\\Wetlands'\n",
    "#springs = r'path_to_folder\\NV_iGDE_MMDDYY.gdb\\Springs'\n",
    "#rs = r'path_to_folder\\NV_iGDE_MMDDYY.gdb\\Rivers_Streams'\n",
    "#lp = r'path_to_folder\\NV_iGDE_MMDDYY.gdb\\Lakes_Playas'\n",
    "\n",
    "phr = r'K:\\GIS3\\Projects\\GDE\\Geospatial\\NV_iGDE_assess.gdb\\Phreatophyte_Explode'\n",
    "wet = r'K:\\GIS3\\Projects\\GDE\\Geospatial\\NV_iGDE_assess.gdb\\Wetlands'\n",
    "springs = r'K:\\GIS3\\Projects\\GDE\\Geospatial\\NV_iGDE_assess.gdb\\Springs'\n",
    "lp = r'K:\\GIS3\\Projects\\GDE\\Geospatial\\NV_iGDE_assess.gdb\\Lakes_Playas'\n",
    "rs = r'K:\\GIS3\\Projects\\GDE\\Geospatial\\NV_iGDE_assess.gdb\\Rivers_Streams'"
   ]
  },
  {
   "cell_type": "code",
   "execution_count": 6,
   "metadata": {},
   "outputs": [],
   "source": [
    "# Hydro areas and hexagons for summarizing\n",
    "# Only copy once, then read in\n",
    "\n",
    "#ha = arcpy.CopyFeatures_management(r'path_to_folder\\NV_HydrographicAreas.shp', 'ha_ungulates')\n",
    "#hexagons = arcpy.CopyFeatures_management(r'path_to_folder\\NV_Hexagons.shp', 'hex_ungulates')\n",
    "\n",
    "ha = arcpy.CopyFeatures_management(r'K:\\GIS3\\Projects\\GDE\\Geospatial\\NV_iGDE_Story_041522.gdb\\NV_HydrographicAreas', 'ha_ungulates')\n",
    "hexagons = arcpy.CopyFeatures_management(r'K:\\GIS3\\Projects\\GDE\\Geospatial\\NV_iGDE_Story_041522.gdb\\NV_Hexagons', 'hex_ungulates')\n",
    "\n",
    "ha = 'ha_ungulates'\n",
    "hexagons = 'hex_ungulates'"
   ]
  },
  {
   "cell_type": "code",
   "execution_count": null,
   "metadata": {},
   "outputs": [
    {
     "ename": "OSError",
     "evalue": "\"ha_ungulates\" does not exist",
     "output_type": "error",
     "traceback": [
      "\u001b[1;31m---------------------------------------------------------------------------\u001b[0m",
      "\u001b[1;31mOSError\u001b[0m                                   Traceback (most recent call last)",
      "\u001b[1;32m<ipython-input-7-313d00998e8b>\u001b[0m in \u001b[0;36m<module>\u001b[1;34m\u001b[0m\n\u001b[1;32m----> 1\u001b[1;33m \u001b[0mprint\u001b[0m\u001b[1;33m(\u001b[0m\u001b[1;33m[\u001b[0m\u001b[0mf\u001b[0m\u001b[1;33m.\u001b[0m\u001b[0mname\u001b[0m \u001b[1;32mfor\u001b[0m \u001b[0mf\u001b[0m \u001b[1;32min\u001b[0m \u001b[0marcpy\u001b[0m\u001b[1;33m.\u001b[0m\u001b[0mListFields\u001b[0m\u001b[1;33m(\u001b[0m\u001b[0mha\u001b[0m\u001b[1;33m)\u001b[0m\u001b[1;33m]\u001b[0m\u001b[1;33m)\u001b[0m\u001b[1;33m\u001b[0m\u001b[1;33m\u001b[0m\u001b[0m\n\u001b[0m",
      "\u001b[1;32mc:\\Program Files\\ArcGIS\\Pro\\Resources\\ArcPy\\arcpy\\__init__.py\u001b[0m in \u001b[0;36mListFields\u001b[1;34m(dataset, wild_card, field_type)\u001b[0m\n\u001b[0;32m   1152\u001b[0m \u001b[1;33m\u001b[0m\u001b[0m\n\u001b[0;32m   1153\u001b[0m         * String:   Only field types of String are returned.\"\"\"\n\u001b[1;32m-> 1154\u001b[1;33m     \u001b[1;32mreturn\u001b[0m \u001b[0mgp\u001b[0m\u001b[1;33m.\u001b[0m\u001b[0mlistFields\u001b[0m\u001b[1;33m(\u001b[0m\u001b[0mdataset\u001b[0m\u001b[1;33m,\u001b[0m \u001b[0mwild_card\u001b[0m\u001b[1;33m,\u001b[0m \u001b[0mfield_type\u001b[0m\u001b[1;33m)\u001b[0m\u001b[1;33m\u001b[0m\u001b[1;33m\u001b[0m\u001b[0m\n\u001b[0m\u001b[0;32m   1155\u001b[0m \u001b[1;33m\u001b[0m\u001b[0m\n\u001b[0;32m   1156\u001b[0m \u001b[1;33m@\u001b[0m\u001b[0m_gptooldoc\u001b[0m\u001b[1;33m(\u001b[0m\u001b[1;32mNone\u001b[0m\u001b[1;33m,\u001b[0m \u001b[1;33m[\u001b[0m\u001b[1;33m[\u001b[0m\u001b[1;33m[\u001b[0m\u001b[1;34m\"FeatureLayer\"\u001b[0m\u001b[1;33m,\u001b[0m \u001b[1;34m\"Table\"\u001b[0m\u001b[1;33m,\u001b[0m \u001b[1;34m\"TableView\"\u001b[0m\u001b[1;33m,\u001b[0m \u001b[1;34m\"Dataset\"\u001b[0m\u001b[1;33m,\u001b[0m \u001b[1;34m\"FeatureDataset\"\u001b[0m\u001b[1;33m]\u001b[0m\u001b[1;33m,\u001b[0m \u001b[1;34m\"\"\u001b[0m\u001b[1;33m,\u001b[0m \u001b[1;34m\"\"\u001b[0m\u001b[1;33m,\u001b[0m \u001b[1;34m\"\"\u001b[0m\u001b[1;33m]\u001b[0m\u001b[1;33m]\u001b[0m\u001b[1;33m)\u001b[0m\u001b[1;33m\u001b[0m\u001b[1;33m\u001b[0m\u001b[0m\n",
      "\u001b[1;32mc:\\Program Files\\ArcGIS\\Pro\\Resources\\ArcPy\\arcpy\\geoprocessing\\_base.py\u001b[0m in \u001b[0;36mlistFields\u001b[1;34m(self, *args)\u001b[0m\n\u001b[0;32m    352\u001b[0m         \u001b[1;32mfrom\u001b[0m \u001b[0marcpy\u001b[0m\u001b[1;33m.\u001b[0m\u001b[0marcobjects\u001b[0m\u001b[1;33m.\u001b[0m\u001b[0marcobjectconversion\u001b[0m \u001b[1;32mimport\u001b[0m \u001b[0mconvertArcObjectToPythonObject\u001b[0m\u001b[1;33m\u001b[0m\u001b[1;33m\u001b[0m\u001b[0m\n\u001b[0;32m    353\u001b[0m         return convertArcObjectToPythonObject(\n\u001b[1;32m--> 354\u001b[1;33m                     self._gp.ListFields(*gp_fixargs(args, True)))\n\u001b[0m\u001b[0;32m    355\u001b[0m     \u001b[1;32mdef\u001b[0m \u001b[0mlistIndexes\u001b[0m\u001b[1;33m(\u001b[0m\u001b[0mself\u001b[0m\u001b[1;33m,\u001b[0m \u001b[1;33m*\u001b[0m\u001b[0margs\u001b[0m\u001b[1;33m)\u001b[0m\u001b[1;33m:\u001b[0m\u001b[1;33m\u001b[0m\u001b[1;33m\u001b[0m\u001b[0m\n\u001b[0;32m    356\u001b[0m         \u001b[1;34m\"\"\"GP function ListIndexes\"\"\"\u001b[0m\u001b[1;33m\u001b[0m\u001b[1;33m\u001b[0m\u001b[0m\n",
      "\u001b[1;31mOSError\u001b[0m: \"ha_ungulates\" does not exist"
     ]
    }
   ],
   "source": [
    "print([f.name for f in arcpy.ListFields(ha)])"
   ]
  },
  {
   "cell_type": "markdown",
   "metadata": {},
   "source": [
    "## Rules for groups of/individual GDE types\n",
    "\n",
    "Only specific ungulates count as a threat to specific GDE types"
   ]
  },
  {
   "cell_type": "markdown",
   "metadata": {},
   "source": [
    "### Phreatophytes - Aspen types\n",
    "\n",
    "Ungulate threat applies to Aspen Woodland and Aspen Mixed-conifer. These are affected by:\n",
    "- Cows = graze allot - cows\n",
    "- Sheep = graze allot - sheep\n",
    "- Elk = elk distribution"
   ]
  },
  {
   "cell_type": "code",
   "execution_count": null,
   "metadata": {},
   "outputs": [],
   "source": [
    "arcpy.AddField_management(phr, 'GRAZE', 'LONG')\n",
    "arcpy.AddField_management(phr, 'HORSE_BURRO', 'LONG')\n",
    "arcpy.AddField_management(phr, 'ELK', 'LONG')\n",
    "arcpy.CalculateField_management(phr, 'GRAZE', 0, 'PYTHON3')\n",
    "arcpy.CalculateField_management(phr, 'HORSE_BURRO', 0, 'PYTHON3')\n",
    "arcpy.CalculateField_management(phr, 'ELK', 0, 'PYTHON3')"
   ]
  },
  {
   "cell_type": "code",
   "execution_count": null,
   "metadata": {},
   "outputs": [],
   "source": [
    "# Impacts from sheep and cow grazing\n",
    "where = \"PHR_TYPE LIKE '%Aspen%'\"\n",
    "aspen = arcpy.SelectLayerByAttribute_management(phr, 'NEW_SELECTION', where) # Select aspen\n",
    "print(int(arcpy.GetCount_management(aspen)[0]))\n",
    "aspen_select = arcpy.SelectLayerByLocation_management(aspen, 'INTERSECT', graze, '', 'SUBSET_SELECTION') # sub-select grazing\n",
    "print(int(arcpy.GetCount_management(aspen_select)[0]))\n",
    "arcpy.CalculateField_management(aspen_select, 'GRAZE', 1, 'PYTHON3')"
   ]
  },
  {
   "cell_type": "code",
   "execution_count": null,
   "metadata": {},
   "outputs": [],
   "source": [
    "# Elk distribution\n",
    "aspen = arcpy.SelectLayerByAttribute_management(phr, 'NEW_SELECTION', where) # Select aspen\n",
    "aspen_select = arcpy.SelectLayerByLocation_management(aspen, 'INTERSECT', elk, '', 'NEW_SELECTION') # sub-select elk\n",
    "print(int(arcpy.GetCount_management(aspen_select)[0]))\n",
    "arcpy.CalculateField_management(aspen_select, 'ELK', 1, 'PYTHON3')"
   ]
  },
  {
   "cell_type": "code",
   "execution_count": null,
   "metadata": {},
   "outputs": [],
   "source": [
    "# Sum up ungulate impacts\n",
    "arcpy.AddField_management(phr, 'UNGULATES', 'LONG')\n",
    "arcpy.CalculateField_management(phr, 'UNGULATES', '!GRAZE! + !HORSE_BURRO! + !ELK!', 'PYTHON3')"
   ]
  },
  {
   "cell_type": "markdown",
   "metadata": {},
   "source": [
    "### Phreatophytes - Mesquite\n",
    "\n",
    "Mesquite affected by:\n",
    "- Horse/burros\n",
    "- Cows - in the Mojave if grazing permits are not retired\n",
    "\n",
    "At the time of analysis, the following allotments were active:\n",
    "- MORMON PEAK NV01044\n",
    "- ROX-TULE NV01063\n",
    "- GARDEN SPRING NV01065\n",
    "- GOURD SPRING NV01071\n",
    "- SNOW SPRINGS NV01074\n",
    "- SUMMIT SPRING NV01077\n",
    "- WHITE ROCK NV01078\n",
    "- PAHRANAGAT WEST NV01081\n",
    "- DELAMAR NV01083\n",
    "- BREEDLOVE NV11010\n",
    "- LOWER LAKE WEST NV11013\n",
    "- GRAPEVINE NV11032\n",
    "- HENRIE COMPLEX NV11034\n",
    "- BALD MTN NV21003\n",
    "- LIME MOUNTAIN NV21005\n",
    "- LOWER LAKE EAST NV21022\n",
    "- Hidden Valley NV15412\n",
    "- CRESCENT (N-4) NV00128\n",
    "- RAZORBACK NV00093\n",
    "- MACGRUDER MTN NV00099"
   ]
  },
  {
   "cell_type": "code",
   "execution_count": null,
   "metadata": {},
   "outputs": [],
   "source": [
    "# Horse/burro distribution\n",
    "where = \"PHR_TYPE LIKE '%Mesquite%'\"\n",
    "mesquite = arcpy.SelectLayerByAttribute_management(phr, 'NEW_SELECTION', where) # Select mesquite\n",
    "int(arcpy.GetCount_management(mesquite)[0]) \n",
    "mesquite_select = arcpy.SelectLayerByLocation_management(mesquite, 'INTERSECT', hma, '', 'SUBSET_SELECTION')\n",
    "int(arcpy.GetCount_management(mesquite_select)[0]) \n",
    "arcpy.CalculateField_management(mesquite_select, 'HORSE_BURRO', 1, 'PYTHON3')"
   ]
  },
  {
   "cell_type": "code",
   "execution_count": null,
   "metadata": {},
   "outputs": [],
   "source": [
    "# Cow grazing in the Mojave - need to subset grazing allotment data\n",
    "# Subset non-retired grazing permits (mesquite only in the mojave anyway)\n",
    "# Check authorization use by allotment forms for any active allotment that overlaps with mapped mesquite\n",
    "mesquite = arcpy.SelectLayerByAttribute_management(phr, 'NEW_SELECTION', where) # Select mesquite\n",
    "graze_select = arcpy.SelectLayerByLocation_management(graze, 'INTERSECT', mesquite, '', 'NEW_SELECTION')\n",
    "int(arcpy.GetCount_management(graze_select)[0]) \n",
    "allots = arcpy.CopyFeatures_management(graze_select, 'mesquite_graze_allots')\n",
    "allots = 'mesquite_graze_allots'\n",
    "[f.name for f in arcpy.ListFields(allots)]\n",
    "\n",
    "active = ['NV01044', 'NV01063', 'NV01065', 'NV01071', 'NV01074', 'NV01077',\n",
    "'NV01078', 'NV01081', 'NV01083', 'NV11010', 'NV11013', 'NV11032',\n",
    "'NV11034', 'NV21003', 'NV21005', 'NV21022', 'NV15412', 'NV00128',\n",
    "'NV00093', 'NV00099']\n",
    "\n",
    "with arcpy.da.UpdateCursor(allots, ['ST_ALLOT']) as cursor:\n",
    "    for row in cursor:\n",
    "        if row[0] in active:\n",
    "            print(row[0])\n",
    "        else:\n",
    "            cursor.deleteRow()\n",
    "del cursor\n",
    "\n",
    "where = \"PHR_TYPE LIKE '%Mesquite%'\"\n",
    "mesquite = arcpy.SelectLayerByAttribute_management(phr, 'NEW_SELECTION', where) # Select mesquite\n",
    "int(arcpy.GetCount_management(mesquite)[0]) \n",
    "mesquite_select = arcpy.SelectLayerByLocation_management(mesquite, 'INTERSECT', allots, '', 'SUBSET_SELECTION')\n",
    "int(arcpy.GetCount_management(mesquite_select)[0]) \n",
    "arcpy.CalculateField_management(mesquite_select, 'GRAZE', 1, 'PYTHON3')\n",
    "\n"
   ]
  },
  {
   "cell_type": "code",
   "execution_count": null,
   "metadata": {},
   "outputs": [],
   "source": [
    "# Sum up ungulate impacts in PHREATOPHYTES\n",
    "arcpy.CalculateField_management(phr, 'UNGULATES', '!GRAZE! + !HORSE_BURRO! + !ELK!', 'PYTHON3')"
   ]
  },
  {
   "cell_type": "markdown",
   "metadata": {},
   "source": [
    "### Wetlands\n",
    "\n",
    "Wet meadows and montane riparian == meadow; palustrine forests == pf. These are all affected by:\n",
    "- Horse/burros\n",
    "- Cows/sheep\n",
    "\n",
    "Currently we have ovevrlap between meadow and pf features. Need to refine meadow selection - can't include 'palustrine forest'"
   ]
  },
  {
   "cell_type": "code",
   "execution_count": null,
   "metadata": {},
   "outputs": [],
   "source": [
    "arcpy.AddField_management(wet, 'GRAZE', 'LONG')\n",
    "arcpy.AddField_management(wet, 'HORSE_BURRO', 'LONG')\n",
    "arcpy.AddField_management(wet, 'ELK', 'LONG')\n",
    "arcpy.CalculateField_management(wet, 'GRAZE', 0, 'PYTHON3')\n",
    "arcpy.CalculateField_management(wet, 'HORSE_BURRO', 0, 'PYTHON3')\n",
    "arcpy.CalculateField_management(wet, 'ELK', 0, 'PYTHON3')\n",
    "print([f.name for f in arcpy.ListFields(wet)])"
   ]
  },
  {
   "cell_type": "code",
   "execution_count": null,
   "metadata": {},
   "outputs": [],
   "source": [
    "# Palustrine - Aquatic, Emergent, Meadow\n",
    "# Affected by cow, sheep, and horse/burrow\n",
    "# Impacts from sheep and cow grazing\n",
    "where = \"WET_TYPE = 'Palustrine' AND WET_SUBTYPE IN ('aquatic', 'emergent', 'meadow')\"\n",
    "aqua = arcpy.SelectLayerByAttribute_management(wet, 'NEW_SELECTION', where) # Select aquatic, emergent, meadow\n",
    "int(arcpy.GetCount_management(aqua)[0]) \n",
    "aqua_select = arcpy.SelectLayerByLocation_management(aqua, 'INTERSECT', graze, '', 'SUBSET_SELECTION') # sub-select grazing\n",
    "int(arcpy.GetCount_management(aqua_select)[0]) \n",
    "arcpy.CalculateField_management(aqua_select, 'GRAZE', 1, 'PYTHON3')\n",
    "\n",
    "# Impacts from horse/burrow\n",
    "aqua = arcpy.SelectLayerByAttribute_management(wet, 'NEW_SELECTION', where) # Select aquatic, emergent, meadow\n",
    "int(arcpy.GetCount_management(aqua)[0]) \n",
    "aqua_select = arcpy.SelectLayerByLocation_management(aqua, 'INTERSECT', hma, '', 'SUBSET_SELECTION') # sub-select HMAs\n",
    "int(arcpy.GetCount_management(aqua_select)[0]) \n",
    "arcpy.CalculateField_management(aqua_select, 'HORSE_BURRO', 1, 'PYTHON3')"
   ]
  },
  {
   "cell_type": "code",
   "execution_count": null,
   "metadata": {},
   "outputs": [],
   "source": [
    "# Riparian - montane\n",
    "# Cows and sheep\n",
    "where = \"WET_TYPE = 'Riparian' AND WET_SUBTYPE = 'montane'\"\n",
    "aqua = arcpy.SelectLayerByAttribute_management(wet, 'NEW_SELECTION', where) # Select montane riparian\n",
    "int(arcpy.GetCount_management(aqua)[0]) \n",
    "aqua_select = arcpy.SelectLayerByLocation_management(aqua, 'INTERSECT', graze, '', 'SUBSET_SELECTION') # sub-select grazing\n",
    "int(arcpy.GetCount_management(aqua_select)[0]) \n",
    "arcpy.CalculateField_management(aqua_select, 'GRAZE', 1, 'PYTHON3')\n",
    "\n",
    "# Horse and burro\n",
    "aqua = arcpy.SelectLayerByAttribute_management(wet, 'NEW_SELECTION', where) # Select montane riparian\n",
    "aqua_select = arcpy.SelectLayerByLocation_management(aqua, 'INTERSECT', hma, '', 'SUBSET_SELECTION') # sub-select grazing\n",
    "int(arcpy.GetCount_management(aqua_select)[0]) \n",
    "arcpy.CalculateField_management(aqua_select, 'HORSE_BURRO', 1, 'PYTHON3')"
   ]
  },
  {
   "cell_type": "code",
   "execution_count": null,
   "metadata": {},
   "outputs": [],
   "source": [
    "# Sum up ungulate impacts in WETLANDS\n",
    "arcpy.AddField_management(wet, 'UNGULATES', 'LONG')\n",
    "arcpy.CalculateField_management(wet, 'UNGULATES', '!GRAZE! + !HORSE_BURRO! + !ELK!', 'PYTHON3')"
   ]
  },
  {
   "cell_type": "markdown",
   "metadata": {},
   "source": [
    "### Springs\n",
    "\n",
    "Affected by:\n",
    "- Horse/burros\n",
    "- Cows/sheep\n",
    "\n",
    "Not considering whether springs are fenced - data not available on statewide scales"
   ]
  },
  {
   "cell_type": "code",
   "execution_count": null,
   "metadata": {},
   "outputs": [],
   "source": [
    "arcpy.AddField_management(springs, 'GRAZE', 'LONG')\n",
    "arcpy.AddField_management(springs, 'HORSE_BURRO', 'LONG')\n",
    "arcpy.AddField_management(springs, 'ELK', 'LONG')\n",
    "arcpy.CalculateField_management(springs, 'GRAZE', 0, 'PYTHON3')\n",
    "arcpy.CalculateField_management(springs, 'HORSE_BURRO', 0, 'PYTHON3')\n",
    "arcpy.CalculateField_management(springs, 'ELK', 0, 'PYTHON3')\n",
    "print([f.name for f in arcpy.ListFields(springs)])"
   ]
  },
  {
   "cell_type": "code",
   "execution_count": null,
   "metadata": {},
   "outputs": [],
   "source": [
    "# Attribute springs affected by horses/burrows and/or sheep/cows\n",
    "# Sheep/cows\n",
    "spr_select = arcpy.SelectLayerByLocation_management(springs, 'INTERSECT', graze, '', 'NEW_SELECTION') # sub-select grazing\n",
    "int(arcpy.GetCount_management(spr_select)[0]) \n",
    "arcpy.CalculateField_management(spr_select, 'GRAZE', 1, 'PYTHON3')\n",
    "\n",
    "# Horses/burros\n",
    "spr_select = arcpy.SelectLayerByLocation_management(springs, 'INTERSECT', hma, '', 'NEW_SELECTION') # sub-select HMAs\n",
    "int(arcpy.GetCount_management(spr_select)[0]) \n",
    "arcpy.CalculateField_management(spr_select, 'HORSE_BURRO', 1, 'PYTHON3')"
   ]
  },
  {
   "cell_type": "code",
   "execution_count": null,
   "metadata": {},
   "outputs": [],
   "source": [
    "# Sum up ungulate impacts in SPRINGS\n",
    "arcpy.AddField_management(springs, 'UNGULATES', 'LONG')\n",
    "arcpy.CalculateField_management(springs, 'UNGULATES', '!GRAZE! + !HORSE_BURRO! + !ELK!', 'PYTHON3')"
   ]
  },
  {
   "cell_type": "markdown",
   "metadata": {},
   "source": [
    "### Rivers & Streams\n",
    "\n",
    "Affected by:\n",
    "- Horse/burros\n",
    "- Cows/sheep"
   ]
  },
  {
   "cell_type": "code",
   "execution_count": null,
   "metadata": {},
   "outputs": [],
   "source": [
    "arcpy.AddField_management(rs, 'GRAZE', 'LONG')\n",
    "arcpy.AddField_management(rs, 'HORSE_BURRO', 'LONG')\n",
    "arcpy.AddField_management(rs, 'ELK', 'LONG')\n",
    "arcpy.CalculateField_management(rs, 'GRAZE', 0, 'PYTHON3')\n",
    "arcpy.CalculateField_management(rs, 'HORSE_BURRO', 0, 'PYTHON3')\n",
    "arcpy.CalculateField_management(rs, 'ELK', 0, 'PYTHON3')\n",
    "[f.name for f in arcpy.ListFields(rs)]"
   ]
  },
  {
   "cell_type": "code",
   "execution_count": null,
   "metadata": {},
   "outputs": [],
   "source": [
    "# Attribute rivers/streams affected by horses/burrows and/or sheep/cows\n",
    "# Sheep/cows\n",
    "rs_select = arcpy.SelectLayerByLocation_management(rs, 'INTERSECT', graze, '', 'NEW_SELECTION') # sub-select grazing\n",
    "int(arcpy.GetCount_management(rs_select)[0]) \n",
    "arcpy.CalculateField_management(rs_select, 'GRAZE', 1, 'PYTHON3')\n",
    "\n",
    "# Horses/burros\n",
    "rs_select = arcpy.SelectLayerByLocation_management(rs, 'INTERSECT', hma, '', 'NEW_SELECTION') # sub-select HMAs\n",
    "int(arcpy.GetCount_management(rs_select)[0]) \n",
    "arcpy.CalculateField_management(rs_select, 'HORSE_BURRO', 1, 'PYTHON3')"
   ]
  },
  {
   "cell_type": "code",
   "execution_count": null,
   "metadata": {},
   "outputs": [],
   "source": [
    "# Sum up ungulate impacts in SPRINGS\n",
    "arcpy.AddField_management(rs, 'UNGULATES', 'LONG')\n",
    "arcpy.CalculateField_management(rs, 'UNGULATES', '!GRAZE! + !HORSE_BURRO! + !ELK!', 'PYTHON3')"
   ]
  },
  {
   "cell_type": "markdown",
   "metadata": {},
   "source": [
    "### Lakes & Playas\n",
    "\n",
    "Not affected by ungulates"
   ]
  },
  {
   "cell_type": "code",
   "execution_count": null,
   "metadata": {},
   "outputs": [],
   "source": [
    "arcpy.AddField_management(lp, 'UNGULATES', 'LONG')\n",
    "arcpy.CalculateField_management(lp, 'UNGULATES', 0, 'PYTHON3')"
   ]
  },
  {
   "cell_type": "markdown",
   "metadata": {},
   "source": [
    "## Normalize Ungulate Scores\n",
    "\n",
    "Ungulate score is a STRESSOR only - it's a current impact.\n",
    "\n",
    "Divide UNGULATES value by 2 - the maximum score of ungulate impacts for any feature.\n"
   ]
  },
  {
   "cell_type": "code",
   "execution_count": null,
   "metadata": {},
   "outputs": [],
   "source": [
    "# GDE layers\n",
    "#phr = r'path_to_folder\\NV_iGDE_MMDDYY.gdb\\Phreatophytes'\n",
    "#wet = r'path_to_folder\\NV_iGDE_MMDDYY.gdb\\Wetlands'\n",
    "#springs = r'path_to_folder\\NV_iGDE_MMDDYY.gdb\\Springs'\n",
    "#rs = r'path_to_folder\\NV_iGDE_MMDDYY.gdb\\Rivers_Streams'\n",
    "#lp = r'path_to_folder\\NV_iGDE_MMDDYY.gdb\\Lakes_Playas'\n",
    "\n",
    "phr = r'K:\\GIS3\\Projects\\GDE\\Geospatial\\NV_iGDE_assess.gdb\\Phreatophyte_Explode'\n",
    "wet = r'K:\\GIS3\\Projects\\GDE\\Geospatial\\NV_iGDE_assess.gdb\\Wetlands'\n",
    "springs = r'K:\\GIS3\\Projects\\GDE\\Geospatial\\NV_iGDE_assess.gdb\\Springs'\n",
    "lp = r'K:\\GIS3\\Projects\\GDE\\Geospatial\\NV_iGDE_assess.gdb\\Lakes_Playas'\n",
    "rs = r'K:\\GIS3\\Projects\\GDE\\Geospatial\\NV_iGDE_assess.gdb\\Rivers_Streams'\n",
    "\n",
    "arcpy.AddField_management(springs, 'UnguStr', 'DOUBLE')\n",
    "arcpy.CalculateField_management(springs, 'UnguStr', '!UNGULATES!/2', 'PYTHON3')\n",
    "\n",
    "arcpy.AddField_management(wet, 'UnguStr', 'DOUBLE')\n",
    "arcpy.CalculateField_management(wet, 'UnguStr', '!UNGULATES!/2', 'PYTHON3')\n",
    "\n",
    "arcpy.AddField_management(phr, 'UnguStr', 'DOUBLE')\n",
    "arcpy.CalculateField_management(phr, 'UnguStr', '!UNGULATES!/2', 'PYTHON3')\n",
    "\n",
    "arcpy.AddField_management(rs, 'UnguStr', 'DOUBLE')\n",
    "arcpy.CalculateField_management(rs, 'UnguStr', '!UNGULATES!/2', 'PYTHON3')\n",
    "\n",
    "arcpy.AddField_management(lp, 'UnguStr', 'DOUBLE')\n",
    "arcpy.CalculateField_management(lp, 'UnguStr', '!UNGULATES!/2', 'PYTHON3')"
   ]
  }
 ],
 "metadata": {
  "kernelspec": {
   "display_name": "Python 3",
   "language": "python",
   "name": "python3"
  },
  "language_info": {
   "codemirror_mode": {
    "name": "ipython",
    "version": 3
   },
   "file_extension": ".py",
   "mimetype": "text/x-python",
   "name": "python",
   "nbconvert_exporter": "python",
   "pygments_lexer": "ipython3",
   "version": "3.9.11"
  }
 },
 "nbformat": 4,
 "nbformat_minor": 2
}
